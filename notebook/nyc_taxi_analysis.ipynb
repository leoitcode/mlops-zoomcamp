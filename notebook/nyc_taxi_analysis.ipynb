{
 "cells": [
  {
   "cell_type": "markdown",
   "id": "3c63b6fd-ac5f-491d-a396-d452729e7bc0",
   "metadata": {},
   "source": [
    "# Duration Prediction\n",
    "\n",
    "## Purpose\n",
    "Taxi Data Prediction\n",
    "\n",
    "## Notebook\n",
    "#### nyc_taxi_analysis.ipynb\n",
    "- Data Scrapping\n",
    "- Data Fomart\n",
    "- Feature Engineering\n",
    "- Training\n",
    "\n",
    "## Methodology\n",
    "- Pandas\n",
    "- Numpy\n",
    "- scikit-learn\n",
    "\n",
    "## Versioning\n",
    "- Conda (Notebook Versioning Packages)\n",
    "\n",
    "## Notable TODOs:\n",
    "--\n",
    "\n",
    "## Results:\n",
    "RSME: 5.766549051507733\n",
    "\n",
    "## Suggested next steps:\n",
    "--"
   ]
  },
  {
   "cell_type": "markdown",
   "id": "58b820cf-341a-4125-878a-3d13a1bd2a9d",
   "metadata": {
    "tags": []
   },
   "source": [
    "# Setup"
   ]
  },
  {
   "cell_type": "markdown",
   "id": "4f5240ba-7769-4848-8072-4075702f9a87",
   "metadata": {
    "tags": []
   },
   "source": [
    "### System Infomation"
   ]
  },
  {
   "cell_type": "code",
   "execution_count": 1,
   "id": "74612db7-54d9-4e33-a403-d0ea0ca97538",
   "metadata": {
    "execution": {
     "iopub.execute_input": "2023-05-18T12:34:46.268752Z",
     "iopub.status.busy": "2023-05-18T12:34:46.268563Z",
     "iopub.status.idle": "2023-05-18T12:34:48.358073Z",
     "shell.execute_reply": "2023-05-18T12:34:48.357566Z",
     "shell.execute_reply.started": "2023-05-18T12:34:46.268738Z"
    },
    "tags": []
   },
   "outputs": [
    {
     "name": "stdout",
     "output_type": "stream",
     "text": [
      "## GLOBAL INFO\n",
      "Conda Python Version:  3.10.9.final.0\n",
      "Conda Base Path: /home/leobit/miniconda3\n",
      "Jupyter Lab Version: 3.5.3\n",
      "Enabled Extensions:\n"
     ]
    },
    {
     "name": "stderr",
     "output_type": "stream",
     "text": [
      "Config option `kernel_spec_manager_class` not recognized by `ListLabExtensionsApp`.\n",
      "[W 2023-05-18 09:34:47.808 LabApp] Config option `kernel_spec_manager_class` not recognized by `LabApp`.\n",
      "JupyterLab v3.5.3\n",
      "/home/leobit/miniconda3/share/jupyter/labextensions\n",
      "        jupyterlab-system-monitor v0.8.0 \u001b[32menabled\u001b[0m \u001b[32mOK\u001b[0m (python, jupyterlab-system-monitor)\n",
      "        jupyterlab-execute-time v2.3.1 \u001b[32menabled\u001b[0m \u001b[32mOK\u001b[0m (python, jupyterlab_execute_time)\n",
      "        nbdime-jupyterlab v2.1.1 \u001b[32menabled\u001b[0m \u001b[32mOK\u001b[0m\n",
      "        jupyterlab-topbar-extension v0.6.1 \u001b[32menabled\u001b[0m \u001b[32mOK\u001b[0m (python, jupyterlab-topbar)\n",
      "        @krassowski/jupyterlab-lsp v3.10.2 \u001b[32menabled\u001b[0m \u001b[32mOK\u001b[0m (python, jupyterlab-lsp)\n",
      "        @lckr/jupyterlab_variableinspector v3.0.9 \u001b[32menabled\u001b[0m \u001b[32mOK\u001b[0m (python, lckr_jupyterlab_variableinspector)\n",
      "        @jupyterlab/git v0.41.0 \u001b[32menabled\u001b[0m \u001b[32mOK\u001b[0m (python, jupyterlab-git)\n",
      "        @jupyter-widgets/jupyterlab-manager v3.0.0 \u001b[32menabled\u001b[0m \u001b[32mOK\u001b[0m (python, jupyterlab_widgets)\n",
      "        @jupyter-server/resource-usage v0.7.2 \u001b[32menabled\u001b[0m \u001b[32mOK\u001b[0m (python, jupyter-resource-usage)\n",
      "        @elyra/code-snippet-extension v3.14.3 \u001b[32menabled\u001b[0m \u001b[32mOK\u001b[0m\n",
      "        @elyra/script-debugger-extension v3.14.3 \u001b[32menabled\u001b[0m \u001b[32mOK\u001b[0m\n",
      "        @elyra/python-editor-extension v3.14.3 \u001b[32menabled\u001b[0m \u001b[32mOK\u001b[0m\n",
      "        @elyra/theme-extension v3.14.3 \u001b[32menabled\u001b[0m \u001b[32mOK\u001b[0m\n",
      "        @elyra/code-viewer-extension v3.14.3 \u001b[32menabled\u001b[0m \u001b[32mOK\u001b[0m\n",
      "        @elyra/scala-editor-extension v3.14.3 \u001b[32menabled\u001b[0m \u001b[32mOK\u001b[0m\n",
      "        @elyra/metadata-extension v3.14.3 \u001b[32menabled\u001b[0m \u001b[32mOK\u001b[0m\n",
      "        @elyra/r-editor-extension v3.14.3 \u001b[32menabled\u001b[0m \u001b[32mOK\u001b[0m\n",
      "        @elyra/pipeline-editor-extension v3.14.3 \u001b[32menabled\u001b[0m \u001b[32mOK\u001b[0m\n",
      "\n",
      "Other labextensions (built into JupyterLab)\n",
      "   app dir: /home/leobit/miniconda3/share/jupyter/lab\n",
      "        @hokyjack/jupyterlab-monokai-plus v0.1.4 \u001b[32menabled\u001b[0m \u001b[32mOK\u001b[0m\n",
      "\n",
      "\n",
      "Disabled extensions:\n",
      "    @jupyterlab/launcher-extension (all plugins)\n"
     ]
    },
    {
     "name": "stdout",
     "output_type": "stream",
     "text": [
      "\n",
      "## ENVIRONMENT INFO\n",
      "Environment Python Version: Python 3.10.11\n",
      "/home/leobit/miniconda3/envs/cond_mlopszoomcamp_env/bin/python\n",
      "Active Environment:  cond_mlopszoomcamp_env\n"
     ]
    }
   ],
   "source": [
    "%%bash\n",
    "# Variables\n",
    "BASE_ENV_PATH=$(conda info -a |\\\n",
    "                grep -i \"CONDA_ROOT\" |\\\n",
    "                cut -d \":\" -f 2 |\\\n",
    "                xargs echo |\\\n",
    "                sed 's/ *$//g')\n",
    "JUPY_PATH=\"$BASE_ENV_PATH/bin/jupyter\"\n",
    "JUPYLAB_VER=$(echo $($JUPY_PATH lab --version))\n",
    "\n",
    "## System Info\n",
    "printf \"## GLOBAL INFO\"\n",
    "# System Python Version\n",
    "printf \"\\nConda Python Version: \"\n",
    "conda info | grep -i \"python version\" | cut -d \":\" -f 2\n",
    "# Conda Base\n",
    "printf \"Conda Base Path: $BASE_ENV_PATH\"\n",
    "# Jupyter Lab Version\n",
    "printf \"\\nJupyter Lab Version: $JUPYLAB_VER\"\n",
    "# Jupyter Lab Extensions\n",
    "printf \"\\nEnabled Extensions:\"\n",
    "echo ''\n",
    "echo $($JUPY_PATH labextension list)\n",
    "\n",
    "## Environment Info\n",
    "printf \"## ENVIRONMENT INFO\"\n",
    "# Python Env Path\n",
    "printf \"\\nEnvironment Python Version: \"\n",
    "python --version||\n",
    "# Python Env Path\n",
    "printf \"Environment Python Path: \"\n",
    "which python\n",
    "# Active Mamba Environment\n",
    "printf \"Active Environment: \"\n",
    "conda info -a | grep -i \"active environment\" | cut -d \":\" -f 2"
   ]
  },
  {
   "cell_type": "markdown",
   "id": "2fb721b3-95c8-451b-b860-e27e6aecfe2e",
   "metadata": {},
   "source": [
    "### Path"
   ]
  },
  {
   "cell_type": "code",
   "execution_count": 2,
   "id": "6b7ea7c0-700c-4cb3-9862-d284fc953870",
   "metadata": {
    "execution": {
     "iopub.execute_input": "2023-05-18T12:34:54.023513Z",
     "iopub.status.busy": "2023-05-18T12:34:54.023323Z",
     "iopub.status.idle": "2023-05-18T12:34:54.027389Z",
     "shell.execute_reply": "2023-05-18T12:34:54.027045Z",
     "shell.execute_reply.started": "2023-05-18T12:34:54.023499Z"
    },
    "tags": []
   },
   "outputs": [],
   "source": [
    "import sys\n",
    "from pathlib import Path\n",
    "\n",
    "project_paths = ['data', 'notebook', 'scripts', 'model', 'src', 'pipeline']\n",
    "\n",
    "B_PATH = Path.cwd().parents[0]\n",
    "\n",
    "# Create Project Folders and Set Paths\n",
    "for _path in project_paths:\n",
    "    (B_PATH / _path).mkdir(exist_ok=True)\n",
    "    if not globals().get(f\"{_path[:1]}_path\".upper()):\n",
    "        globals()[f\"{_path[:1]}_path\".upper()] = B_PATH / _path\n",
    "    else:\n",
    "        globals()[f\"{_path}_path\"] = B_PATH / _path\n",
    "\n",
    "# Custom Paths\n",
    "RAW_DT_PATH = D_PATH / 'raw'\n",
    "IMG_DT_PATH = D_PATH / 'images'\n",
    "ASSETS_PATH = B_PATH / 'assets'\n",
    "\n",
    "# Script Path\n",
    "sys.path.append(S_PATH.as_posix())"
   ]
  },
  {
   "cell_type": "markdown",
   "id": "d6f788d2-02a2-4c2a-aeee-4765145df73c",
   "metadata": {
    "tags": []
   },
   "source": [
    "### Installation"
   ]
  },
  {
   "cell_type": "code",
   "execution_count": 4,
   "id": "1c32e79c-948b-4995-8fc0-d0fa970e43a6",
   "metadata": {
    "collapsed": true,
    "execution": {
     "iopub.execute_input": "2023-05-18T12:37:02.046052Z",
     "iopub.status.busy": "2023-05-18T12:37:02.045930Z",
     "iopub.status.idle": "2023-05-18T12:37:06.418569Z",
     "shell.execute_reply": "2023-05-18T12:37:06.418199Z",
     "shell.execute_reply.started": "2023-05-18T12:37:02.046044Z"
    },
    "jupyter": {
     "outputs_hidden": true
    },
    "tags": []
   },
   "outputs": [
    {
     "name": "stdout",
     "output_type": "stream",
     "text": [
      "Transaction\n",
      "\n",
      "  Prefix: /home/leobit/miniconda3/envs/cond_mlopszoomcamp_env\n",
      "\n",
      "  Updating specs:\n",
      "\n",
      "   - pandas\n",
      "   - ca-certificates\n",
      "   - openssl\n",
      "\n",
      "\n",
      "  Package          Version  Build            Channel                  Size\n",
      "────────────────────────────────────────────────────────────────────────────\n",
      "  Install:\n",
      "────────────────────────────────────────────────────────────────────────────\n",
      "\n",
      "  + blas               1.0  mkl              pkgs/main/linux-64     Cached\n",
      "  + bottleneck       1.3.5  py310ha9d4c09_0  pkgs/main/linux-64     Cached\n",
      "  + intel-openmp  2023.1.0  hdb19cb5_46305   pkgs/main/linux-64     Cached\n",
      "  + mkl           2023.1.0  h6d00ec8_46342   pkgs/main/linux-64     Cached\n",
      "  + mkl-service      2.4.0  py310h5eee18b_1  pkgs/main/linux-64     Cached\n",
      "  + mkl_fft          1.3.6  py310h1128e8f_1  pkgs/main/linux-64     Cached\n",
      "  + mkl_random       1.2.2  py310h1128e8f_1  pkgs/main/linux-64     Cached\n",
      "  + numexpr          2.8.4  py310h85018f9_1  pkgs/main/linux-64     Cached\n",
      "  + numpy           1.24.3  py310h5f9d8c6_1  pkgs/main/linux-64     Cached\n",
      "  + numpy-base      1.24.3  py310hb5e798b_1  pkgs/main/linux-64     Cached\n",
      "  + pandas           1.5.3  py310h1128e8f_0  pkgs/main/linux-64     Cached\n",
      "  + pytz            2022.7  py310h06a4308_0  pkgs/main/linux-64     Cached\n",
      "  + tbb           2021.8.0  hdb19cb5_0       pkgs/main/linux-64     Cached\n",
      "\n",
      "  Summary:\n",
      "\n",
      "  Install: 13 packages\n",
      "\n",
      "  Total download: 0 B\n",
      "\n",
      "────────────────────────────────────────────────────────────────────────────\n",
      "\n",
      "\n",
      "Confirm changes: [Y/n] \n",
      "Looking for: ['pandas']\n",
      "\n",
      "\n",
      "Pinned packages:\n",
      "  - python 3.10.*\n",
      "\n",
      "\n",
      "\n",
      "Downloading and Extracting Packages\n",
      "\n",
      "Preparing transaction: ...working... done\n",
      "Verifying transaction: ...working... done\n",
      "Executing transaction: ...working... done\n"
     ]
    }
   ],
   "source": [
    "%%bash\n",
    "mamba install pandas\n",
    "mamba install -y fastparquet\n",
    "pip install sweetviz\n",
    "mamba install -y pyarrow\n",
    "mamba install -y seaborn\n",
    "mamba install -y scikit-learn"
   ]
  },
  {
   "cell_type": "code",
   "execution_count": 199,
   "id": "44253998-7989-4d71-bcaa-38112f9cb08d",
   "metadata": {
    "collapsed": true,
    "execution": {
     "iopub.execute_input": "2023-05-18T16:10:24.001231Z",
     "iopub.status.busy": "2023-05-18T16:10:24.001080Z",
     "iopub.status.idle": "2023-05-18T16:10:28.917112Z",
     "shell.execute_reply": "2023-05-18T16:10:28.916357Z",
     "shell.execute_reply.started": "2023-05-18T16:10:24.001221Z"
    },
    "jupyter": {
     "outputs_hidden": true
    },
    "tags": []
   },
   "outputs": [
    {
     "name": "stdout",
     "output_type": "stream",
     "text": [
      "\n",
      "                  __    __    __    __\n",
      "                 /  \\  /  \\  /  \\  /  \\\n",
      "                /    \\/    \\/    \\/    \\\n",
      "███████████████/  /██/  /██/  /██/  /████████████████████████\n",
      "              /  / \\   / \\   / \\   / \\  \\____\n",
      "             /  /   \\_/   \\_/   \\_/   \\    o \\__,\n",
      "            / _/                       \\_____/  `\n",
      "            |/\n",
      "        ███╗   ███╗ █████╗ ███╗   ███╗██████╗  █████╗\n",
      "        ████╗ ████║██╔══██╗████╗ ████║██╔══██╗██╔══██╗\n",
      "        ██╔████╔██║███████║██╔████╔██║██████╔╝███████║\n",
      "        ██║╚██╔╝██║██╔══██║██║╚██╔╝██║██╔══██╗██╔══██║\n",
      "        ██║ ╚═╝ ██║██║  ██║██║ ╚═╝ ██║██████╔╝██║  ██║\n",
      "        ╚═╝     ╚═╝╚═╝  ╚═╝╚═╝     ╚═╝╚═════╝ ╚═╝  ╚═╝\n",
      "\n",
      "        mamba (1.1.0) supported by @QuantStack\n",
      "\n",
      "        GitHub:  https://github.com/mamba-org/mamba\n",
      "        Twitter: https://twitter.com/QuantStack\n",
      "\n",
      "█████████████████████████████████████████████████████████████\n",
      "\n",
      "\n",
      "Looking for: ['scikit-learn']\n",
      "\n",
      "\u001b[?25l\u001b[2K\u001b[0G[+] 0.0s\n",
      "\u001b[2K\u001b[1A\u001b[2K\u001b[0G[+] 0.1s\n",
      "pkgs/main/linux-64 \u001b[90m━━━━━━━━━━━╸\u001b[0m\u001b[33m━━━━━━━━━━━━━\u001b[0m   0.0 B /  ??.?MB @  ??.?MB/s  0.1s\n",
      "pkgs/main/noarch   \u001b[33m━━━━━━━━╸\u001b[0m\u001b[90m━━━━━━━━━━━━━━━━\u001b[0m   0.0 B /  ??.?MB @  ??.?MB/s  0.1s\n",
      "pkgs/r/linux-64    \u001b[33m━━━━━━━━━━━╸\u001b[0m\u001b[90m━━━━━━━━━━━━━\u001b[0m   0.0 B /  ??.?MB @  ??.?MB/s  0.1s\n",
      "pkgs/r/noarch      \u001b[90m━━━╸\u001b[0m\u001b[33m━━━━━━━━━━━━━━━╸\u001b[0m\u001b[90m━━━━━\u001b[0m   0.0 B /  ??.?MB @  ??.?MB/s  0.1s\u001b[2K\u001b[1A\u001b[2K\u001b[1A\u001b[2K\u001b[1A\u001b[2K\u001b[1A\u001b[2K\u001b[0Gpkgs/main/linux-64                                            No change\n",
      "pkgs/r/linux-64                                               No change\n",
      "pkgs/main/noarch                                              No change\n",
      "pkgs/r/noarch                                                 No change\n",
      "\u001b[?25h\n",
      "Pinned packages:\n",
      "  - python 3.10.*\n",
      "\n",
      "\n",
      "Transaction\n",
      "\n",
      "  Prefix: /home/leobit/miniconda3/envs/cond_mlopszoomcamp_env\n",
      "\n",
      "  Updating specs:\n",
      "\n",
      "   - scikit-learn\n",
      "   - ca-certificates\n",
      "   - openssl\n",
      "\n",
      "\n",
      "  Package                Version  Build               Channel                  Size\n",
      "─────────────────────────────────────────────────────────────────────────────────────\n",
      "  Install:\n",
      "─────────────────────────────────────────────────────────────────────────────────────\n",
      "\n",
      "  \u001b[32m+ appdirs           \u001b[0m     1.4.4  pyhd3eb1b0_0        pkgs/main/noarch         12kB\n",
      "  \u001b[32m+ brotlipy          \u001b[0m     0.7.0  py310h7f8727e_1002  pkgs/main/linux-64\u001b[32m     Cached\u001b[0m\n",
      "  \u001b[32m+ certifi           \u001b[0m  2023.5.7  py310h06a4308_0     pkgs/main/linux-64      155kB\n",
      "  \u001b[32m+ cffi              \u001b[0m    1.15.1  py310h5eee18b_3     pkgs/main/linux-64\u001b[32m     Cached\u001b[0m\n",
      "  \u001b[32m+ charset-normalizer\u001b[0m     2.0.4  pyhd3eb1b0_0        pkgs/main/noarch  \u001b[32m     Cached\u001b[0m\n",
      "  \u001b[32m+ cryptography      \u001b[0m    39.0.1  py310h9ce1e76_0     pkgs/main/linux-64\u001b[32m     Cached\u001b[0m\n",
      "  \u001b[32m+ idna              \u001b[0m       3.4  py310h06a4308_0     pkgs/main/linux-64\u001b[32m     Cached\u001b[0m\n",
      "  \u001b[32m+ joblib            \u001b[0m     1.1.1  py310h06a4308_0     pkgs/main/linux-64      395kB\n",
      "  \u001b[32m+ libgfortran-ng    \u001b[0m    11.2.0  h00389a5_1          pkgs/main/linux-64       20kB\n",
      "  \u001b[32m+ libgfortran5      \u001b[0m    11.2.0  h1234567_1          pkgs/main/linux-64        2MB\n",
      "  \u001b[32m+ pooch             \u001b[0m     1.4.0  pyhd3eb1b0_0        pkgs/main/noarch         42kB\n",
      "  \u001b[32m+ pycparser         \u001b[0m      2.21  pyhd3eb1b0_0        pkgs/main/noarch  \u001b[32m     Cached\u001b[0m\n",
      "  \u001b[32m+ pyopenssl         \u001b[0m    23.0.0  py310h06a4308_0     pkgs/main/linux-64\u001b[32m     Cached\u001b[0m\n",
      "  \u001b[32m+ pysocks           \u001b[0m     1.7.1  py310h06a4308_0     pkgs/main/linux-64\u001b[32m     Cached\u001b[0m\n",
      "  \u001b[32m+ requests          \u001b[0m    2.29.0  py310h06a4308_0     pkgs/main/linux-64       99kB\n",
      "  \u001b[32m+ scikit-learn      \u001b[0m     1.2.2  py310h6a678d5_0     pkgs/main/linux-64        8MB\n",
      "  \u001b[32m+ scipy             \u001b[0m    1.10.1  py310h5f9d8c6_1     pkgs/main/linux-64       25MB\n",
      "  \u001b[32m+ threadpoolctl     \u001b[0m     2.2.0  pyh0d69192_0        pkgs/main/noarch         17kB\n",
      "  \u001b[32m+ urllib3           \u001b[0m   1.26.15  py310h06a4308_0     pkgs/main/linux-64\u001b[32m     Cached\u001b[0m\n",
      "\n",
      "  Summary:\n",
      "\n",
      "  Install: 19 packages\n",
      "\n",
      "  Total download: 36MB\n",
      "\n",
      "─────────────────────────────────────────────────────────────────────────────────────\n",
      "\n",
      "\n",
      "\u001b[?25l\u001b[2K\u001b[0G[+] 0.0s\n",
      "Downloading      \u001b[90m━━━━━━━━━━━━━━━━━━━━━━━\u001b[0m   0.0 B                            0.0s\n",
      "Extracting       \u001b[90m━━━━━━━━━━━━━━━━━━━━━━━\u001b[0m       0                            0.0s\u001b[2K\u001b[1A\u001b[2K\u001b[1A\u001b[2K\u001b[0G[+] 0.1s\n",
      "Downloading  (5) \u001b[33m╸\u001b[0m\u001b[90m━━━━━━━━━━━━━━━━━━━━━━\u001b[0m   0.0 B certifi                    0.0s\n",
      "Extracting       \u001b[90m━━━━━━━━━━━━━━━━━━━━━━━\u001b[0m       0                            0.0s\u001b[2K\u001b[1A\u001b[2K\u001b[1A\u001b[2K\u001b[0Gthreadpoolctl                                       16.7kB @  86.6kB/s  0.2s\n",
      "libgfortran-ng                                      20.2kB @ 102.0kB/s  0.2s\n",
      "[+] 0.2s\n",
      "Downloading  (5) \u001b[33m━━━━━━━━━━━━━━━━╸\u001b[0m\u001b[90m━━━━━━\u001b[0m  36.9kB certifi                    0.1s\n",
      "Extracting   (2) \u001b[33m━━━━━━━━━━━━━━╸\u001b[0m\u001b[90m━━━━━━━━\u001b[0m       0 libgfortran-ng             0.0s\u001b[2K\u001b[1A\u001b[2K\u001b[1A\u001b[2K\u001b[0G[+] 0.3s\n",
      "Downloading  (5) \u001b[33m━━━━━━━━━━━━━━━━╸\u001b[0m\u001b[90m━━━━━━\u001b[0m  36.9kB certifi                    0.2s\n",
      "Extracting       ━━━╸\u001b[33m━━━━╸\u001b[0m\u001b[90m━━━━━━━━━━━━━━\u001b[0m       2                            0.1s\u001b[2K\u001b[1A\u001b[2K\u001b[1A\u001b[2K\u001b[0Gappdirs                                             12.2kB @  40.3kB/s  0.1s\n",
      "certifi                                            155.4kB @ 470.8kB/s  0.3s\n",
      "pooch                                               42.1kB @ 124.7kB/s  0.0s\n",
      "[+] 0.4s\n",
      "Downloading  (5) \u001b[33m━━━━━━━━━━━━━━━━━━━━━━━\u001b[0m 715.4kB joblib                     0.3s\n",
      "Extracting       ━━━━━━━━━━╸\u001b[33m━━━━━━━━━━━━\u001b[0m       5                            0.1s\u001b[2K\u001b[1A\u001b[2K\u001b[1A\u001b[2K\u001b[0Gjoblib                                             395.2kB @ 817.6kB/s  0.5s\n",
      "[+] 0.5s\n",
      "Downloading  (4) ━╸\u001b[33m━━━━━━━━━━━━━━━━━━━━━\u001b[0m   3.5MB libgfortran5               0.4s\n",
      "Extracting   (1) ━━━━━━━━━━╸\u001b[33m━━╸\u001b[0m\u001b[90m━━━━━━━━━\u001b[0m       5 joblib                     0.1s\u001b[2K\u001b[1A\u001b[2K\u001b[1A\u001b[2K\u001b[0Glibgfortran5                                         2.1MB @   3.8MB/s  0.6s\n",
      "requests                                            99.2kB @ 172.0kB/s  0.2s\n",
      "[+] 0.6s\n",
      "Downloading  (2) ━╸\u001b[33m━━━━━━━━━━━━━━━━━━━━━\u001b[0m   5.0MB scikit-learn               0.5s\n",
      "Extracting       ━━━━━━━━━━━━━━━━━╸\u001b[33m━━━━━\u001b[0m       8                            0.2s\u001b[2K\u001b[1A\u001b[2K\u001b[1A\u001b[2K\u001b[0G[+] 0.7s\n",
      "Downloading  (2) ━━━━╸\u001b[33m━━━━━━━━━━━━━━━━━━\u001b[0m   8.0MB scikit-learn               0.6s\n",
      "Extracting       ━━━━━━━━━━━━━━━━━╸\u001b[33m━━━━━\u001b[0m       8                            0.2s\u001b[2K\u001b[1A\u001b[2K\u001b[1A\u001b[2K\u001b[0G[+] 0.8s\n",
      "Downloading  (2) ━━━━━━━╸\u001b[33m━━━━━━━━━━━━━━━\u001b[0m  13.2MB scikit-learn               0.7s\n",
      "Extracting       ━━━━━━━━━━━━━━━━━╸\u001b[33m━━━━━\u001b[0m       8                            0.2s\u001b[2K\u001b[1A\u001b[2K\u001b[1A\u001b[2K\u001b[0G[+] 0.9s\n",
      "Downloading  (2) ━━━━━━━━━━━╸\u001b[33m━━━━━━━━━━━\u001b[0m  19.0MB scikit-learn               0.8s\n",
      "Extracting       ━━━━━━━━━━━━━━━━━╸\u001b[33m━━━━━\u001b[0m       8                            0.2s\u001b[2K\u001b[1A\u001b[2K\u001b[1A\u001b[2K\u001b[0Gscipy                                               24.9MB @  25.1MB/s  0.8s\n",
      "[+] 1.0s\n",
      "Downloading  (1) ━━━━━━━━━━━━━━━━━━╸\u001b[33m━━━━\u001b[0m  31.0MB scikit-learn               0.9s\n",
      "Extracting   (1) ━━━━━━━━━━━━━━━━━╸\u001b[33m━━╸\u001b[0m\u001b[90m━━\u001b[0m       8 scipy                      0.2s\u001b[2K\u001b[1A\u001b[2K\u001b[1A\u001b[2K\u001b[0G[+] 1.1s\n",
      "Downloading  (1) ━━━━━━━━━━━━━━━━━━━━╸\u001b[33m━━\u001b[0m  33.6MB scikit-learn               1.0s\n",
      "Extracting   (1) ━━━━━━━━━━━━━━━━━╸\u001b[33m━━╸\u001b[0m\u001b[90m━━\u001b[0m       8 scipy                      0.3s\u001b[2K\u001b[1A\u001b[2K\u001b[1A\u001b[2K\u001b[0Gscikit-learn                                         8.1MB @   7.0MB/s  0.8s\n",
      "[+] 1.2s\n",
      "Downloading      ━━━━━━━━━━━━━━━━━━━━━━━  35.8MB                            1.1s\n",
      "Extracting   (1) ━━━━━━━━━━━━━━━━━━━╸\u001b[33m━━━\u001b[0m       9 scikit-learn               0.4s\u001b[2K\u001b[1A\u001b[2K\u001b[1A\u001b[2K\u001b[0G\u001b[?25h\n",
      "Downloading and Extracting Packages\n",
      "\n",
      "Preparing transaction: done\n",
      "Verifying transaction: done\n",
      "Executing transaction: / \n",
      "\n",
      "    Installed package of scikit-learn can be accelerated using scikit-learn-intelex.\n",
      "    More details are available here: https://intel.github.io/scikit-learn-intelex\n",
      "\n",
      "    For example:\n",
      "\n",
      "        $ conda install scikit-learn-intelex\n",
      "        $ python -m sklearnex my_application.py\n",
      "\n",
      "    \n",
      "\n",
      "done\n"
     ]
    }
   ],
   "source": [
    "!"
   ]
  },
  {
   "cell_type": "markdown",
   "id": "a5d9bcb9-f78c-455f-b8a8-a38911e94993",
   "metadata": {},
   "source": [
    "### Import"
   ]
  },
  {
   "cell_type": "code",
   "execution_count": 239,
   "id": "ff1c723b-821c-4ee2-992b-646365336b79",
   "metadata": {
    "execution": {
     "iopub.execute_input": "2023-05-18T16:34:45.855433Z",
     "iopub.status.busy": "2023-05-18T16:34:45.855231Z",
     "iopub.status.idle": "2023-05-18T16:34:45.864826Z",
     "shell.execute_reply": "2023-05-18T16:34:45.864509Z",
     "shell.execute_reply.started": "2023-05-18T16:34:45.855418Z"
    },
    "tags": []
   },
   "outputs": [],
   "source": [
    "import re\n",
    "import time\n",
    "import random\n",
    "import pandas as pd\n",
    "import pickle as pkl\n",
    "import pandas as pd\n",
    "import numpy as np\n",
    "import warnings\n",
    "import seaborn as sns\n",
    "import matplotlib.pyplot as plt\n",
    "from sklearn.feature_extraction import DictVectorizer\n",
    "from sklearn.linear_model import LinearRegression\n",
    "from sklearn.model_selection import train_test_split\n",
    "from sklearn.metrics import mean_squared_error\n",
    "from tqdm import tqdm"
   ]
  },
  {
   "cell_type": "markdown",
   "id": "c2e2445f-10b1-420e-82b5-2a10e04c64a9",
   "metadata": {},
   "source": [
    "### Configuration"
   ]
  },
  {
   "cell_type": "code",
   "execution_count": 100,
   "id": "f5b2c9fa-4593-48d2-bcd7-f46244e24ab1",
   "metadata": {
    "execution": {
     "iopub.execute_input": "2023-05-18T14:01:26.179338Z",
     "iopub.status.busy": "2023-05-18T14:01:26.179208Z",
     "iopub.status.idle": "2023-05-18T14:01:26.189014Z",
     "shell.execute_reply": "2023-05-18T14:01:26.188696Z",
     "shell.execute_reply.started": "2023-05-18T14:01:26.179329Z"
    },
    "tags": []
   },
   "outputs": [
    {
     "name": "stdout",
     "output_type": "stream",
     "text": [
      "The autoreload extension is already loaded. To reload it, use:\n",
      "  %reload_ext autoreload\n"
     ]
    }
   ],
   "source": [
    "# Autoreload extension\n",
    "if 'autoreload' not in get_ipython().extension_manager.loaded:\n",
    "    %load_ext autoreload\n",
    "%autoreload 2\n",
    "\n",
    "# Pandas\n",
    "pd.set_option('max_colwidth', 999)\n",
    "pd.set_option('display.max_columns', None)\n",
    "pd.set_option('display.max_rows', 200)\n",
    "pd.set_option('display.float_format', lambda x: '%.5f' % x)\n",
    "\n",
    "# Future Warning\n",
    "warnings.simplefilter(action='ignore', category=FutureWarning)\n",
    "warnings.filterwarnings('ignore')\n",
    "\n",
    "# # Torch Version\n",
    "# print(f\"Torch Version: {torch. __version__}\")\n",
    "\n",
    "# # Torch Cuda Available\n",
    "# torch.cuda.is_available()"
   ]
  },
  {
   "cell_type": "markdown",
   "id": "e880e8da-87e1-4404-a0d7-90cc60f7f31e",
   "metadata": {},
   "source": [
    "# Data Wrangling"
   ]
  },
  {
   "cell_type": "code",
   "execution_count": 174,
   "id": "93d546d3-dd7a-4d67-ac5e-b9efed54671d",
   "metadata": {
    "execution": {
     "iopub.execute_input": "2023-05-18T14:51:24.403600Z",
     "iopub.status.busy": "2023-05-18T14:51:24.403269Z",
     "iopub.status.idle": "2023-05-18T14:51:24.504826Z",
     "shell.execute_reply": "2023-05-18T14:51:24.504534Z",
     "shell.execute_reply.started": "2023-05-18T14:51:24.403574Z"
    },
    "tags": []
   },
   "outputs": [],
   "source": [
    "ytjan_df = pd.read_parquet(D_PATH / 'yellow_tripdata_2022-01.parquet')"
   ]
  },
  {
   "cell_type": "code",
   "execution_count": 158,
   "id": "3508d594-7f81-411e-aef1-2f3276fa2c9e",
   "metadata": {
    "execution": {
     "iopub.execute_input": "2023-05-18T14:39:24.231837Z",
     "iopub.status.busy": "2023-05-18T14:39:24.231597Z",
     "iopub.status.idle": "2023-05-18T14:39:24.250889Z",
     "shell.execute_reply": "2023-05-18T14:39:24.250523Z",
     "shell.execute_reply.started": "2023-05-18T14:39:24.231821Z"
    },
    "tags": []
   },
   "outputs": [
    {
     "data": {
      "text/html": [
       "<div>\n",
       "<style scoped>\n",
       "    .dataframe tbody tr th:only-of-type {\n",
       "        vertical-align: middle;\n",
       "    }\n",
       "\n",
       "    .dataframe tbody tr th {\n",
       "        vertical-align: top;\n",
       "    }\n",
       "\n",
       "    .dataframe thead th {\n",
       "        text-align: right;\n",
       "    }\n",
       "</style>\n",
       "<table border=\"1\" class=\"dataframe\">\n",
       "  <thead>\n",
       "    <tr style=\"text-align: right;\">\n",
       "      <th></th>\n",
       "      <th>VendorID</th>\n",
       "      <th>tpep_pickup_datetime</th>\n",
       "      <th>tpep_dropoff_datetime</th>\n",
       "      <th>passenger_count</th>\n",
       "      <th>trip_distance</th>\n",
       "      <th>RatecodeID</th>\n",
       "      <th>store_and_fwd_flag</th>\n",
       "      <th>PULocationID</th>\n",
       "      <th>DOLocationID</th>\n",
       "      <th>payment_type</th>\n",
       "      <th>fare_amount</th>\n",
       "      <th>extra</th>\n",
       "      <th>mta_tax</th>\n",
       "      <th>tip_amount</th>\n",
       "      <th>tolls_amount</th>\n",
       "      <th>improvement_surcharge</th>\n",
       "      <th>total_amount</th>\n",
       "      <th>congestion_surcharge</th>\n",
       "      <th>airport_fee</th>\n",
       "    </tr>\n",
       "  </thead>\n",
       "  <tbody>\n",
       "    <tr>\n",
       "      <th>0</th>\n",
       "      <td>1</td>\n",
       "      <td>2022-01-01 00:35:40</td>\n",
       "      <td>2022-01-01 00:53:29</td>\n",
       "      <td>2.00000</td>\n",
       "      <td>3.80000</td>\n",
       "      <td>1.00000</td>\n",
       "      <td>N</td>\n",
       "      <td>142</td>\n",
       "      <td>236</td>\n",
       "      <td>1</td>\n",
       "      <td>14.50000</td>\n",
       "      <td>3.00000</td>\n",
       "      <td>0.50000</td>\n",
       "      <td>3.65000</td>\n",
       "      <td>0.00000</td>\n",
       "      <td>0.30000</td>\n",
       "      <td>21.95000</td>\n",
       "      <td>2.50000</td>\n",
       "      <td>0.00000</td>\n",
       "    </tr>\n",
       "    <tr>\n",
       "      <th>1</th>\n",
       "      <td>1</td>\n",
       "      <td>2022-01-01 00:33:43</td>\n",
       "      <td>2022-01-01 00:42:07</td>\n",
       "      <td>1.00000</td>\n",
       "      <td>2.10000</td>\n",
       "      <td>1.00000</td>\n",
       "      <td>N</td>\n",
       "      <td>236</td>\n",
       "      <td>42</td>\n",
       "      <td>1</td>\n",
       "      <td>8.00000</td>\n",
       "      <td>0.50000</td>\n",
       "      <td>0.50000</td>\n",
       "      <td>4.00000</td>\n",
       "      <td>0.00000</td>\n",
       "      <td>0.30000</td>\n",
       "      <td>13.30000</td>\n",
       "      <td>0.00000</td>\n",
       "      <td>0.00000</td>\n",
       "    </tr>\n",
       "    <tr>\n",
       "      <th>2</th>\n",
       "      <td>2</td>\n",
       "      <td>2022-01-01 00:53:21</td>\n",
       "      <td>2022-01-01 01:02:19</td>\n",
       "      <td>1.00000</td>\n",
       "      <td>0.97000</td>\n",
       "      <td>1.00000</td>\n",
       "      <td>N</td>\n",
       "      <td>166</td>\n",
       "      <td>166</td>\n",
       "      <td>1</td>\n",
       "      <td>7.50000</td>\n",
       "      <td>0.50000</td>\n",
       "      <td>0.50000</td>\n",
       "      <td>1.76000</td>\n",
       "      <td>0.00000</td>\n",
       "      <td>0.30000</td>\n",
       "      <td>10.56000</td>\n",
       "      <td>0.00000</td>\n",
       "      <td>0.00000</td>\n",
       "    </tr>\n",
       "    <tr>\n",
       "      <th>3</th>\n",
       "      <td>2</td>\n",
       "      <td>2022-01-01 00:25:21</td>\n",
       "      <td>2022-01-01 00:35:23</td>\n",
       "      <td>1.00000</td>\n",
       "      <td>1.09000</td>\n",
       "      <td>1.00000</td>\n",
       "      <td>N</td>\n",
       "      <td>114</td>\n",
       "      <td>68</td>\n",
       "      <td>2</td>\n",
       "      <td>8.00000</td>\n",
       "      <td>0.50000</td>\n",
       "      <td>0.50000</td>\n",
       "      <td>0.00000</td>\n",
       "      <td>0.00000</td>\n",
       "      <td>0.30000</td>\n",
       "      <td>11.80000</td>\n",
       "      <td>2.50000</td>\n",
       "      <td>0.00000</td>\n",
       "    </tr>\n",
       "    <tr>\n",
       "      <th>4</th>\n",
       "      <td>2</td>\n",
       "      <td>2022-01-01 00:36:48</td>\n",
       "      <td>2022-01-01 01:14:20</td>\n",
       "      <td>1.00000</td>\n",
       "      <td>4.30000</td>\n",
       "      <td>1.00000</td>\n",
       "      <td>N</td>\n",
       "      <td>68</td>\n",
       "      <td>163</td>\n",
       "      <td>1</td>\n",
       "      <td>23.50000</td>\n",
       "      <td>0.50000</td>\n",
       "      <td>0.50000</td>\n",
       "      <td>3.00000</td>\n",
       "      <td>0.00000</td>\n",
       "      <td>0.30000</td>\n",
       "      <td>30.30000</td>\n",
       "      <td>2.50000</td>\n",
       "      <td>0.00000</td>\n",
       "    </tr>\n",
       "    <tr>\n",
       "      <th>...</th>\n",
       "      <td>...</td>\n",
       "      <td>...</td>\n",
       "      <td>...</td>\n",
       "      <td>...</td>\n",
       "      <td>...</td>\n",
       "      <td>...</td>\n",
       "      <td>...</td>\n",
       "      <td>...</td>\n",
       "      <td>...</td>\n",
       "      <td>...</td>\n",
       "      <td>...</td>\n",
       "      <td>...</td>\n",
       "      <td>...</td>\n",
       "      <td>...</td>\n",
       "      <td>...</td>\n",
       "      <td>...</td>\n",
       "      <td>...</td>\n",
       "      <td>...</td>\n",
       "      <td>...</td>\n",
       "    </tr>\n",
       "    <tr>\n",
       "      <th>2463926</th>\n",
       "      <td>2</td>\n",
       "      <td>2022-01-31 23:36:53</td>\n",
       "      <td>2022-01-31 23:42:51</td>\n",
       "      <td>NaN</td>\n",
       "      <td>1.32000</td>\n",
       "      <td>NaN</td>\n",
       "      <td>None</td>\n",
       "      <td>90</td>\n",
       "      <td>170</td>\n",
       "      <td>0</td>\n",
       "      <td>8.00000</td>\n",
       "      <td>0.00000</td>\n",
       "      <td>0.50000</td>\n",
       "      <td>2.39000</td>\n",
       "      <td>0.00000</td>\n",
       "      <td>0.30000</td>\n",
       "      <td>13.69000</td>\n",
       "      <td>NaN</td>\n",
       "      <td>NaN</td>\n",
       "    </tr>\n",
       "    <tr>\n",
       "      <th>2463927</th>\n",
       "      <td>2</td>\n",
       "      <td>2022-01-31 23:44:22</td>\n",
       "      <td>2022-01-31 23:55:01</td>\n",
       "      <td>NaN</td>\n",
       "      <td>4.19000</td>\n",
       "      <td>NaN</td>\n",
       "      <td>None</td>\n",
       "      <td>107</td>\n",
       "      <td>75</td>\n",
       "      <td>0</td>\n",
       "      <td>16.80000</td>\n",
       "      <td>0.00000</td>\n",
       "      <td>0.50000</td>\n",
       "      <td>4.35000</td>\n",
       "      <td>0.00000</td>\n",
       "      <td>0.30000</td>\n",
       "      <td>24.45000</td>\n",
       "      <td>NaN</td>\n",
       "      <td>NaN</td>\n",
       "    </tr>\n",
       "    <tr>\n",
       "      <th>2463928</th>\n",
       "      <td>2</td>\n",
       "      <td>2022-01-31 23:39:00</td>\n",
       "      <td>2022-01-31 23:50:00</td>\n",
       "      <td>NaN</td>\n",
       "      <td>2.10000</td>\n",
       "      <td>NaN</td>\n",
       "      <td>None</td>\n",
       "      <td>113</td>\n",
       "      <td>246</td>\n",
       "      <td>0</td>\n",
       "      <td>11.22000</td>\n",
       "      <td>0.00000</td>\n",
       "      <td>0.50000</td>\n",
       "      <td>2.00000</td>\n",
       "      <td>0.00000</td>\n",
       "      <td>0.30000</td>\n",
       "      <td>16.52000</td>\n",
       "      <td>NaN</td>\n",
       "      <td>NaN</td>\n",
       "    </tr>\n",
       "    <tr>\n",
       "      <th>2463929</th>\n",
       "      <td>2</td>\n",
       "      <td>2022-01-31 23:36:42</td>\n",
       "      <td>2022-01-31 23:48:45</td>\n",
       "      <td>NaN</td>\n",
       "      <td>2.92000</td>\n",
       "      <td>NaN</td>\n",
       "      <td>None</td>\n",
       "      <td>148</td>\n",
       "      <td>164</td>\n",
       "      <td>0</td>\n",
       "      <td>12.40000</td>\n",
       "      <td>0.00000</td>\n",
       "      <td>0.50000</td>\n",
       "      <td>0.00000</td>\n",
       "      <td>0.00000</td>\n",
       "      <td>0.30000</td>\n",
       "      <td>15.70000</td>\n",
       "      <td>NaN</td>\n",
       "      <td>NaN</td>\n",
       "    </tr>\n",
       "    <tr>\n",
       "      <th>2463930</th>\n",
       "      <td>2</td>\n",
       "      <td>2022-01-31 23:46:00</td>\n",
       "      <td>2022-02-01 00:13:00</td>\n",
       "      <td>NaN</td>\n",
       "      <td>8.94000</td>\n",
       "      <td>NaN</td>\n",
       "      <td>None</td>\n",
       "      <td>186</td>\n",
       "      <td>181</td>\n",
       "      <td>0</td>\n",
       "      <td>25.48000</td>\n",
       "      <td>0.00000</td>\n",
       "      <td>0.50000</td>\n",
       "      <td>6.28000</td>\n",
       "      <td>0.00000</td>\n",
       "      <td>0.30000</td>\n",
       "      <td>35.06000</td>\n",
       "      <td>NaN</td>\n",
       "      <td>NaN</td>\n",
       "    </tr>\n",
       "  </tbody>\n",
       "</table>\n",
       "<p>2463931 rows × 19 columns</p>\n",
       "</div>"
      ],
      "text/plain": [
       "         VendorID tpep_pickup_datetime tpep_dropoff_datetime  passenger_count  \\\n",
       "0               1  2022-01-01 00:35:40   2022-01-01 00:53:29          2.00000   \n",
       "1               1  2022-01-01 00:33:43   2022-01-01 00:42:07          1.00000   \n",
       "2               2  2022-01-01 00:53:21   2022-01-01 01:02:19          1.00000   \n",
       "3               2  2022-01-01 00:25:21   2022-01-01 00:35:23          1.00000   \n",
       "4               2  2022-01-01 00:36:48   2022-01-01 01:14:20          1.00000   \n",
       "...           ...                  ...                   ...              ...   \n",
       "2463926         2  2022-01-31 23:36:53   2022-01-31 23:42:51              NaN   \n",
       "2463927         2  2022-01-31 23:44:22   2022-01-31 23:55:01              NaN   \n",
       "2463928         2  2022-01-31 23:39:00   2022-01-31 23:50:00              NaN   \n",
       "2463929         2  2022-01-31 23:36:42   2022-01-31 23:48:45              NaN   \n",
       "2463930         2  2022-01-31 23:46:00   2022-02-01 00:13:00              NaN   \n",
       "\n",
       "         trip_distance  RatecodeID store_and_fwd_flag  PULocationID  \\\n",
       "0              3.80000     1.00000                  N           142   \n",
       "1              2.10000     1.00000                  N           236   \n",
       "2              0.97000     1.00000                  N           166   \n",
       "3              1.09000     1.00000                  N           114   \n",
       "4              4.30000     1.00000                  N            68   \n",
       "...                ...         ...                ...           ...   \n",
       "2463926        1.32000         NaN               None            90   \n",
       "2463927        4.19000         NaN               None           107   \n",
       "2463928        2.10000         NaN               None           113   \n",
       "2463929        2.92000         NaN               None           148   \n",
       "2463930        8.94000         NaN               None           186   \n",
       "\n",
       "         DOLocationID  payment_type  fare_amount   extra  mta_tax  tip_amount  \\\n",
       "0                 236             1     14.50000 3.00000  0.50000     3.65000   \n",
       "1                  42             1      8.00000 0.50000  0.50000     4.00000   \n",
       "2                 166             1      7.50000 0.50000  0.50000     1.76000   \n",
       "3                  68             2      8.00000 0.50000  0.50000     0.00000   \n",
       "4                 163             1     23.50000 0.50000  0.50000     3.00000   \n",
       "...               ...           ...          ...     ...      ...         ...   \n",
       "2463926           170             0      8.00000 0.00000  0.50000     2.39000   \n",
       "2463927            75             0     16.80000 0.00000  0.50000     4.35000   \n",
       "2463928           246             0     11.22000 0.00000  0.50000     2.00000   \n",
       "2463929           164             0     12.40000 0.00000  0.50000     0.00000   \n",
       "2463930           181             0     25.48000 0.00000  0.50000     6.28000   \n",
       "\n",
       "         tolls_amount  improvement_surcharge  total_amount  \\\n",
       "0             0.00000                0.30000      21.95000   \n",
       "1             0.00000                0.30000      13.30000   \n",
       "2             0.00000                0.30000      10.56000   \n",
       "3             0.00000                0.30000      11.80000   \n",
       "4             0.00000                0.30000      30.30000   \n",
       "...               ...                    ...           ...   \n",
       "2463926       0.00000                0.30000      13.69000   \n",
       "2463927       0.00000                0.30000      24.45000   \n",
       "2463928       0.00000                0.30000      16.52000   \n",
       "2463929       0.00000                0.30000      15.70000   \n",
       "2463930       0.00000                0.30000      35.06000   \n",
       "\n",
       "         congestion_surcharge  airport_fee  \n",
       "0                     2.50000      0.00000  \n",
       "1                     0.00000      0.00000  \n",
       "2                     0.00000      0.00000  \n",
       "3                     2.50000      0.00000  \n",
       "4                     2.50000      0.00000  \n",
       "...                       ...          ...  \n",
       "2463926                   NaN          NaN  \n",
       "2463927                   NaN          NaN  \n",
       "2463928                   NaN          NaN  \n",
       "2463929                   NaN          NaN  \n",
       "2463930                   NaN          NaN  \n",
       "\n",
       "[2463931 rows x 19 columns]"
      ]
     },
     "execution_count": 158,
     "metadata": {},
     "output_type": "execute_result"
    }
   ],
   "source": [
    "ytjan_df"
   ]
  },
  {
   "cell_type": "code",
   "execution_count": 159,
   "id": "95a432c2-6bfb-40fe-a3f7-85f7720fc30e",
   "metadata": {
    "execution": {
     "iopub.execute_input": "2023-05-18T14:39:26.834274Z",
     "iopub.status.busy": "2023-05-18T14:39:26.834069Z",
     "iopub.status.idle": "2023-05-18T14:39:26.843191Z",
     "shell.execute_reply": "2023-05-18T14:39:26.842888Z",
     "shell.execute_reply.started": "2023-05-18T14:39:26.834259Z"
    },
    "tags": []
   },
   "outputs": [
    {
     "data": {
      "text/plain": [
       "19"
      ]
     },
     "execution_count": 159,
     "metadata": {},
     "output_type": "execute_result"
    }
   ],
   "source": [
    "ytjan_df.shape[1]"
   ]
  },
  {
   "cell_type": "code",
   "execution_count": 178,
   "id": "1dcea1ed-6349-445f-997f-ee00572edf06",
   "metadata": {
    "execution": {
     "iopub.execute_input": "2023-05-18T14:52:15.134923Z",
     "iopub.status.busy": "2023-05-18T14:52:15.134796Z",
     "iopub.status.idle": "2023-05-18T14:52:18.364089Z",
     "shell.execute_reply": "2023-05-18T14:52:18.363731Z",
     "shell.execute_reply.started": "2023-05-18T14:52:15.134914Z"
    },
    "tags": []
   },
   "outputs": [],
   "source": [
    "ytjan_df['duration'] = \\\n",
    "    (ytjan_df['tpep_dropoff_datetime'] - ytjan_df['tpep_pickup_datetime']) \\\n",
    "    .apply(lambda col: round(col.total_seconds() / 60, 2))"
   ]
  },
  {
   "cell_type": "code",
   "execution_count": 161,
   "id": "51aad6b5-6328-4c0a-b91d-06709afc2641",
   "metadata": {
    "execution": {
     "iopub.execute_input": "2023-05-18T14:39:35.070676Z",
     "iopub.status.busy": "2023-05-18T14:39:35.070603Z",
     "iopub.status.idle": "2023-05-18T14:39:35.080713Z",
     "shell.execute_reply": "2023-05-18T14:39:35.080486Z",
     "shell.execute_reply.started": "2023-05-18T14:39:35.070668Z"
    },
    "tags": []
   },
   "outputs": [
    {
     "data": {
      "text/plain": [
       "46.445303029643036"
      ]
     },
     "execution_count": 161,
     "metadata": {},
     "output_type": "execute_result"
    }
   ],
   "source": [
    "ytjan_df.duration.std()"
   ]
  },
  {
   "cell_type": "markdown",
   "id": "3d4a59ef-2b98-49e4-bd06-a4b938ee1bb8",
   "metadata": {},
   "source": [
    "### Duration Filter and Outliers"
   ]
  },
  {
   "cell_type": "code",
   "execution_count": 97,
   "id": "c6b9952b-6f14-4cbd-8d89-52974bf9baca",
   "metadata": {
    "execution": {
     "iopub.execute_input": "2023-05-18T13:54:54.182715Z",
     "iopub.status.busy": "2023-05-18T13:54:54.182586Z",
     "iopub.status.idle": "2023-05-18T13:54:58.046464Z",
     "shell.execute_reply": "2023-05-18T13:54:58.046075Z",
     "shell.execute_reply.started": "2023-05-18T13:54:54.182706Z"
    },
    "tags": []
   },
   "outputs": [
    {
     "data": {
      "text/plain": [
       "<seaborn.axisgrid.FacetGrid at 0x7f951bdb8c40>"
      ]
     },
     "execution_count": 97,
     "metadata": {},
     "output_type": "execute_result"
    },
    {
     "data": {
      "image/png": "[encoded data removed]",
      "text/plain": [
       "<Figure size 500x500 with 1 Axes>"
      ]
     },
     "metadata": {},
     "output_type": "display_data"
    }
   ],
   "source": [
    "sns.displot(ytjan_df[ytjan_df.duration.between(0, 100)].duration, kde=True, bins=20)"
   ]
  },
  {
   "cell_type": "code",
   "execution_count": 101,
   "id": "9b178d39-56a0-48a2-b38a-6fb384293155",
   "metadata": {
    "execution": {
     "iopub.execute_input": "2023-05-18T14:01:29.256405Z",
     "iopub.status.busy": "2023-05-18T14:01:29.255961Z",
     "iopub.status.idle": "2023-05-18T14:01:29.309334Z",
     "shell.execute_reply": "2023-05-18T14:01:29.308951Z",
     "shell.execute_reply.started": "2023-05-18T14:01:29.256371Z"
    },
    "tags": []
   },
   "outputs": [
    {
     "data": {
      "text/plain": [
       "count   2463931.00000\n",
       "mean         14.21220\n",
       "std          46.44530\n",
       "min       -3442.40000\n",
       "25%           6.32000\n",
       "50%          10.18000\n",
       "75%          16.17000\n",
       "max        8513.18000\n",
       "Name: duration, dtype: float64"
      ]
     },
     "execution_count": 101,
     "metadata": {},
     "output_type": "execute_result"
    }
   ],
   "source": [
    "ytjan_df.duration.describe()"
   ]
  },
  {
   "cell_type": "code",
   "execution_count": 102,
   "id": "9ad6118c-c3fa-40e4-9472-37ec2e3aed21",
   "metadata": {
    "execution": {
     "iopub.execute_input": "2023-05-18T14:01:49.025735Z",
     "iopub.status.busy": "2023-05-18T14:01:49.025608Z",
     "iopub.status.idle": "2023-05-18T14:01:49.069247Z",
     "shell.execute_reply": "2023-05-18T14:01:49.068819Z",
     "shell.execute_reply.started": "2023-05-18T14:01:49.025726Z"
    },
    "tags": []
   },
   "outputs": [
    {
     "data": {
      "text/plain": [
       "count   2463931.00000\n",
       "mean         14.21220\n",
       "std          46.44530\n",
       "min       -3442.40000\n",
       "50%          10.18000\n",
       "95%          31.93000\n",
       "98%          42.15000\n",
       "99%          50.85000\n",
       "max        8513.18000\n",
       "Name: duration, dtype: float64"
      ]
     },
     "execution_count": 102,
     "metadata": {},
     "output_type": "execute_result"
    }
   ],
   "source": [
    "ytjan_df.duration.describe(percentiles=[0.95, 0.98, 0.99])"
   ]
  },
  {
   "cell_type": "code",
   "execution_count": 90,
   "id": "c3541252-d167-42ef-b059-bc567768ea3b",
   "metadata": {
    "execution": {
     "iopub.execute_input": "2023-05-18T13:48:20.527131Z",
     "iopub.status.busy": "2023-05-18T13:48:20.527000Z",
     "iopub.status.idle": "2023-05-18T13:48:20.756240Z",
     "shell.execute_reply": "2023-05-18T13:48:20.755774Z",
     "shell.execute_reply.started": "2023-05-18T13:48:20.527122Z"
    }
   },
   "outputs": [
    {
     "data": {
      "text/plain": [
       "<Axes: >"
      ]
     },
     "execution_count": 90,
     "metadata": {},
     "output_type": "execute_result"
    },
    {
     "data": {
      "image/png": "[encoded data removed]",
      "text/plain": [
       "<Figure size 640x480 with 1 Axes>"
      ]
     },
     "metadata": {},
     "output_type": "display_data"
    }
   ],
   "source": [
    "sns.boxplot(ytjan_df.duration)"
   ]
  },
  {
   "cell_type": "code",
   "execution_count": 104,
   "id": "683dcd1c-6064-4fac-bc7b-424642ce23d6",
   "metadata": {
    "execution": {
     "iopub.execute_input": "2023-05-18T14:08:27.093011Z",
     "iopub.status.busy": "2023-05-18T14:08:27.092871Z",
     "iopub.status.idle": "2023-05-18T14:08:27.113578Z",
     "shell.execute_reply": "2023-05-18T14:08:27.113314Z",
     "shell.execute_reply.started": "2023-05-18T14:08:27.093001Z"
    }
   },
   "outputs": [
    {
     "data": {
      "text/html": [
       "<div>\n",
       "<style scoped>\n",
       "    .dataframe tbody tr th:only-of-type {\n",
       "        vertical-align: middle;\n",
       "    }\n",
       "\n",
       "    .dataframe tbody tr th {\n",
       "        vertical-align: top;\n",
       "    }\n",
       "\n",
       "    .dataframe thead th {\n",
       "        text-align: right;\n",
       "    }\n",
       "</style>\n",
       "<table border=\"1\" class=\"dataframe\">\n",
       "  <thead>\n",
       "    <tr style=\"text-align: right;\">\n",
       "      <th></th>\n",
       "      <th>VendorID</th>\n",
       "      <th>tpep_pickup_datetime</th>\n",
       "      <th>tpep_dropoff_datetime</th>\n",
       "      <th>passenger_count</th>\n",
       "      <th>trip_distance</th>\n",
       "      <th>RatecodeID</th>\n",
       "      <th>store_and_fwd_flag</th>\n",
       "      <th>PULocationID</th>\n",
       "      <th>DOLocationID</th>\n",
       "      <th>payment_type</th>\n",
       "      <th>fare_amount</th>\n",
       "      <th>extra</th>\n",
       "      <th>mta_tax</th>\n",
       "      <th>tip_amount</th>\n",
       "      <th>tolls_amount</th>\n",
       "      <th>improvement_surcharge</th>\n",
       "      <th>total_amount</th>\n",
       "      <th>congestion_surcharge</th>\n",
       "      <th>airport_fee</th>\n",
       "      <th>duration</th>\n",
       "    </tr>\n",
       "  </thead>\n",
       "  <tbody>\n",
       "    <tr>\n",
       "      <th>481</th>\n",
       "      <td>2</td>\n",
       "      <td>2022-01-01 00:15:34</td>\n",
       "      <td>2022-01-01 01:29:42</td>\n",
       "      <td>6.00000</td>\n",
       "      <td>16.21000</td>\n",
       "      <td>1.00000</td>\n",
       "      <td>N</td>\n",
       "      <td>161</td>\n",
       "      <td>134</td>\n",
       "      <td>1</td>\n",
       "      <td>60.50000</td>\n",
       "      <td>0.50000</td>\n",
       "      <td>0.50000</td>\n",
       "      <td>14.17000</td>\n",
       "      <td>6.55000</td>\n",
       "      <td>0.30000</td>\n",
       "      <td>85.02000</td>\n",
       "      <td>2.50000</td>\n",
       "      <td>0.00000</td>\n",
       "      <td>74.13000</td>\n",
       "    </tr>\n",
       "    <tr>\n",
       "      <th>865</th>\n",
       "      <td>1</td>\n",
       "      <td>2022-01-01 00:19:23</td>\n",
       "      <td>2022-01-01 01:14:47</td>\n",
       "      <td>1.00000</td>\n",
       "      <td>7.80000</td>\n",
       "      <td>1.00000</td>\n",
       "      <td>N</td>\n",
       "      <td>164</td>\n",
       "      <td>37</td>\n",
       "      <td>1</td>\n",
       "      <td>33.00000</td>\n",
       "      <td>3.00000</td>\n",
       "      <td>0.50000</td>\n",
       "      <td>9.20000</td>\n",
       "      <td>0.00000</td>\n",
       "      <td>0.30000</td>\n",
       "      <td>46.00000</td>\n",
       "      <td>2.50000</td>\n",
       "      <td>0.00000</td>\n",
       "      <td>55.40000</td>\n",
       "    </tr>\n",
       "    <tr>\n",
       "      <th>1489</th>\n",
       "      <td>1</td>\n",
       "      <td>2022-01-01 00:14:40</td>\n",
       "      <td>2022-01-01 01:13:17</td>\n",
       "      <td>1.00000</td>\n",
       "      <td>20.90000</td>\n",
       "      <td>2.00000</td>\n",
       "      <td>N</td>\n",
       "      <td>132</td>\n",
       "      <td>48</td>\n",
       "      <td>1</td>\n",
       "      <td>52.00000</td>\n",
       "      <td>3.75000</td>\n",
       "      <td>0.50000</td>\n",
       "      <td>15.75000</td>\n",
       "      <td>6.55000</td>\n",
       "      <td>0.30000</td>\n",
       "      <td>78.85000</td>\n",
       "      <td>2.50000</td>\n",
       "      <td>1.25000</td>\n",
       "      <td>58.62000</td>\n",
       "    </tr>\n",
       "    <tr>\n",
       "      <th>1947</th>\n",
       "      <td>2</td>\n",
       "      <td>2022-01-01 00:18:06</td>\n",
       "      <td>2022-01-01 01:13:47</td>\n",
       "      <td>1.00000</td>\n",
       "      <td>9.03000</td>\n",
       "      <td>1.00000</td>\n",
       "      <td>N</td>\n",
       "      <td>48</td>\n",
       "      <td>7</td>\n",
       "      <td>1</td>\n",
       "      <td>37.50000</td>\n",
       "      <td>0.50000</td>\n",
       "      <td>0.50000</td>\n",
       "      <td>10.32000</td>\n",
       "      <td>0.00000</td>\n",
       "      <td>0.30000</td>\n",
       "      <td>51.62000</td>\n",
       "      <td>2.50000</td>\n",
       "      <td>0.00000</td>\n",
       "      <td>55.68000</td>\n",
       "    </tr>\n",
       "    <tr>\n",
       "      <th>2747</th>\n",
       "      <td>1</td>\n",
       "      <td>2022-01-01 00:26:13</td>\n",
       "      <td>2022-01-01 01:23:13</td>\n",
       "      <td>1.00000</td>\n",
       "      <td>8.00000</td>\n",
       "      <td>1.00000</td>\n",
       "      <td>N</td>\n",
       "      <td>48</td>\n",
       "      <td>202</td>\n",
       "      <td>1</td>\n",
       "      <td>37.00000</td>\n",
       "      <td>3.00000</td>\n",
       "      <td>0.50000</td>\n",
       "      <td>12.20000</td>\n",
       "      <td>0.00000</td>\n",
       "      <td>0.30000</td>\n",
       "      <td>53.00000</td>\n",
       "      <td>2.50000</td>\n",
       "      <td>0.00000</td>\n",
       "      <td>57.00000</td>\n",
       "    </tr>\n",
       "    <tr>\n",
       "      <th>...</th>\n",
       "      <td>...</td>\n",
       "      <td>...</td>\n",
       "      <td>...</td>\n",
       "      <td>...</td>\n",
       "      <td>...</td>\n",
       "      <td>...</td>\n",
       "      <td>...</td>\n",
       "      <td>...</td>\n",
       "      <td>...</td>\n",
       "      <td>...</td>\n",
       "      <td>...</td>\n",
       "      <td>...</td>\n",
       "      <td>...</td>\n",
       "      <td>...</td>\n",
       "      <td>...</td>\n",
       "      <td>...</td>\n",
       "      <td>...</td>\n",
       "      <td>...</td>\n",
       "      <td>...</td>\n",
       "      <td>...</td>\n",
       "    </tr>\n",
       "    <tr>\n",
       "      <th>2463428</th>\n",
       "      <td>2</td>\n",
       "      <td>2022-01-31 19:48:12</td>\n",
       "      <td>2022-01-31 20:41:30</td>\n",
       "      <td>NaN</td>\n",
       "      <td>10.54000</td>\n",
       "      <td>NaN</td>\n",
       "      <td>None</td>\n",
       "      <td>37</td>\n",
       "      <td>41</td>\n",
       "      <td>0</td>\n",
       "      <td>41.07000</td>\n",
       "      <td>0.00000</td>\n",
       "      <td>0.50000</td>\n",
       "      <td>5.00000</td>\n",
       "      <td>0.00000</td>\n",
       "      <td>0.30000</td>\n",
       "      <td>49.37000</td>\n",
       "      <td>NaN</td>\n",
       "      <td>NaN</td>\n",
       "      <td>53.30000</td>\n",
       "    </tr>\n",
       "    <tr>\n",
       "      <th>2463532</th>\n",
       "      <td>6</td>\n",
       "      <td>2022-01-31 20:01:41</td>\n",
       "      <td>2022-01-31 21:01:55</td>\n",
       "      <td>NaN</td>\n",
       "      <td>11.08000</td>\n",
       "      <td>NaN</td>\n",
       "      <td>None</td>\n",
       "      <td>265</td>\n",
       "      <td>69</td>\n",
       "      <td>0</td>\n",
       "      <td>43.20000</td>\n",
       "      <td>0.00000</td>\n",
       "      <td>0.50000</td>\n",
       "      <td>0.00000</td>\n",
       "      <td>0.00000</td>\n",
       "      <td>0.30000</td>\n",
       "      <td>44.00000</td>\n",
       "      <td>NaN</td>\n",
       "      <td>NaN</td>\n",
       "      <td>60.23000</td>\n",
       "    </tr>\n",
       "    <tr>\n",
       "      <th>2463557</th>\n",
       "      <td>6</td>\n",
       "      <td>2022-01-31 20:01:03</td>\n",
       "      <td>2022-01-31 21:01:59</td>\n",
       "      <td>NaN</td>\n",
       "      <td>7.63000</td>\n",
       "      <td>NaN</td>\n",
       "      <td>None</td>\n",
       "      <td>265</td>\n",
       "      <td>76</td>\n",
       "      <td>0</td>\n",
       "      <td>45.20000</td>\n",
       "      <td>0.00000</td>\n",
       "      <td>0.50000</td>\n",
       "      <td>0.00000</td>\n",
       "      <td>0.00000</td>\n",
       "      <td>0.30000</td>\n",
       "      <td>46.00000</td>\n",
       "      <td>NaN</td>\n",
       "      <td>NaN</td>\n",
       "      <td>60.93000</td>\n",
       "    </tr>\n",
       "    <tr>\n",
       "      <th>2463657</th>\n",
       "      <td>1</td>\n",
       "      <td>2022-01-31 21:19:28</td>\n",
       "      <td>2022-01-31 22:11:14</td>\n",
       "      <td>NaN</td>\n",
       "      <td>35.90000</td>\n",
       "      <td>NaN</td>\n",
       "      <td>None</td>\n",
       "      <td>132</td>\n",
       "      <td>1</td>\n",
       "      <td>0</td>\n",
       "      <td>111.00000</td>\n",
       "      <td>1.75000</td>\n",
       "      <td>0.00000</td>\n",
       "      <td>19.70000</td>\n",
       "      <td>18.30000</td>\n",
       "      <td>0.30000</td>\n",
       "      <td>151.05000</td>\n",
       "      <td>NaN</td>\n",
       "      <td>NaN</td>\n",
       "      <td>51.77000</td>\n",
       "    </tr>\n",
       "    <tr>\n",
       "      <th>2463856</th>\n",
       "      <td>6</td>\n",
       "      <td>2022-01-31 22:01:29</td>\n",
       "      <td>2022-01-31 23:01:23</td>\n",
       "      <td>NaN</td>\n",
       "      <td>12.86000</td>\n",
       "      <td>NaN</td>\n",
       "      <td>None</td>\n",
       "      <td>265</td>\n",
       "      <td>38</td>\n",
       "      <td>0</td>\n",
       "      <td>30.64000</td>\n",
       "      <td>0.00000</td>\n",
       "      <td>0.50000</td>\n",
       "      <td>0.00000</td>\n",
       "      <td>0.00000</td>\n",
       "      <td>0.30000</td>\n",
       "      <td>31.44000</td>\n",
       "      <td>NaN</td>\n",
       "      <td>NaN</td>\n",
       "      <td>59.90000</td>\n",
       "    </tr>\n",
       "  </tbody>\n",
       "</table>\n",
       "<p>21169 rows × 20 columns</p>\n",
       "</div>"
      ],
      "text/plain": [
       "         VendorID tpep_pickup_datetime tpep_dropoff_datetime  passenger_count  \\\n",
       "481             2  2022-01-01 00:15:34   2022-01-01 01:29:42          6.00000   \n",
       "865             1  2022-01-01 00:19:23   2022-01-01 01:14:47          1.00000   \n",
       "1489            1  2022-01-01 00:14:40   2022-01-01 01:13:17          1.00000   \n",
       "1947            2  2022-01-01 00:18:06   2022-01-01 01:13:47          1.00000   \n",
       "2747            1  2022-01-01 00:26:13   2022-01-01 01:23:13          1.00000   \n",
       "...           ...                  ...                   ...              ...   \n",
       "2463428         2  2022-01-31 19:48:12   2022-01-31 20:41:30              NaN   \n",
       "2463532         6  2022-01-31 20:01:41   2022-01-31 21:01:55              NaN   \n",
       "2463557         6  2022-01-31 20:01:03   2022-01-31 21:01:59              NaN   \n",
       "2463657         1  2022-01-31 21:19:28   2022-01-31 22:11:14              NaN   \n",
       "2463856         6  2022-01-31 22:01:29   2022-01-31 23:01:23              NaN   \n",
       "\n",
       "         trip_distance  RatecodeID store_and_fwd_flag  PULocationID  \\\n",
       "481           16.21000     1.00000                  N           161   \n",
       "865            7.80000     1.00000                  N           164   \n",
       "1489          20.90000     2.00000                  N           132   \n",
       "1947           9.03000     1.00000                  N            48   \n",
       "2747           8.00000     1.00000                  N            48   \n",
       "...                ...         ...                ...           ...   \n",
       "2463428       10.54000         NaN               None            37   \n",
       "2463532       11.08000         NaN               None           265   \n",
       "2463557        7.63000         NaN               None           265   \n",
       "2463657       35.90000         NaN               None           132   \n",
       "2463856       12.86000         NaN               None           265   \n",
       "\n",
       "         DOLocationID  payment_type  fare_amount   extra  mta_tax  tip_amount  \\\n",
       "481               134             1     60.50000 0.50000  0.50000    14.17000   \n",
       "865                37             1     33.00000 3.00000  0.50000     9.20000   \n",
       "1489               48             1     52.00000 3.75000  0.50000    15.75000   \n",
       "1947                7             1     37.50000 0.50000  0.50000    10.32000   \n",
       "2747              202             1     37.00000 3.00000  0.50000    12.20000   \n",
       "...               ...           ...          ...     ...      ...         ...   \n",
       "2463428            41             0     41.07000 0.00000  0.50000     5.00000   \n",
       "2463532            69             0     43.20000 0.00000  0.50000     0.00000   \n",
       "2463557            76             0     45.20000 0.00000  0.50000     0.00000   \n",
       "2463657             1             0    111.00000 1.75000  0.00000    19.70000   \n",
       "2463856            38             0     30.64000 0.00000  0.50000     0.00000   \n",
       "\n",
       "         tolls_amount  improvement_surcharge  total_amount  \\\n",
       "481           6.55000                0.30000      85.02000   \n",
       "865           0.00000                0.30000      46.00000   \n",
       "1489          6.55000                0.30000      78.85000   \n",
       "1947          0.00000                0.30000      51.62000   \n",
       "2747          0.00000                0.30000      53.00000   \n",
       "...               ...                    ...           ...   \n",
       "2463428       0.00000                0.30000      49.37000   \n",
       "2463532       0.00000                0.30000      44.00000   \n",
       "2463557       0.00000                0.30000      46.00000   \n",
       "2463657      18.30000                0.30000     151.05000   \n",
       "2463856       0.00000                0.30000      31.44000   \n",
       "\n",
       "         congestion_surcharge  airport_fee  duration  \n",
       "481                   2.50000      0.00000  74.13000  \n",
       "865                   2.50000      0.00000  55.40000  \n",
       "1489                  2.50000      1.25000  58.62000  \n",
       "1947                  2.50000      0.00000  55.68000  \n",
       "2747                  2.50000      0.00000  57.00000  \n",
       "...                       ...          ...       ...  \n",
       "2463428                   NaN          NaN  53.30000  \n",
       "2463532                   NaN          NaN  60.23000  \n",
       "2463557                   NaN          NaN  60.93000  \n",
       "2463657                   NaN          NaN  51.77000  \n",
       "2463856                   NaN          NaN  59.90000  \n",
       "\n",
       "[21169 rows x 20 columns]"
      ]
     },
     "execution_count": 104,
     "metadata": {},
     "output_type": "execute_result"
    }
   ],
   "source": [
    "ytjan_df[(ytjan_df.duration > 50.85000) & (ytjan_df.duration < 100)]"
   ]
  },
  {
   "cell_type": "code",
   "execution_count": 124,
   "id": "0a0bf7ad-7d64-4201-9499-4f7e90b44773",
   "metadata": {
    "collapsed": true,
    "execution": {
     "iopub.execute_input": "2023-05-18T14:21:08.044663Z",
     "iopub.status.busy": "2023-05-18T14:21:08.044532Z",
     "iopub.status.idle": "2023-05-18T14:21:08.152686Z",
     "shell.execute_reply": "2023-05-18T14:21:08.152210Z",
     "shell.execute_reply.started": "2023-05-18T14:21:08.044654Z"
    },
    "jupyter": {
     "outputs_hidden": true
    },
    "tags": []
   },
   "outputs": [
    {
     "data": {
      "text/plain": [
       "<seaborn.axisgrid.FacetGrid at 0x7f91453e91b0>"
      ]
     },
     "execution_count": 124,
     "metadata": {},
     "output_type": "execute_result"
    },
    {
     "data": {
      "image/png": "[encoded data removed]",
      "text/plain": [
       "<Figure size 500x500 with 1 Axes>"
      ]
     },
     "metadata": {},
     "output_type": "display_data"
    }
   ],
   "source": [
    "sns.displot(ytjan_df[(ytjan_df.duration > 0) & (ytjan_df.duration < 1)][ytjan_df.trip_distance != 0].duration)"
   ]
  },
  {
   "cell_type": "code",
   "execution_count": 132,
   "id": "0be3edf4-7678-4c4d-9604-9043be19fde6",
   "metadata": {
    "execution": {
     "iopub.execute_input": "2023-05-18T14:26:51.190016Z",
     "iopub.status.busy": "2023-05-18T14:26:51.189823Z",
     "iopub.status.idle": "2023-05-18T14:26:51.209580Z",
     "shell.execute_reply": "2023-05-18T14:26:51.209176Z",
     "shell.execute_reply.started": "2023-05-18T14:26:51.190002Z"
    },
    "tags": []
   },
   "outputs": [
    {
     "data": {
      "text/plain": [
       "count   10846.00000\n",
       "mean        1.45663\n",
       "std         3.77774\n",
       "min         0.01000\n",
       "50%         0.11000\n",
       "90%         4.45000\n",
       "max        96.00000\n",
       "Name: trip_distance, dtype: float64"
      ]
     },
     "execution_count": 132,
     "metadata": {},
     "output_type": "execute_result"
    }
   ],
   "source": [
    "ytjan_df[(ytjan_df.duration > 0) & (ytjan_df.duration < 1)][ytjan_df.trip_distance != 0].trip_distance.describe(percentiles=[0.90])"
   ]
  },
  {
   "cell_type": "code",
   "execution_count": 134,
   "id": "85adffb3-deaf-43c4-88bb-04f49d4c7411",
   "metadata": {
    "execution": {
     "iopub.execute_input": "2023-05-18T14:27:17.469625Z",
     "iopub.status.busy": "2023-05-18T14:27:17.469365Z",
     "iopub.status.idle": "2023-05-18T14:27:17.660099Z",
     "shell.execute_reply": "2023-05-18T14:27:17.659680Z",
     "shell.execute_reply.started": "2023-05-18T14:27:17.469610Z"
    },
    "tags": []
   },
   "outputs": [
    {
     "data": {
      "text/plain": [
       "<seaborn.axisgrid.FacetGrid at 0x7f91521ae710>"
      ]
     },
     "execution_count": 134,
     "metadata": {},
     "output_type": "execute_result"
    },
    {
     "data": {
      "image/png": "[encoded data removed]",
      "text/plain": [
       "<Figure size 500x500 with 1 Axes>"
      ]
     },
     "metadata": {},
     "output_type": "display_data"
    }
   ],
   "source": [
    "sns.displot(ytjan_df[(ytjan_df.duration > 0) & (ytjan_df.duration < 1)][(ytjan_df.trip_distance > 0) & (ytjan_df.trip_distance < 5)].trip_distance)"
   ]
  },
  {
   "cell_type": "code",
   "execution_count": 176,
   "id": "b340145b-9630-4c7c-8e7c-96b18749d909",
   "metadata": {
    "execution": {
     "iopub.execute_input": "2023-05-18T14:52:04.038820Z",
     "iopub.status.busy": "2023-05-18T14:52:04.038686Z",
     "iopub.status.idle": "2023-05-18T14:52:04.046689Z",
     "shell.execute_reply": "2023-05-18T14:52:04.046351Z",
     "shell.execute_reply.started": "2023-05-18T14:52:04.038811Z"
    },
    "tags": []
   },
   "outputs": [],
   "source": [
    "initial_rows = ytjan_df.shape[0]"
   ]
  },
  {
   "cell_type": "code",
   "execution_count": 179,
   "id": "a3e4b0d6-ce04-41ed-b77a-4c3cfe039eaf",
   "metadata": {
    "execution": {
     "iopub.execute_input": "2023-05-18T14:53:51.822918Z",
     "iopub.status.busy": "2023-05-18T14:53:51.822770Z",
     "iopub.status.idle": "2023-05-18T14:53:51.969579Z",
     "shell.execute_reply": "2023-05-18T14:53:51.969136Z",
     "shell.execute_reply.started": "2023-05-18T14:53:51.822907Z"
    },
    "tags": []
   },
   "outputs": [
    {
     "name": "stdout",
     "output_type": "stream",
     "text": [
      "0.9827547930522406%\n"
     ]
    }
   ],
   "source": [
    "ytjan_df = ytjan_df[(ytjan_df.duration.between(1,60))]\n",
    "after_rows = ytjan_df.shape[0]\n",
    "print(f\"{after_rows / initial_rows}%\")"
   ]
  },
  {
   "cell_type": "code",
   "execution_count": null,
   "id": "7e4abeb7-2313-433d-9eb9-b91b5b265466",
   "metadata": {},
   "outputs": [],
   "source": []
  },
  {
   "cell_type": "markdown",
   "id": "b461c6f6-e762-408d-b5e1-1d38ac508299",
   "metadata": {
    "execution": {
     "iopub.execute_input": "2023-05-18T14:31:42.350305Z",
     "iopub.status.busy": "2023-05-18T14:31:42.350196Z",
     "iopub.status.idle": "2023-05-18T14:31:42.540453Z",
     "shell.execute_reply": "2023-05-18T14:31:42.540023Z",
     "shell.execute_reply.started": "2023-05-18T14:31:42.350297Z"
    }
   },
   "source": [
    "### Trip Distance Filter and Outlier"
   ]
  },
  {
   "cell_type": "code",
   "execution_count": 163,
   "id": "96f8fd77-d501-4d70-bc2d-f683ecf6c2e9",
   "metadata": {
    "execution": {
     "iopub.execute_input": "2023-05-18T14:40:50.869832Z",
     "iopub.status.busy": "2023-05-18T14:40:50.869709Z",
     "iopub.status.idle": "2023-05-18T14:40:51.182635Z",
     "shell.execute_reply": "2023-05-18T14:40:51.182399Z",
     "shell.execute_reply.started": "2023-05-18T14:40:50.869824Z"
    },
    "tags": []
   },
   "outputs": [
    {
     "data": {
      "text/plain": [
       "<Axes: >"
      ]
     },
     "execution_count": 163,
     "metadata": {},
     "output_type": "execute_result"
    },
    {
     "data": {
      "image/png": "[encoded data removed]",
      "text/plain": [
       "<Figure size 640x480 with 1 Axes>"
      ]
     },
     "metadata": {},
     "output_type": "display_data"
    }
   ],
   "source": [
    "sns.boxplot(ytjan_df.trip_distance)"
   ]
  },
  {
   "cell_type": "code",
   "execution_count": 164,
   "id": "80bfc3b5-4978-493d-a2db-80c18035adb8",
   "metadata": {
    "execution": {
     "iopub.execute_input": "2023-05-18T14:40:56.058232Z",
     "iopub.status.busy": "2023-05-18T14:40:56.058086Z",
     "iopub.status.idle": "2023-05-18T14:40:56.091944Z",
     "shell.execute_reply": "2023-05-18T14:40:56.091573Z",
     "shell.execute_reply.started": "2023-05-18T14:40:56.058222Z"
    },
    "tags": []
   },
   "outputs": [
    {
     "data": {
      "text/plain": [
       "count   1858180.00000\n",
       "mean          6.79020\n",
       "std         630.63484\n",
       "min           1.01000\n",
       "50%           2.21000\n",
       "95%          14.36000\n",
       "97%          17.80000\n",
       "99%          20.01000\n",
       "max      306159.28000\n",
       "Name: trip_distance, dtype: float64"
      ]
     },
     "execution_count": 164,
     "metadata": {},
     "output_type": "execute_result"
    }
   ],
   "source": [
    "ytjan_df.trip_distance.describe(percentiles=[0.95, 0.97, 0.99])"
   ]
  },
  {
   "cell_type": "code",
   "execution_count": 171,
   "id": "035e6d22-ad6a-4690-b243-d7bf2255ec24",
   "metadata": {
    "execution": {
     "iopub.execute_input": "2023-05-18T14:48:43.700605Z",
     "iopub.status.busy": "2023-05-18T14:48:43.700315Z",
     "iopub.status.idle": "2023-05-18T14:48:43.801284Z",
     "shell.execute_reply": "2023-05-18T14:48:43.800863Z",
     "shell.execute_reply.started": "2023-05-18T14:48:43.700580Z"
    },
    "tags": []
   },
   "outputs": [
    {
     "data": {
      "text/plain": [
       "count   1858113.00000\n",
       "mean          3.81783\n",
       "std           4.48357\n",
       "min           1.01000\n",
       "25%           1.50000\n",
       "50%           2.21000\n",
       "75%           3.84000\n",
       "max         651.00000\n",
       "Name: trip_distance, dtype: float64"
      ]
     },
     "execution_count": 171,
     "metadata": {},
     "output_type": "execute_result"
    }
   ],
   "source": [
    "ytjan_df[ytjan_df.trip_distance < 2000].trip_distance.describe()"
   ]
  },
  {
   "cell_type": "code",
   "execution_count": 180,
   "id": "6e27bcfb-6b08-4b61-afd8-3d53510b40c7",
   "metadata": {
    "execution": {
     "iopub.execute_input": "2023-05-18T14:54:42.076991Z",
     "iopub.status.busy": "2023-05-18T14:54:42.076237Z",
     "iopub.status.idle": "2023-05-18T14:54:42.159371Z",
     "shell.execute_reply": "2023-05-18T14:54:42.158996Z",
     "shell.execute_reply.started": "2023-05-18T14:54:42.076960Z"
    },
    "tags": []
   },
   "outputs": [],
   "source": [
    "ytjan_df = ytjan_df[(ytjan_df.trip_distance < 652) & (ytjan_df.trip_distance >= 1)]"
   ]
  },
  {
   "cell_type": "code",
   "execution_count": 184,
   "id": "dda194b5-4e66-48b7-86cc-b93863e3cae5",
   "metadata": {
    "execution": {
     "iopub.execute_input": "2023-05-18T16:01:47.595063Z",
     "iopub.status.busy": "2023-05-18T16:01:47.594926Z",
     "iopub.status.idle": "2023-05-18T16:01:47.608482Z",
     "shell.execute_reply": "2023-05-18T16:01:47.608140Z",
     "shell.execute_reply.started": "2023-05-18T16:01:47.595053Z"
    },
    "tags": []
   },
   "outputs": [
    {
     "data": {
      "text/plain": [
       "0"
      ]
     },
     "execution_count": 184,
     "metadata": {},
     "output_type": "execute_result"
    }
   ],
   "source": [
    "ytjan_df.duration.isnull().sum()"
   ]
  },
  {
   "cell_type": "code",
   "execution_count": 188,
   "id": "883cd80e-2aa8-44ee-983f-7ab539586852",
   "metadata": {
    "execution": {
     "iopub.execute_input": "2023-05-18T16:03:18.121552Z",
     "iopub.status.busy": "2023-05-18T16:03:18.121220Z",
     "iopub.status.idle": "2023-05-18T16:03:18.138059Z",
     "shell.execute_reply": "2023-05-18T16:03:18.137731Z",
     "shell.execute_reply.started": "2023-05-18T16:03:18.121528Z"
    },
    "tags": []
   },
   "outputs": [
    {
     "data": {
      "text/plain": [
       "254"
      ]
     },
     "execution_count": 188,
     "metadata": {},
     "output_type": "execute_result"
    }
   ],
   "source": [
    "ytjan_df['PULocationID'].nunique()"
   ]
  },
  {
   "cell_type": "code",
   "execution_count": 189,
   "id": "e1a59ce5-53b0-4d13-ab39-98eb6af4b502",
   "metadata": {
    "execution": {
     "iopub.execute_input": "2023-05-18T16:03:29.437831Z",
     "iopub.status.busy": "2023-05-18T16:03:29.437355Z",
     "iopub.status.idle": "2023-05-18T16:03:29.461732Z",
     "shell.execute_reply": "2023-05-18T16:03:29.461416Z",
     "shell.execute_reply.started": "2023-05-18T16:03:29.437793Z"
    }
   },
   "outputs": [
    {
     "data": {
      "text/plain": [
       "261"
      ]
     },
     "execution_count": 189,
     "metadata": {},
     "output_type": "execute_result"
    }
   ],
   "source": [
    "ytjan_df['DOLocationID'].nunique()"
   ]
  },
  {
   "cell_type": "code",
   "execution_count": 208,
   "id": "360b2e18-6f99-486e-9170-e98fca4bc988",
   "metadata": {
    "execution": {
     "iopub.execute_input": "2023-05-18T16:14:20.484276Z",
     "iopub.status.busy": "2023-05-18T16:14:20.484149Z",
     "iopub.status.idle": "2023-05-18T16:14:20.881179Z",
     "shell.execute_reply": "2023-05-18T16:14:20.880459Z",
     "shell.execute_reply.started": "2023-05-18T16:14:20.484267Z"
    },
    "tags": []
   },
   "outputs": [],
   "source": [
    "ytjan_df['PULocationID'] = ytjan_df['PULocationID'].astype('str')\n",
    "ytjan_df['DOLocationID'] = ytjan_df['DOLocationID'].astype('str')"
   ]
  },
  {
   "cell_type": "code",
   "execution_count": 209,
   "id": "6a176ad4-c40a-4aa0-a08d-9fc0270ac365",
   "metadata": {
    "execution": {
     "iopub.execute_input": "2023-05-18T16:14:25.900916Z",
     "iopub.status.busy": "2023-05-18T16:14:25.900786Z",
     "iopub.status.idle": "2023-05-18T16:14:27.660272Z",
     "shell.execute_reply": "2023-05-18T16:14:27.660004Z",
     "shell.execute_reply.started": "2023-05-18T16:14:25.900907Z"
    },
    "tags": []
   },
   "outputs": [],
   "source": [
    "train_dicts = ytjan_df[['PULocationID', 'DOLocationID', 'trip_distance']].to_dict(orient='records')"
   ]
  },
  {
   "cell_type": "code",
   "execution_count": 210,
   "id": "38a805f3-ee84-475e-8431-cdfffa17782a",
   "metadata": {
    "execution": {
     "iopub.execute_input": "2023-05-18T16:14:29.528528Z",
     "iopub.status.busy": "2023-05-18T16:14:29.528282Z",
     "iopub.status.idle": "2023-05-18T16:14:31.484814Z",
     "shell.execute_reply": "2023-05-18T16:14:31.484303Z",
     "shell.execute_reply.started": "2023-05-18T16:14:29.528519Z"
    },
    "tags": []
   },
   "outputs": [],
   "source": [
    "dv = DictVectorizer()\n",
    "X_train = dv.fit_transform(train_dicts)"
   ]
  },
  {
   "cell_type": "code",
   "execution_count": 213,
   "id": "0e11ae2a-408d-4b6c-9879-5069321f93b7",
   "metadata": {
    "execution": {
     "iopub.execute_input": "2023-05-18T16:15:17.202889Z",
     "iopub.status.busy": "2023-05-18T16:15:17.202754Z",
     "iopub.status.idle": "2023-05-18T16:15:17.212050Z",
     "shell.execute_reply": "2023-05-18T16:15:17.211720Z",
     "shell.execute_reply.started": "2023-05-18T16:15:17.202880Z"
    },
    "tags": []
   },
   "outputs": [
    {
     "data": {
      "text/plain": [
       "(1896737, 516)"
      ]
     },
     "execution_count": 213,
     "metadata": {},
     "output_type": "execute_result"
    }
   ],
   "source": [
    "X_train.shape"
   ]
  },
  {
   "cell_type": "code",
   "execution_count": 216,
   "id": "bac3b402-327b-4e1e-a3a9-bd6f76546a1b",
   "metadata": {
    "execution": {
     "iopub.execute_input": "2023-05-18T16:16:33.766507Z",
     "iopub.status.busy": "2023-05-18T16:16:33.766327Z",
     "iopub.status.idle": "2023-05-18T16:16:33.774634Z",
     "shell.execute_reply": "2023-05-18T16:16:33.774374Z",
     "shell.execute_reply.started": "2023-05-18T16:16:33.766497Z"
    },
    "tags": []
   },
   "outputs": [],
   "source": [
    "y_train = ytjan_df['duration'].values"
   ]
  },
  {
   "cell_type": "code",
   "execution_count": 217,
   "id": "79c1d6b9-8768-46a2-8bdf-da4fc4044084",
   "metadata": {
    "execution": {
     "iopub.execute_input": "2023-05-18T16:16:50.712952Z",
     "iopub.status.busy": "2023-05-18T16:16:50.712812Z",
     "iopub.status.idle": "2023-05-18T16:16:50.721277Z",
     "shell.execute_reply": "2023-05-18T16:16:50.721024Z",
     "shell.execute_reply.started": "2023-05-18T16:16:50.712943Z"
    },
    "tags": []
   },
   "outputs": [
    {
     "data": {
      "text/plain": [
       "(1896737,)"
      ]
     },
     "execution_count": 217,
     "metadata": {},
     "output_type": "execute_result"
    }
   ],
   "source": [
    "y_train.shape"
   ]
  },
  {
   "cell_type": "code",
   "execution_count": 223,
   "id": "007c0279-6afb-4be2-869b-6f03f3e7418a",
   "metadata": {
    "execution": {
     "iopub.execute_input": "2023-05-18T16:22:50.499923Z",
     "iopub.status.busy": "2023-05-18T16:22:50.499722Z",
     "iopub.status.idle": "2023-05-18T16:22:50.604680Z",
     "shell.execute_reply": "2023-05-18T16:22:50.603960Z",
     "shell.execute_reply.started": "2023-05-18T16:22:50.499909Z"
    },
    "tags": []
   },
   "outputs": [],
   "source": [
    "X_train, X_test, y_train, y_test = train_test_split(X_train, y_train, test_size=0.3)"
   ]
  },
  {
   "cell_type": "code",
   "execution_count": 226,
   "id": "7ea61775-85df-4ceb-ac76-4acd0d63041c",
   "metadata": {
    "execution": {
     "iopub.execute_input": "2023-05-18T16:23:50.975959Z",
     "iopub.status.busy": "2023-05-18T16:23:50.975199Z",
     "iopub.status.idle": "2023-05-18T16:23:50.984280Z",
     "shell.execute_reply": "2023-05-18T16:23:50.983961Z",
     "shell.execute_reply.started": "2023-05-18T16:23:50.975940Z"
    },
    "tags": []
   },
   "outputs": [],
   "source": [
    "model = LinearRegression()"
   ]
  },
  {
   "cell_type": "code",
   "execution_count": 227,
   "id": "15d26526-31ea-4a7d-94ba-f79474e39fe4",
   "metadata": {
    "execution": {
     "iopub.execute_input": "2023-05-18T16:24:12.711263Z",
     "iopub.status.busy": "2023-05-18T16:24:12.711132Z",
     "iopub.status.idle": "2023-05-18T16:24:15.133598Z",
     "shell.execute_reply": "2023-05-18T16:24:15.133120Z",
     "shell.execute_reply.started": "2023-05-18T16:24:12.711254Z"
    },
    "tags": []
   },
   "outputs": [
    {
     "data": {
      "text/html": [
       "<style>#sk-container-id-1 {color: black;background-color: white;}#sk-container-id-1 pre{padding: 0;}#sk-container-id-1 div.sk-toggleable {background-color: white;}#sk-container-id-1 label.sk-toggleable__label {cursor: pointer;display: block;width: 100%;margin-bottom: 0;padding: 0.3em;box-sizing: border-box;text-align: center;}#sk-container-id-1 label.sk-toggleable__label-arrow:before {content: \"▸\";float: left;margin-right: 0.25em;color: #696969;}#sk-container-id-1 label.sk-toggleable__label-arrow:hover:before {color: black;}#sk-container-id-1 div.sk-estimator:hover label.sk-toggleable__label-arrow:before {color: black;}#sk-container-id-1 div.sk-toggleable__content {max-height: 0;max-width: 0;overflow: hidden;text-align: left;background-color: #f0f8ff;}#sk-container-id-1 div.sk-toggleable__content pre {margin: 0.2em;color: black;border-radius: 0.25em;background-color: #f0f8ff;}#sk-container-id-1 input.sk-toggleable__control:checked~div.sk-toggleable__content {max-height: 200px;max-width: 100%;overflow: auto;}#sk-container-id-1 input.sk-toggleable__control:checked~label.sk-toggleable__label-arrow:before {content: \"▾\";}#sk-container-id-1 div.sk-estimator input.sk-toggleable__control:checked~label.sk-toggleable__label {background-color: #d4ebff;}#sk-container-id-1 div.sk-label input.sk-toggleable__control:checked~label.sk-toggleable__label {background-color: #d4ebff;}#sk-container-id-1 input.sk-hidden--visually {border: 0;clip: rect(1px 1px 1px 1px);clip: rect(1px, 1px, 1px, 1px);height: 1px;margin: -1px;overflow: hidden;padding: 0;position: absolute;width: 1px;}#sk-container-id-1 div.sk-estimator {font-family: monospace;background-color: #f0f8ff;border: 1px dotted black;border-radius: 0.25em;box-sizing: border-box;margin-bottom: 0.5em;}#sk-container-id-1 div.sk-estimator:hover {background-color: #d4ebff;}#sk-container-id-1 div.sk-parallel-item::after {content: \"\";width: 100%;border-bottom: 1px solid gray;flex-grow: 1;}#sk-container-id-1 div.sk-label:hover label.sk-toggleable__label {background-color: #d4ebff;}#sk-container-id-1 div.sk-serial::before {content: \"\";position: absolute;border-left: 1px solid gray;box-sizing: border-box;top: 0;bottom: 0;left: 50%;z-index: 0;}#sk-container-id-1 div.sk-serial {display: flex;flex-direction: column;align-items: center;background-color: white;padding-right: 0.2em;padding-left: 0.2em;position: relative;}#sk-container-id-1 div.sk-item {position: relative;z-index: 1;}#sk-container-id-1 div.sk-parallel {display: flex;align-items: stretch;justify-content: center;background-color: white;position: relative;}#sk-container-id-1 div.sk-item::before, #sk-container-id-1 div.sk-parallel-item::before {content: \"\";position: absolute;border-left: 1px solid gray;box-sizing: border-box;top: 0;bottom: 0;left: 50%;z-index: -1;}#sk-container-id-1 div.sk-parallel-item {display: flex;flex-direction: column;z-index: 1;position: relative;background-color: white;}#sk-container-id-1 div.sk-parallel-item:first-child::after {align-self: flex-end;width: 50%;}#sk-container-id-1 div.sk-parallel-item:last-child::after {align-self: flex-start;width: 50%;}#sk-container-id-1 div.sk-parallel-item:only-child::after {width: 0;}#sk-container-id-1 div.sk-dashed-wrapped {border: 1px dashed gray;margin: 0 0.4em 0.5em 0.4em;box-sizing: border-box;padding-bottom: 0.4em;background-color: white;}#sk-container-id-1 div.sk-label label {font-family: monospace;font-weight: bold;display: inline-block;line-height: 1.2em;}#sk-container-id-1 div.sk-label-container {text-align: center;}#sk-container-id-1 div.sk-container {/* jupyter's `normalize.less` sets `[hidden] { display: none; }` but bootstrap.min.css set `[hidden] { display: none !important; }` so we also need the `!important` here to be able to override the default hidden behavior on the sphinx rendered scikit-learn.org. See: https://github.com/scikit-learn/scikit-learn/issues/21755 */display: inline-block !important;position: relative;}#sk-container-id-1 div.sk-text-repr-fallback {display: none;}</style><div id=\"sk-container-id-1\" class=\"sk-top-container\"><div class=\"sk-text-repr-fallback\"><pre>LinearRegression()</pre><b>In a Jupyter environment, please rerun this cell to show the HTML representation or trust the notebook. <br />On GitHub, the HTML representation is unable to render, please try loading this page with nbviewer.org.</b></div><div class=\"sk-container\" hidden><div class=\"sk-item\"><div class=\"sk-estimator sk-toggleable\"><input class=\"sk-toggleable__control sk-hidden--visually\" id=\"sk-estimator-id-1\" type=\"checkbox\" checked><label for=\"sk-estimator-id-1\" class=\"sk-toggleable__label sk-toggleable__label-arrow\">LinearRegression</label><div class=\"sk-toggleable__content\"><pre>LinearRegression()</pre></div></div></div></div></div>"
      ],
      "text/plain": [
       "LinearRegression()"
      ]
     },
     "execution_count": 227,
     "metadata": {},
     "output_type": "execute_result"
    }
   ],
   "source": [
    "model.fit(X_train, y_train)"
   ]
  },
  {
   "cell_type": "code",
   "execution_count": 229,
   "id": "45896a70-e2e3-467b-ae34-8ff656fa9ece",
   "metadata": {
    "execution": {
     "iopub.execute_input": "2023-05-18T16:25:27.138381Z",
     "iopub.status.busy": "2023-05-18T16:25:27.138181Z",
     "iopub.status.idle": "2023-05-18T16:25:27.153460Z",
     "shell.execute_reply": "2023-05-18T16:25:27.153005Z",
     "shell.execute_reply.started": "2023-05-18T16:25:27.138367Z"
    },
    "tags": []
   },
   "outputs": [],
   "source": [
    "y_pred = model.predict(X_train)"
   ]
  },
  {
   "cell_type": "code",
   "execution_count": 236,
   "id": "659f58b9-ff48-4b15-ac8b-95054c03cb6a",
   "metadata": {
    "execution": {
     "iopub.execute_input": "2023-05-18T16:33:25.508428Z",
     "iopub.status.busy": "2023-05-18T16:33:25.508241Z",
     "iopub.status.idle": "2023-05-18T16:33:29.081424Z",
     "shell.execute_reply": "2023-05-18T16:33:29.081040Z",
     "shell.execute_reply.started": "2023-05-18T16:33:25.508418Z"
    },
    "tags": []
   },
   "outputs": [
    {
     "data": {
      "text/plain": [
       "<matplotlib.legend.Legend at 0x7f956497ea40>"
      ]
     },
     "execution_count": 236,
     "metadata": {},
     "output_type": "execute_result"
    },
    {
     "data": {
      "image/png": "[encoded data removed]",
      "text/plain": [
       "<Figure size 640x480 with 1 Axes>"
      ]
     },
     "metadata": {},
     "output_type": "display_data"
    }
   ],
   "source": [
    "sns.distplot(y_pred, label='prediction')\n",
    "sns.distplot(y_train, label='actuals')\n",
    "plt.xlim(0, 100)\n",
    "plt.legend()"
   ]
  },
  {
   "cell_type": "code",
   "execution_count": 240,
   "id": "4ac5ca99-ec06-4583-b0fc-edbdc21d0366",
   "metadata": {
    "execution": {
     "iopub.execute_input": "2023-05-18T16:35:18.993768Z",
     "iopub.status.busy": "2023-05-18T16:35:18.993636Z",
     "iopub.status.idle": "2023-05-18T16:35:19.006289Z",
     "shell.execute_reply": "2023-05-18T16:35:19.005896Z",
     "shell.execute_reply.started": "2023-05-18T16:35:18.993760Z"
    }
   },
   "outputs": [
    {
     "data": {
      "text/plain": [
       "5.766549051507733"
      ]
     },
     "execution_count": 240,
     "metadata": {},
     "output_type": "execute_result"
    }
   ],
   "source": [
    "mean_squared_error(y_train, y_pred, squared=False)"
   ]
  },
  {
   "cell_type": "code",
   "execution_count": 259,
   "id": "d7cd6810-d5d7-4dac-a9bb-260258afaab5",
   "metadata": {
    "execution": {
     "iopub.execute_input": "2023-05-18T16:44:22.393132Z",
     "iopub.status.busy": "2023-05-18T16:44:22.393001Z",
     "iopub.status.idle": "2023-05-18T16:44:22.410952Z",
     "shell.execute_reply": "2023-05-18T16:44:22.410508Z",
     "shell.execute_reply.started": "2023-05-18T16:44:22.393123Z"
    }
   },
   "outputs": [
    {
     "data": {
      "text/html": [
       "<div>\n",
       "<style scoped>\n",
       "    .dataframe tbody tr th:only-of-type {\n",
       "        vertical-align: middle;\n",
       "    }\n",
       "\n",
       "    .dataframe tbody tr th {\n",
       "        vertical-align: top;\n",
       "    }\n",
       "\n",
       "    .dataframe thead th {\n",
       "        text-align: right;\n",
       "    }\n",
       "</style>\n",
       "<table border=\"1\" class=\"dataframe\">\n",
       "  <thead>\n",
       "    <tr style=\"text-align: right;\">\n",
       "      <th></th>\n",
       "      <th>VendorID</th>\n",
       "      <th>tpep_pickup_datetime</th>\n",
       "      <th>tpep_dropoff_datetime</th>\n",
       "      <th>passenger_count</th>\n",
       "      <th>trip_distance</th>\n",
       "      <th>RatecodeID</th>\n",
       "      <th>store_and_fwd_flag</th>\n",
       "      <th>PULocationID</th>\n",
       "      <th>DOLocationID</th>\n",
       "      <th>payment_type</th>\n",
       "      <th>fare_amount</th>\n",
       "      <th>extra</th>\n",
       "      <th>mta_tax</th>\n",
       "      <th>tip_amount</th>\n",
       "      <th>tolls_amount</th>\n",
       "      <th>improvement_surcharge</th>\n",
       "      <th>total_amount</th>\n",
       "      <th>congestion_surcharge</th>\n",
       "      <th>airport_fee</th>\n",
       "      <th>duration</th>\n",
       "    </tr>\n",
       "  </thead>\n",
       "  <tbody>\n",
       "    <tr>\n",
       "      <th>0</th>\n",
       "      <td>1</td>\n",
       "      <td>2022-01-01 00:35:40</td>\n",
       "      <td>2022-01-01 00:53:29</td>\n",
       "      <td>2.00000</td>\n",
       "      <td>3.80000</td>\n",
       "      <td>1.00000</td>\n",
       "      <td>N</td>\n",
       "      <td>142</td>\n",
       "      <td>236</td>\n",
       "      <td>1</td>\n",
       "      <td>14.50000</td>\n",
       "      <td>3.00000</td>\n",
       "      <td>0.50000</td>\n",
       "      <td>3.65000</td>\n",
       "      <td>0.00000</td>\n",
       "      <td>0.30000</td>\n",
       "      <td>21.95000</td>\n",
       "      <td>2.50000</td>\n",
       "      <td>0.00000</td>\n",
       "      <td>17.82000</td>\n",
       "    </tr>\n",
       "    <tr>\n",
       "      <th>1</th>\n",
       "      <td>1</td>\n",
       "      <td>2022-01-01 00:33:43</td>\n",
       "      <td>2022-01-01 00:42:07</td>\n",
       "      <td>1.00000</td>\n",
       "      <td>2.10000</td>\n",
       "      <td>1.00000</td>\n",
       "      <td>N</td>\n",
       "      <td>236</td>\n",
       "      <td>42</td>\n",
       "      <td>1</td>\n",
       "      <td>8.00000</td>\n",
       "      <td>0.50000</td>\n",
       "      <td>0.50000</td>\n",
       "      <td>4.00000</td>\n",
       "      <td>0.00000</td>\n",
       "      <td>0.30000</td>\n",
       "      <td>13.30000</td>\n",
       "      <td>0.00000</td>\n",
       "      <td>0.00000</td>\n",
       "      <td>8.40000</td>\n",
       "    </tr>\n",
       "    <tr>\n",
       "      <th>3</th>\n",
       "      <td>2</td>\n",
       "      <td>2022-01-01 00:25:21</td>\n",
       "      <td>2022-01-01 00:35:23</td>\n",
       "      <td>1.00000</td>\n",
       "      <td>1.09000</td>\n",
       "      <td>1.00000</td>\n",
       "      <td>N</td>\n",
       "      <td>114</td>\n",
       "      <td>68</td>\n",
       "      <td>2</td>\n",
       "      <td>8.00000</td>\n",
       "      <td>0.50000</td>\n",
       "      <td>0.50000</td>\n",
       "      <td>0.00000</td>\n",
       "      <td>0.00000</td>\n",
       "      <td>0.30000</td>\n",
       "      <td>11.80000</td>\n",
       "      <td>2.50000</td>\n",
       "      <td>0.00000</td>\n",
       "      <td>10.03000</td>\n",
       "    </tr>\n",
       "    <tr>\n",
       "      <th>4</th>\n",
       "      <td>2</td>\n",
       "      <td>2022-01-01 00:36:48</td>\n",
       "      <td>2022-01-01 01:14:20</td>\n",
       "      <td>1.00000</td>\n",
       "      <td>4.30000</td>\n",
       "      <td>1.00000</td>\n",
       "      <td>N</td>\n",
       "      <td>68</td>\n",
       "      <td>163</td>\n",
       "      <td>1</td>\n",
       "      <td>23.50000</td>\n",
       "      <td>0.50000</td>\n",
       "      <td>0.50000</td>\n",
       "      <td>3.00000</td>\n",
       "      <td>0.00000</td>\n",
       "      <td>0.30000</td>\n",
       "      <td>30.30000</td>\n",
       "      <td>2.50000</td>\n",
       "      <td>0.00000</td>\n",
       "      <td>37.53000</td>\n",
       "    </tr>\n",
       "    <tr>\n",
       "      <th>5</th>\n",
       "      <td>1</td>\n",
       "      <td>2022-01-01 00:40:15</td>\n",
       "      <td>2022-01-01 01:09:48</td>\n",
       "      <td>1.00000</td>\n",
       "      <td>10.30000</td>\n",
       "      <td>1.00000</td>\n",
       "      <td>N</td>\n",
       "      <td>138</td>\n",
       "      <td>161</td>\n",
       "      <td>1</td>\n",
       "      <td>33.00000</td>\n",
       "      <td>3.00000</td>\n",
       "      <td>0.50000</td>\n",
       "      <td>13.00000</td>\n",
       "      <td>6.55000</td>\n",
       "      <td>0.30000</td>\n",
       "      <td>56.35000</td>\n",
       "      <td>2.50000</td>\n",
       "      <td>0.00000</td>\n",
       "      <td>29.55000</td>\n",
       "    </tr>\n",
       "    <tr>\n",
       "      <th>...</th>\n",
       "      <td>...</td>\n",
       "      <td>...</td>\n",
       "      <td>...</td>\n",
       "      <td>...</td>\n",
       "      <td>...</td>\n",
       "      <td>...</td>\n",
       "      <td>...</td>\n",
       "      <td>...</td>\n",
       "      <td>...</td>\n",
       "      <td>...</td>\n",
       "      <td>...</td>\n",
       "      <td>...</td>\n",
       "      <td>...</td>\n",
       "      <td>...</td>\n",
       "      <td>...</td>\n",
       "      <td>...</td>\n",
       "      <td>...</td>\n",
       "      <td>...</td>\n",
       "      <td>...</td>\n",
       "      <td>...</td>\n",
       "    </tr>\n",
       "    <tr>\n",
       "      <th>2463926</th>\n",
       "      <td>2</td>\n",
       "      <td>2022-01-31 23:36:53</td>\n",
       "      <td>2022-01-31 23:42:51</td>\n",
       "      <td>NaN</td>\n",
       "      <td>1.32000</td>\n",
       "      <td>NaN</td>\n",
       "      <td>None</td>\n",
       "      <td>90</td>\n",
       "      <td>170</td>\n",
       "      <td>0</td>\n",
       "      <td>8.00000</td>\n",
       "      <td>0.00000</td>\n",
       "      <td>0.50000</td>\n",
       "      <td>2.39000</td>\n",
       "      <td>0.00000</td>\n",
       "      <td>0.30000</td>\n",
       "      <td>13.69000</td>\n",
       "      <td>NaN</td>\n",
       "      <td>NaN</td>\n",
       "      <td>5.97000</td>\n",
       "    </tr>\n",
       "    <tr>\n",
       "      <th>2463927</th>\n",
       "      <td>2</td>\n",
       "      <td>2022-01-31 23:44:22</td>\n",
       "      <td>2022-01-31 23:55:01</td>\n",
       "      <td>NaN</td>\n",
       "      <td>4.19000</td>\n",
       "      <td>NaN</td>\n",
       "      <td>None</td>\n",
       "      <td>107</td>\n",
       "      <td>75</td>\n",
       "      <td>0</td>\n",
       "      <td>16.80000</td>\n",
       "      <td>0.00000</td>\n",
       "      <td>0.50000</td>\n",
       "      <td>4.35000</td>\n",
       "      <td>0.00000</td>\n",
       "      <td>0.30000</td>\n",
       "      <td>24.45000</td>\n",
       "      <td>NaN</td>\n",
       "      <td>NaN</td>\n",
       "      <td>10.65000</td>\n",
       "    </tr>\n",
       "    <tr>\n",
       "      <th>2463928</th>\n",
       "      <td>2</td>\n",
       "      <td>2022-01-31 23:39:00</td>\n",
       "      <td>2022-01-31 23:50:00</td>\n",
       "      <td>NaN</td>\n",
       "      <td>2.10000</td>\n",
       "      <td>NaN</td>\n",
       "      <td>None</td>\n",
       "      <td>113</td>\n",
       "      <td>246</td>\n",
       "      <td>0</td>\n",
       "      <td>11.22000</td>\n",
       "      <td>0.00000</td>\n",
       "      <td>0.50000</td>\n",
       "      <td>2.00000</td>\n",
       "      <td>0.00000</td>\n",
       "      <td>0.30000</td>\n",
       "      <td>16.52000</td>\n",
       "      <td>NaN</td>\n",
       "      <td>NaN</td>\n",
       "      <td>11.00000</td>\n",
       "    </tr>\n",
       "    <tr>\n",
       "      <th>2463929</th>\n",
       "      <td>2</td>\n",
       "      <td>2022-01-31 23:36:42</td>\n",
       "      <td>2022-01-31 23:48:45</td>\n",
       "      <td>NaN</td>\n",
       "      <td>2.92000</td>\n",
       "      <td>NaN</td>\n",
       "      <td>None</td>\n",
       "      <td>148</td>\n",
       "      <td>164</td>\n",
       "      <td>0</td>\n",
       "      <td>12.40000</td>\n",
       "      <td>0.00000</td>\n",
       "      <td>0.50000</td>\n",
       "      <td>0.00000</td>\n",
       "      <td>0.00000</td>\n",
       "      <td>0.30000</td>\n",
       "      <td>15.70000</td>\n",
       "      <td>NaN</td>\n",
       "      <td>NaN</td>\n",
       "      <td>12.05000</td>\n",
       "    </tr>\n",
       "    <tr>\n",
       "      <th>2463930</th>\n",
       "      <td>2</td>\n",
       "      <td>2022-01-31 23:46:00</td>\n",
       "      <td>2022-02-01 00:13:00</td>\n",
       "      <td>NaN</td>\n",
       "      <td>8.94000</td>\n",
       "      <td>NaN</td>\n",
       "      <td>None</td>\n",
       "      <td>186</td>\n",
       "      <td>181</td>\n",
       "      <td>0</td>\n",
       "      <td>25.48000</td>\n",
       "      <td>0.00000</td>\n",
       "      <td>0.50000</td>\n",
       "      <td>6.28000</td>\n",
       "      <td>0.00000</td>\n",
       "      <td>0.30000</td>\n",
       "      <td>35.06000</td>\n",
       "      <td>NaN</td>\n",
       "      <td>NaN</td>\n",
       "      <td>27.00000</td>\n",
       "    </tr>\n",
       "  </tbody>\n",
       "</table>\n",
       "<p>1896737 rows × 20 columns</p>\n",
       "</div>"
      ],
      "text/plain": [
       "         VendorID tpep_pickup_datetime tpep_dropoff_datetime  passenger_count  \\\n",
       "0               1  2022-01-01 00:35:40   2022-01-01 00:53:29          2.00000   \n",
       "1               1  2022-01-01 00:33:43   2022-01-01 00:42:07          1.00000   \n",
       "3               2  2022-01-01 00:25:21   2022-01-01 00:35:23          1.00000   \n",
       "4               2  2022-01-01 00:36:48   2022-01-01 01:14:20          1.00000   \n",
       "5               1  2022-01-01 00:40:15   2022-01-01 01:09:48          1.00000   \n",
       "...           ...                  ...                   ...              ...   \n",
       "2463926         2  2022-01-31 23:36:53   2022-01-31 23:42:51              NaN   \n",
       "2463927         2  2022-01-31 23:44:22   2022-01-31 23:55:01              NaN   \n",
       "2463928         2  2022-01-31 23:39:00   2022-01-31 23:50:00              NaN   \n",
       "2463929         2  2022-01-31 23:36:42   2022-01-31 23:48:45              NaN   \n",
       "2463930         2  2022-01-31 23:46:00   2022-02-01 00:13:00              NaN   \n",
       "\n",
       "         trip_distance  RatecodeID store_and_fwd_flag PULocationID  \\\n",
       "0              3.80000     1.00000                  N          142   \n",
       "1              2.10000     1.00000                  N          236   \n",
       "3              1.09000     1.00000                  N          114   \n",
       "4              4.30000     1.00000                  N           68   \n",
       "5             10.30000     1.00000                  N          138   \n",
       "...                ...         ...                ...          ...   \n",
       "2463926        1.32000         NaN               None           90   \n",
       "2463927        4.19000         NaN               None          107   \n",
       "2463928        2.10000         NaN               None          113   \n",
       "2463929        2.92000         NaN               None          148   \n",
       "2463930        8.94000         NaN               None          186   \n",
       "\n",
       "        DOLocationID  payment_type  fare_amount   extra  mta_tax  tip_amount  \\\n",
       "0                236             1     14.50000 3.00000  0.50000     3.65000   \n",
       "1                 42             1      8.00000 0.50000  0.50000     4.00000   \n",
       "3                 68             2      8.00000 0.50000  0.50000     0.00000   \n",
       "4                163             1     23.50000 0.50000  0.50000     3.00000   \n",
       "5                161             1     33.00000 3.00000  0.50000    13.00000   \n",
       "...              ...           ...          ...     ...      ...         ...   \n",
       "2463926          170             0      8.00000 0.00000  0.50000     2.39000   \n",
       "2463927           75             0     16.80000 0.00000  0.50000     4.35000   \n",
       "2463928          246             0     11.22000 0.00000  0.50000     2.00000   \n",
       "2463929          164             0     12.40000 0.00000  0.50000     0.00000   \n",
       "2463930          181             0     25.48000 0.00000  0.50000     6.28000   \n",
       "\n",
       "         tolls_amount  improvement_surcharge  total_amount  \\\n",
       "0             0.00000                0.30000      21.95000   \n",
       "1             0.00000                0.30000      13.30000   \n",
       "3             0.00000                0.30000      11.80000   \n",
       "4             0.00000                0.30000      30.30000   \n",
       "5             6.55000                0.30000      56.35000   \n",
       "...               ...                    ...           ...   \n",
       "2463926       0.00000                0.30000      13.69000   \n",
       "2463927       0.00000                0.30000      24.45000   \n",
       "2463928       0.00000                0.30000      16.52000   \n",
       "2463929       0.00000                0.30000      15.70000   \n",
       "2463930       0.00000                0.30000      35.06000   \n",
       "\n",
       "         congestion_surcharge  airport_fee  duration  \n",
       "0                     2.50000      0.00000  17.82000  \n",
       "1                     0.00000      0.00000   8.40000  \n",
       "3                     2.50000      0.00000  10.03000  \n",
       "4                     2.50000      0.00000  37.53000  \n",
       "5                     2.50000      0.00000  29.55000  \n",
       "...                       ...          ...       ...  \n",
       "2463926                   NaN          NaN   5.97000  \n",
       "2463927                   NaN          NaN  10.65000  \n",
       "2463928                   NaN          NaN  11.00000  \n",
       "2463929                   NaN          NaN  12.05000  \n",
       "2463930                   NaN          NaN  27.00000  \n",
       "\n",
       "[1896737 rows x 20 columns]"
      ]
     },
     "execution_count": 259,
     "metadata": {},
     "output_type": "execute_result"
    }
   ],
   "source": [
    "ytjan_df"
   ]
  },
  {
   "cell_type": "code",
   "execution_count": 241,
   "id": "65aaf937-c29c-4a93-b5a4-a22d2ea59716",
   "metadata": {
    "execution": {
     "iopub.execute_input": "2023-05-18T16:39:21.730690Z",
     "iopub.status.busy": "2023-05-18T16:39:21.730557Z",
     "iopub.status.idle": "2023-05-18T16:39:21.864714Z",
     "shell.execute_reply": "2023-05-18T16:39:21.864231Z",
     "shell.execute_reply.started": "2023-05-18T16:39:21.730681Z"
    }
   },
   "outputs": [],
   "source": [
    "ytfev_df = pd.read_parquet(D_PATH / 'yellow_tripdata_2022-02.parquet')"
   ]
  },
  {
   "cell_type": "code",
   "execution_count": 258,
   "id": "6316c759-a4ec-4924-8cfe-758c4d1e3384",
   "metadata": {
    "execution": {
     "iopub.execute_input": "2023-05-18T16:44:12.498736Z",
     "iopub.status.busy": "2023-05-18T16:44:12.498603Z",
     "iopub.status.idle": "2023-05-18T16:44:12.512896Z",
     "shell.execute_reply": "2023-05-18T16:44:12.512505Z",
     "shell.execute_reply.started": "2023-05-18T16:44:12.498728Z"
    }
   },
   "outputs": [
    {
     "data": {
      "text/html": [
       "<div>\n",
       "<style scoped>\n",
       "    .dataframe tbody tr th:only-of-type {\n",
       "        vertical-align: middle;\n",
       "    }\n",
       "\n",
       "    .dataframe tbody tr th {\n",
       "        vertical-align: top;\n",
       "    }\n",
       "\n",
       "    .dataframe thead th {\n",
       "        text-align: right;\n",
       "    }\n",
       "</style>\n",
       "<table border=\"1\" class=\"dataframe\">\n",
       "  <thead>\n",
       "    <tr style=\"text-align: right;\">\n",
       "      <th></th>\n",
       "      <th>VendorID</th>\n",
       "      <th>tpep_pickup_datetime</th>\n",
       "      <th>tpep_dropoff_datetime</th>\n",
       "      <th>passenger_count</th>\n",
       "      <th>trip_distance</th>\n",
       "      <th>RatecodeID</th>\n",
       "      <th>store_and_fwd_flag</th>\n",
       "      <th>PULocationID</th>\n",
       "      <th>DOLocationID</th>\n",
       "      <th>payment_type</th>\n",
       "      <th>fare_amount</th>\n",
       "      <th>extra</th>\n",
       "      <th>mta_tax</th>\n",
       "      <th>tip_amount</th>\n",
       "      <th>tolls_amount</th>\n",
       "      <th>improvement_surcharge</th>\n",
       "      <th>total_amount</th>\n",
       "      <th>congestion_surcharge</th>\n",
       "      <th>airport_fee</th>\n",
       "      <th>duration</th>\n",
       "    </tr>\n",
       "  </thead>\n",
       "  <tbody>\n",
       "    <tr>\n",
       "      <th>0</th>\n",
       "      <td>1</td>\n",
       "      <td>2022-02-01 00:06:58</td>\n",
       "      <td>2022-02-01 00:19:24</td>\n",
       "      <td>1.00000</td>\n",
       "      <td>5.40000</td>\n",
       "      <td>1.00000</td>\n",
       "      <td>N</td>\n",
       "      <td>138</td>\n",
       "      <td>252</td>\n",
       "      <td>1</td>\n",
       "      <td>17.00000</td>\n",
       "      <td>1.75000</td>\n",
       "      <td>0.50000</td>\n",
       "      <td>3.90000</td>\n",
       "      <td>0.00000</td>\n",
       "      <td>0.30000</td>\n",
       "      <td>23.45000</td>\n",
       "      <td>0.00000</td>\n",
       "      <td>1.25000</td>\n",
       "      <td>12.43000</td>\n",
       "    </tr>\n",
       "    <tr>\n",
       "      <th>1</th>\n",
       "      <td>1</td>\n",
       "      <td>2022-02-01 00:38:22</td>\n",
       "      <td>2022-02-01 00:55:55</td>\n",
       "      <td>1.00000</td>\n",
       "      <td>6.40000</td>\n",
       "      <td>1.00000</td>\n",
       "      <td>N</td>\n",
       "      <td>138</td>\n",
       "      <td>41</td>\n",
       "      <td>2</td>\n",
       "      <td>21.00000</td>\n",
       "      <td>1.75000</td>\n",
       "      <td>0.50000</td>\n",
       "      <td>0.00000</td>\n",
       "      <td>6.55000</td>\n",
       "      <td>0.30000</td>\n",
       "      <td>30.10000</td>\n",
       "      <td>0.00000</td>\n",
       "      <td>1.25000</td>\n",
       "      <td>17.55000</td>\n",
       "    </tr>\n",
       "    <tr>\n",
       "      <th>2</th>\n",
       "      <td>1</td>\n",
       "      <td>2022-02-01 00:03:20</td>\n",
       "      <td>2022-02-01 00:26:59</td>\n",
       "      <td>1.00000</td>\n",
       "      <td>12.50000</td>\n",
       "      <td>1.00000</td>\n",
       "      <td>N</td>\n",
       "      <td>138</td>\n",
       "      <td>200</td>\n",
       "      <td>2</td>\n",
       "      <td>35.50000</td>\n",
       "      <td>1.75000</td>\n",
       "      <td>0.50000</td>\n",
       "      <td>0.00000</td>\n",
       "      <td>6.55000</td>\n",
       "      <td>0.30000</td>\n",
       "      <td>44.60000</td>\n",
       "      <td>0.00000</td>\n",
       "      <td>1.25000</td>\n",
       "      <td>23.65000</td>\n",
       "    </tr>\n",
       "    <tr>\n",
       "      <th>3</th>\n",
       "      <td>2</td>\n",
       "      <td>2022-02-01 00:08:00</td>\n",
       "      <td>2022-02-01 00:28:05</td>\n",
       "      <td>1.00000</td>\n",
       "      <td>9.88000</td>\n",
       "      <td>1.00000</td>\n",
       "      <td>N</td>\n",
       "      <td>239</td>\n",
       "      <td>200</td>\n",
       "      <td>2</td>\n",
       "      <td>28.00000</td>\n",
       "      <td>0.50000</td>\n",
       "      <td>0.50000</td>\n",
       "      <td>0.00000</td>\n",
       "      <td>3.00000</td>\n",
       "      <td>0.30000</td>\n",
       "      <td>34.80000</td>\n",
       "      <td>2.50000</td>\n",
       "      <td>0.00000</td>\n",
       "      <td>20.08000</td>\n",
       "    </tr>\n",
       "    <tr>\n",
       "      <th>4</th>\n",
       "      <td>2</td>\n",
       "      <td>2022-02-01 00:06:48</td>\n",
       "      <td>2022-02-01 00:33:07</td>\n",
       "      <td>1.00000</td>\n",
       "      <td>12.16000</td>\n",
       "      <td>1.00000</td>\n",
       "      <td>N</td>\n",
       "      <td>138</td>\n",
       "      <td>125</td>\n",
       "      <td>1</td>\n",
       "      <td>35.50000</td>\n",
       "      <td>0.50000</td>\n",
       "      <td>0.50000</td>\n",
       "      <td>8.11000</td>\n",
       "      <td>0.00000</td>\n",
       "      <td>0.30000</td>\n",
       "      <td>48.66000</td>\n",
       "      <td>2.50000</td>\n",
       "      <td>1.25000</td>\n",
       "      <td>26.32000</td>\n",
       "    </tr>\n",
       "    <tr>\n",
       "      <th>...</th>\n",
       "      <td>...</td>\n",
       "      <td>...</td>\n",
       "      <td>...</td>\n",
       "      <td>...</td>\n",
       "      <td>...</td>\n",
       "      <td>...</td>\n",
       "      <td>...</td>\n",
       "      <td>...</td>\n",
       "      <td>...</td>\n",
       "      <td>...</td>\n",
       "      <td>...</td>\n",
       "      <td>...</td>\n",
       "      <td>...</td>\n",
       "      <td>...</td>\n",
       "      <td>...</td>\n",
       "      <td>...</td>\n",
       "      <td>...</td>\n",
       "      <td>...</td>\n",
       "      <td>...</td>\n",
       "      <td>...</td>\n",
       "    </tr>\n",
       "    <tr>\n",
       "      <th>2979426</th>\n",
       "      <td>2</td>\n",
       "      <td>2022-02-28 23:50:00</td>\n",
       "      <td>2022-03-01 00:06:00</td>\n",
       "      <td>NaN</td>\n",
       "      <td>3.40000</td>\n",
       "      <td>NaN</td>\n",
       "      <td>None</td>\n",
       "      <td>163</td>\n",
       "      <td>193</td>\n",
       "      <td>0</td>\n",
       "      <td>14.37000</td>\n",
       "      <td>0.00000</td>\n",
       "      <td>0.50000</td>\n",
       "      <td>0.00000</td>\n",
       "      <td>0.00000</td>\n",
       "      <td>0.30000</td>\n",
       "      <td>17.67000</td>\n",
       "      <td>NaN</td>\n",
       "      <td>NaN</td>\n",
       "      <td>16.00000</td>\n",
       "    </tr>\n",
       "    <tr>\n",
       "      <th>2979427</th>\n",
       "      <td>2</td>\n",
       "      <td>2022-02-28 23:06:57</td>\n",
       "      <td>2022-02-28 23:19:12</td>\n",
       "      <td>NaN</td>\n",
       "      <td>3.48000</td>\n",
       "      <td>NaN</td>\n",
       "      <td>None</td>\n",
       "      <td>141</td>\n",
       "      <td>4</td>\n",
       "      <td>0</td>\n",
       "      <td>14.51000</td>\n",
       "      <td>0.00000</td>\n",
       "      <td>0.50000</td>\n",
       "      <td>2.00000</td>\n",
       "      <td>0.00000</td>\n",
       "      <td>0.30000</td>\n",
       "      <td>19.81000</td>\n",
       "      <td>NaN</td>\n",
       "      <td>NaN</td>\n",
       "      <td>12.25000</td>\n",
       "    </tr>\n",
       "    <tr>\n",
       "      <th>2979428</th>\n",
       "      <td>2</td>\n",
       "      <td>2022-02-28 23:48:13</td>\n",
       "      <td>2022-03-01 00:03:33</td>\n",
       "      <td>NaN</td>\n",
       "      <td>3.05000</td>\n",
       "      <td>NaN</td>\n",
       "      <td>None</td>\n",
       "      <td>161</td>\n",
       "      <td>151</td>\n",
       "      <td>0</td>\n",
       "      <td>14.38000</td>\n",
       "      <td>0.00000</td>\n",
       "      <td>0.50000</td>\n",
       "      <td>3.81000</td>\n",
       "      <td>0.00000</td>\n",
       "      <td>0.30000</td>\n",
       "      <td>21.49000</td>\n",
       "      <td>NaN</td>\n",
       "      <td>NaN</td>\n",
       "      <td>15.33000</td>\n",
       "    </tr>\n",
       "    <tr>\n",
       "      <th>2979429</th>\n",
       "      <td>2</td>\n",
       "      <td>2022-02-28 23:56:41</td>\n",
       "      <td>2022-03-01 00:04:57</td>\n",
       "      <td>NaN</td>\n",
       "      <td>2.62000</td>\n",
       "      <td>NaN</td>\n",
       "      <td>None</td>\n",
       "      <td>141</td>\n",
       "      <td>226</td>\n",
       "      <td>0</td>\n",
       "      <td>12.53000</td>\n",
       "      <td>0.00000</td>\n",
       "      <td>0.50000</td>\n",
       "      <td>1.71000</td>\n",
       "      <td>0.00000</td>\n",
       "      <td>0.30000</td>\n",
       "      <td>17.54000</td>\n",
       "      <td>NaN</td>\n",
       "      <td>NaN</td>\n",
       "      <td>8.27000</td>\n",
       "    </tr>\n",
       "    <tr>\n",
       "      <th>2979430</th>\n",
       "      <td>2</td>\n",
       "      <td>2022-02-28 23:04:00</td>\n",
       "      <td>2022-02-28 23:10:00</td>\n",
       "      <td>NaN</td>\n",
       "      <td>1.41000</td>\n",
       "      <td>NaN</td>\n",
       "      <td>None</td>\n",
       "      <td>237</td>\n",
       "      <td>142</td>\n",
       "      <td>0</td>\n",
       "      <td>8.80000</td>\n",
       "      <td>0.00000</td>\n",
       "      <td>0.50000</td>\n",
       "      <td>2.57000</td>\n",
       "      <td>0.00000</td>\n",
       "      <td>0.30000</td>\n",
       "      <td>14.67000</td>\n",
       "      <td>NaN</td>\n",
       "      <td>NaN</td>\n",
       "      <td>6.00000</td>\n",
       "    </tr>\n",
       "  </tbody>\n",
       "</table>\n",
       "<p>2309288 rows × 20 columns</p>\n",
       "</div>"
      ],
      "text/plain": [
       "         VendorID tpep_pickup_datetime tpep_dropoff_datetime  passenger_count  \\\n",
       "0               1  2022-02-01 00:06:58   2022-02-01 00:19:24          1.00000   \n",
       "1               1  2022-02-01 00:38:22   2022-02-01 00:55:55          1.00000   \n",
       "2               1  2022-02-01 00:03:20   2022-02-01 00:26:59          1.00000   \n",
       "3               2  2022-02-01 00:08:00   2022-02-01 00:28:05          1.00000   \n",
       "4               2  2022-02-01 00:06:48   2022-02-01 00:33:07          1.00000   \n",
       "...           ...                  ...                   ...              ...   \n",
       "2979426         2  2022-02-28 23:50:00   2022-03-01 00:06:00              NaN   \n",
       "2979427         2  2022-02-28 23:06:57   2022-02-28 23:19:12              NaN   \n",
       "2979428         2  2022-02-28 23:48:13   2022-03-01 00:03:33              NaN   \n",
       "2979429         2  2022-02-28 23:56:41   2022-03-01 00:04:57              NaN   \n",
       "2979430         2  2022-02-28 23:04:00   2022-02-28 23:10:00              NaN   \n",
       "\n",
       "         trip_distance  RatecodeID store_and_fwd_flag PULocationID  \\\n",
       "0              5.40000     1.00000                  N          138   \n",
       "1              6.40000     1.00000                  N          138   \n",
       "2             12.50000     1.00000                  N          138   \n",
       "3              9.88000     1.00000                  N          239   \n",
       "4             12.16000     1.00000                  N          138   \n",
       "...                ...         ...                ...          ...   \n",
       "2979426        3.40000         NaN               None          163   \n",
       "2979427        3.48000         NaN               None          141   \n",
       "2979428        3.05000         NaN               None          161   \n",
       "2979429        2.62000         NaN               None          141   \n",
       "2979430        1.41000         NaN               None          237   \n",
       "\n",
       "        DOLocationID  payment_type  fare_amount   extra  mta_tax  tip_amount  \\\n",
       "0                252             1     17.00000 1.75000  0.50000     3.90000   \n",
       "1                 41             2     21.00000 1.75000  0.50000     0.00000   \n",
       "2                200             2     35.50000 1.75000  0.50000     0.00000   \n",
       "3                200             2     28.00000 0.50000  0.50000     0.00000   \n",
       "4                125             1     35.50000 0.50000  0.50000     8.11000   \n",
       "...              ...           ...          ...     ...      ...         ...   \n",
       "2979426          193             0     14.37000 0.00000  0.50000     0.00000   \n",
       "2979427            4             0     14.51000 0.00000  0.50000     2.00000   \n",
       "2979428          151             0     14.38000 0.00000  0.50000     3.81000   \n",
       "2979429          226             0     12.53000 0.00000  0.50000     1.71000   \n",
       "2979430          142             0      8.80000 0.00000  0.50000     2.57000   \n",
       "\n",
       "         tolls_amount  improvement_surcharge  total_amount  \\\n",
       "0             0.00000                0.30000      23.45000   \n",
       "1             6.55000                0.30000      30.10000   \n",
       "2             6.55000                0.30000      44.60000   \n",
       "3             3.00000                0.30000      34.80000   \n",
       "4             0.00000                0.30000      48.66000   \n",
       "...               ...                    ...           ...   \n",
       "2979426       0.00000                0.30000      17.67000   \n",
       "2979427       0.00000                0.30000      19.81000   \n",
       "2979428       0.00000                0.30000      21.49000   \n",
       "2979429       0.00000                0.30000      17.54000   \n",
       "2979430       0.00000                0.30000      14.67000   \n",
       "\n",
       "         congestion_surcharge  airport_fee  duration  \n",
       "0                     0.00000      1.25000  12.43000  \n",
       "1                     0.00000      1.25000  17.55000  \n",
       "2                     0.00000      1.25000  23.65000  \n",
       "3                     2.50000      0.00000  20.08000  \n",
       "4                     2.50000      1.25000  26.32000  \n",
       "...                       ...          ...       ...  \n",
       "2979426                   NaN          NaN  16.00000  \n",
       "2979427                   NaN          NaN  12.25000  \n",
       "2979428                   NaN          NaN  15.33000  \n",
       "2979429                   NaN          NaN   8.27000  \n",
       "2979430                   NaN          NaN   6.00000  \n",
       "\n",
       "[2309288 rows x 20 columns]"
      ]
     },
     "execution_count": 258,
     "metadata": {},
     "output_type": "execute_result"
    }
   ],
   "source": [
    "ytfev_df"
   ]
  },
  {
   "cell_type": "code",
   "execution_count": 242,
   "id": "6ad6b7c3-1211-4b71-8a64-60396cfaf392",
   "metadata": {
    "execution": {
     "iopub.execute_input": "2023-05-18T16:39:46.721769Z",
     "iopub.status.busy": "2023-05-18T16:39:46.721261Z",
     "iopub.status.idle": "2023-05-18T16:39:50.189510Z",
     "shell.execute_reply": "2023-05-18T16:39:50.189103Z",
     "shell.execute_reply.started": "2023-05-18T16:39:46.721741Z"
    }
   },
   "outputs": [],
   "source": [
    "ytfev_df['duration'] = \\\n",
    "    (ytfev_df['tpep_dropoff_datetime'] - ytfev_df['tpep_pickup_datetime']) \\\n",
    "    .apply(lambda col: round(col.total_seconds() / 60, 2))"
   ]
  },
  {
   "cell_type": "code",
   "execution_count": 260,
   "id": "b561234c-2841-4ae9-9ae4-d2240886731a",
   "metadata": {
    "execution": {
     "iopub.execute_input": "2023-05-18T16:44:29.286517Z",
     "iopub.status.busy": "2023-05-18T16:44:29.286366Z",
     "iopub.status.idle": "2023-05-18T16:44:29.389875Z",
     "shell.execute_reply": "2023-05-18T16:44:29.389370Z",
     "shell.execute_reply.started": "2023-05-18T16:44:29.286507Z"
    },
    "tags": []
   },
   "outputs": [],
   "source": [
    "ytfev_df = ytfev_df[(ytfev_df.duration.between(1,60))]"
   ]
  },
  {
   "cell_type": "code",
   "execution_count": 262,
   "id": "2c3faccc-0e7e-4b02-95e8-bdff8c684f11",
   "metadata": {
    "execution": {
     "iopub.execute_input": "2023-05-18T16:44:38.613785Z",
     "iopub.status.busy": "2023-05-18T16:44:38.613588Z",
     "iopub.status.idle": "2023-05-18T16:44:38.732994Z",
     "shell.execute_reply": "2023-05-18T16:44:38.732583Z",
     "shell.execute_reply.started": "2023-05-18T16:44:38.613772Z"
    },
    "tags": []
   },
   "outputs": [],
   "source": [
    "ytfev_df = ytfev_df[(ytfev_df.trip_distance < 652) & (ytfev_df.trip_distance >= 1)]"
   ]
  },
  {
   "cell_type": "code",
   "execution_count": 263,
   "id": "e901b592-b062-4c87-9658-10984f426316",
   "metadata": {
    "collapsed": true,
    "execution": {
     "iopub.execute_input": "2023-05-18T16:44:41.091977Z",
     "iopub.status.busy": "2023-05-18T16:44:41.091841Z",
     "iopub.status.idle": "2023-05-18T16:44:41.106821Z",
     "shell.execute_reply": "2023-05-18T16:44:41.106460Z",
     "shell.execute_reply.started": "2023-05-18T16:44:41.091967Z"
    },
    "jupyter": {
     "outputs_hidden": true
    },
    "tags": []
   },
   "outputs": [
    {
     "data": {
      "text/html": [
       "<div>\n",
       "<style scoped>\n",
       "    .dataframe tbody tr th:only-of-type {\n",
       "        vertical-align: middle;\n",
       "    }\n",
       "\n",
       "    .dataframe tbody tr th {\n",
       "        vertical-align: top;\n",
       "    }\n",
       "\n",
       "    .dataframe thead th {\n",
       "        text-align: right;\n",
       "    }\n",
       "</style>\n",
       "<table border=\"1\" class=\"dataframe\">\n",
       "  <thead>\n",
       "    <tr style=\"text-align: right;\">\n",
       "      <th></th>\n",
       "      <th>VendorID</th>\n",
       "      <th>tpep_pickup_datetime</th>\n",
       "      <th>tpep_dropoff_datetime</th>\n",
       "      <th>passenger_count</th>\n",
       "      <th>trip_distance</th>\n",
       "      <th>RatecodeID</th>\n",
       "      <th>store_and_fwd_flag</th>\n",
       "      <th>PULocationID</th>\n",
       "      <th>DOLocationID</th>\n",
       "      <th>payment_type</th>\n",
       "      <th>fare_amount</th>\n",
       "      <th>extra</th>\n",
       "      <th>mta_tax</th>\n",
       "      <th>tip_amount</th>\n",
       "      <th>tolls_amount</th>\n",
       "      <th>improvement_surcharge</th>\n",
       "      <th>total_amount</th>\n",
       "      <th>congestion_surcharge</th>\n",
       "      <th>airport_fee</th>\n",
       "      <th>duration</th>\n",
       "    </tr>\n",
       "  </thead>\n",
       "  <tbody>\n",
       "    <tr>\n",
       "      <th>0</th>\n",
       "      <td>1</td>\n",
       "      <td>2022-02-01 00:06:58</td>\n",
       "      <td>2022-02-01 00:19:24</td>\n",
       "      <td>1.00000</td>\n",
       "      <td>5.40000</td>\n",
       "      <td>1.00000</td>\n",
       "      <td>N</td>\n",
       "      <td>138</td>\n",
       "      <td>252</td>\n",
       "      <td>1</td>\n",
       "      <td>17.00000</td>\n",
       "      <td>1.75000</td>\n",
       "      <td>0.50000</td>\n",
       "      <td>3.90000</td>\n",
       "      <td>0.00000</td>\n",
       "      <td>0.30000</td>\n",
       "      <td>23.45000</td>\n",
       "      <td>0.00000</td>\n",
       "      <td>1.25000</td>\n",
       "      <td>12.43000</td>\n",
       "    </tr>\n",
       "    <tr>\n",
       "      <th>1</th>\n",
       "      <td>1</td>\n",
       "      <td>2022-02-01 00:38:22</td>\n",
       "      <td>2022-02-01 00:55:55</td>\n",
       "      <td>1.00000</td>\n",
       "      <td>6.40000</td>\n",
       "      <td>1.00000</td>\n",
       "      <td>N</td>\n",
       "      <td>138</td>\n",
       "      <td>41</td>\n",
       "      <td>2</td>\n",
       "      <td>21.00000</td>\n",
       "      <td>1.75000</td>\n",
       "      <td>0.50000</td>\n",
       "      <td>0.00000</td>\n",
       "      <td>6.55000</td>\n",
       "      <td>0.30000</td>\n",
       "      <td>30.10000</td>\n",
       "      <td>0.00000</td>\n",
       "      <td>1.25000</td>\n",
       "      <td>17.55000</td>\n",
       "    </tr>\n",
       "    <tr>\n",
       "      <th>2</th>\n",
       "      <td>1</td>\n",
       "      <td>2022-02-01 00:03:20</td>\n",
       "      <td>2022-02-01 00:26:59</td>\n",
       "      <td>1.00000</td>\n",
       "      <td>12.50000</td>\n",
       "      <td>1.00000</td>\n",
       "      <td>N</td>\n",
       "      <td>138</td>\n",
       "      <td>200</td>\n",
       "      <td>2</td>\n",
       "      <td>35.50000</td>\n",
       "      <td>1.75000</td>\n",
       "      <td>0.50000</td>\n",
       "      <td>0.00000</td>\n",
       "      <td>6.55000</td>\n",
       "      <td>0.30000</td>\n",
       "      <td>44.60000</td>\n",
       "      <td>0.00000</td>\n",
       "      <td>1.25000</td>\n",
       "      <td>23.65000</td>\n",
       "    </tr>\n",
       "    <tr>\n",
       "      <th>3</th>\n",
       "      <td>2</td>\n",
       "      <td>2022-02-01 00:08:00</td>\n",
       "      <td>2022-02-01 00:28:05</td>\n",
       "      <td>1.00000</td>\n",
       "      <td>9.88000</td>\n",
       "      <td>1.00000</td>\n",
       "      <td>N</td>\n",
       "      <td>239</td>\n",
       "      <td>200</td>\n",
       "      <td>2</td>\n",
       "      <td>28.00000</td>\n",
       "      <td>0.50000</td>\n",
       "      <td>0.50000</td>\n",
       "      <td>0.00000</td>\n",
       "      <td>3.00000</td>\n",
       "      <td>0.30000</td>\n",
       "      <td>34.80000</td>\n",
       "      <td>2.50000</td>\n",
       "      <td>0.00000</td>\n",
       "      <td>20.08000</td>\n",
       "    </tr>\n",
       "    <tr>\n",
       "      <th>4</th>\n",
       "      <td>2</td>\n",
       "      <td>2022-02-01 00:06:48</td>\n",
       "      <td>2022-02-01 00:33:07</td>\n",
       "      <td>1.00000</td>\n",
       "      <td>12.16000</td>\n",
       "      <td>1.00000</td>\n",
       "      <td>N</td>\n",
       "      <td>138</td>\n",
       "      <td>125</td>\n",
       "      <td>1</td>\n",
       "      <td>35.50000</td>\n",
       "      <td>0.50000</td>\n",
       "      <td>0.50000</td>\n",
       "      <td>8.11000</td>\n",
       "      <td>0.00000</td>\n",
       "      <td>0.30000</td>\n",
       "      <td>48.66000</td>\n",
       "      <td>2.50000</td>\n",
       "      <td>1.25000</td>\n",
       "      <td>26.32000</td>\n",
       "    </tr>\n",
       "    <tr>\n",
       "      <th>...</th>\n",
       "      <td>...</td>\n",
       "      <td>...</td>\n",
       "      <td>...</td>\n",
       "      <td>...</td>\n",
       "      <td>...</td>\n",
       "      <td>...</td>\n",
       "      <td>...</td>\n",
       "      <td>...</td>\n",
       "      <td>...</td>\n",
       "      <td>...</td>\n",
       "      <td>...</td>\n",
       "      <td>...</td>\n",
       "      <td>...</td>\n",
       "      <td>...</td>\n",
       "      <td>...</td>\n",
       "      <td>...</td>\n",
       "      <td>...</td>\n",
       "      <td>...</td>\n",
       "      <td>...</td>\n",
       "      <td>...</td>\n",
       "    </tr>\n",
       "    <tr>\n",
       "      <th>2979426</th>\n",
       "      <td>2</td>\n",
       "      <td>2022-02-28 23:50:00</td>\n",
       "      <td>2022-03-01 00:06:00</td>\n",
       "      <td>NaN</td>\n",
       "      <td>3.40000</td>\n",
       "      <td>NaN</td>\n",
       "      <td>None</td>\n",
       "      <td>163</td>\n",
       "      <td>193</td>\n",
       "      <td>0</td>\n",
       "      <td>14.37000</td>\n",
       "      <td>0.00000</td>\n",
       "      <td>0.50000</td>\n",
       "      <td>0.00000</td>\n",
       "      <td>0.00000</td>\n",
       "      <td>0.30000</td>\n",
       "      <td>17.67000</td>\n",
       "      <td>NaN</td>\n",
       "      <td>NaN</td>\n",
       "      <td>16.00000</td>\n",
       "    </tr>\n",
       "    <tr>\n",
       "      <th>2979427</th>\n",
       "      <td>2</td>\n",
       "      <td>2022-02-28 23:06:57</td>\n",
       "      <td>2022-02-28 23:19:12</td>\n",
       "      <td>NaN</td>\n",
       "      <td>3.48000</td>\n",
       "      <td>NaN</td>\n",
       "      <td>None</td>\n",
       "      <td>141</td>\n",
       "      <td>4</td>\n",
       "      <td>0</td>\n",
       "      <td>14.51000</td>\n",
       "      <td>0.00000</td>\n",
       "      <td>0.50000</td>\n",
       "      <td>2.00000</td>\n",
       "      <td>0.00000</td>\n",
       "      <td>0.30000</td>\n",
       "      <td>19.81000</td>\n",
       "      <td>NaN</td>\n",
       "      <td>NaN</td>\n",
       "      <td>12.25000</td>\n",
       "    </tr>\n",
       "    <tr>\n",
       "      <th>2979428</th>\n",
       "      <td>2</td>\n",
       "      <td>2022-02-28 23:48:13</td>\n",
       "      <td>2022-03-01 00:03:33</td>\n",
       "      <td>NaN</td>\n",
       "      <td>3.05000</td>\n",
       "      <td>NaN</td>\n",
       "      <td>None</td>\n",
       "      <td>161</td>\n",
       "      <td>151</td>\n",
       "      <td>0</td>\n",
       "      <td>14.38000</td>\n",
       "      <td>0.00000</td>\n",
       "      <td>0.50000</td>\n",
       "      <td>3.81000</td>\n",
       "      <td>0.00000</td>\n",
       "      <td>0.30000</td>\n",
       "      <td>21.49000</td>\n",
       "      <td>NaN</td>\n",
       "      <td>NaN</td>\n",
       "      <td>15.33000</td>\n",
       "    </tr>\n",
       "    <tr>\n",
       "      <th>2979429</th>\n",
       "      <td>2</td>\n",
       "      <td>2022-02-28 23:56:41</td>\n",
       "      <td>2022-03-01 00:04:57</td>\n",
       "      <td>NaN</td>\n",
       "      <td>2.62000</td>\n",
       "      <td>NaN</td>\n",
       "      <td>None</td>\n",
       "      <td>141</td>\n",
       "      <td>226</td>\n",
       "      <td>0</td>\n",
       "      <td>12.53000</td>\n",
       "      <td>0.00000</td>\n",
       "      <td>0.50000</td>\n",
       "      <td>1.71000</td>\n",
       "      <td>0.00000</td>\n",
       "      <td>0.30000</td>\n",
       "      <td>17.54000</td>\n",
       "      <td>NaN</td>\n",
       "      <td>NaN</td>\n",
       "      <td>8.27000</td>\n",
       "    </tr>\n",
       "    <tr>\n",
       "      <th>2979430</th>\n",
       "      <td>2</td>\n",
       "      <td>2022-02-28 23:04:00</td>\n",
       "      <td>2022-02-28 23:10:00</td>\n",
       "      <td>NaN</td>\n",
       "      <td>1.41000</td>\n",
       "      <td>NaN</td>\n",
       "      <td>None</td>\n",
       "      <td>237</td>\n",
       "      <td>142</td>\n",
       "      <td>0</td>\n",
       "      <td>8.80000</td>\n",
       "      <td>0.00000</td>\n",
       "      <td>0.50000</td>\n",
       "      <td>2.57000</td>\n",
       "      <td>0.00000</td>\n",
       "      <td>0.30000</td>\n",
       "      <td>14.67000</td>\n",
       "      <td>NaN</td>\n",
       "      <td>NaN</td>\n",
       "      <td>6.00000</td>\n",
       "    </tr>\n",
       "  </tbody>\n",
       "</table>\n",
       "<p>2309288 rows × 20 columns</p>\n",
       "</div>"
      ],
      "text/plain": [
       "         VendorID tpep_pickup_datetime tpep_dropoff_datetime  passenger_count  \\\n",
       "0               1  2022-02-01 00:06:58   2022-02-01 00:19:24          1.00000   \n",
       "1               1  2022-02-01 00:38:22   2022-02-01 00:55:55          1.00000   \n",
       "2               1  2022-02-01 00:03:20   2022-02-01 00:26:59          1.00000   \n",
       "3               2  2022-02-01 00:08:00   2022-02-01 00:28:05          1.00000   \n",
       "4               2  2022-02-01 00:06:48   2022-02-01 00:33:07          1.00000   \n",
       "...           ...                  ...                   ...              ...   \n",
       "2979426         2  2022-02-28 23:50:00   2022-03-01 00:06:00              NaN   \n",
       "2979427         2  2022-02-28 23:06:57   2022-02-28 23:19:12              NaN   \n",
       "2979428         2  2022-02-28 23:48:13   2022-03-01 00:03:33              NaN   \n",
       "2979429         2  2022-02-28 23:56:41   2022-03-01 00:04:57              NaN   \n",
       "2979430         2  2022-02-28 23:04:00   2022-02-28 23:10:00              NaN   \n",
       "\n",
       "         trip_distance  RatecodeID store_and_fwd_flag PULocationID  \\\n",
       "0              5.40000     1.00000                  N          138   \n",
       "1              6.40000     1.00000                  N          138   \n",
       "2             12.50000     1.00000                  N          138   \n",
       "3              9.88000     1.00000                  N          239   \n",
       "4             12.16000     1.00000                  N          138   \n",
       "...                ...         ...                ...          ...   \n",
       "2979426        3.40000         NaN               None          163   \n",
       "2979427        3.48000         NaN               None          141   \n",
       "2979428        3.05000         NaN               None          161   \n",
       "2979429        2.62000         NaN               None          141   \n",
       "2979430        1.41000         NaN               None          237   \n",
       "\n",
       "        DOLocationID  payment_type  fare_amount   extra  mta_tax  tip_amount  \\\n",
       "0                252             1     17.00000 1.75000  0.50000     3.90000   \n",
       "1                 41             2     21.00000 1.75000  0.50000     0.00000   \n",
       "2                200             2     35.50000 1.75000  0.50000     0.00000   \n",
       "3                200             2     28.00000 0.50000  0.50000     0.00000   \n",
       "4                125             1     35.50000 0.50000  0.50000     8.11000   \n",
       "...              ...           ...          ...     ...      ...         ...   \n",
       "2979426          193             0     14.37000 0.00000  0.50000     0.00000   \n",
       "2979427            4             0     14.51000 0.00000  0.50000     2.00000   \n",
       "2979428          151             0     14.38000 0.00000  0.50000     3.81000   \n",
       "2979429          226             0     12.53000 0.00000  0.50000     1.71000   \n",
       "2979430          142             0      8.80000 0.00000  0.50000     2.57000   \n",
       "\n",
       "         tolls_amount  improvement_surcharge  total_amount  \\\n",
       "0             0.00000                0.30000      23.45000   \n",
       "1             6.55000                0.30000      30.10000   \n",
       "2             6.55000                0.30000      44.60000   \n",
       "3             3.00000                0.30000      34.80000   \n",
       "4             0.00000                0.30000      48.66000   \n",
       "...               ...                    ...           ...   \n",
       "2979426       0.00000                0.30000      17.67000   \n",
       "2979427       0.00000                0.30000      19.81000   \n",
       "2979428       0.00000                0.30000      21.49000   \n",
       "2979429       0.00000                0.30000      17.54000   \n",
       "2979430       0.00000                0.30000      14.67000   \n",
       "\n",
       "         congestion_surcharge  airport_fee  duration  \n",
       "0                     0.00000      1.25000  12.43000  \n",
       "1                     0.00000      1.25000  17.55000  \n",
       "2                     0.00000      1.25000  23.65000  \n",
       "3                     2.50000      0.00000  20.08000  \n",
       "4                     2.50000      1.25000  26.32000  \n",
       "...                       ...          ...       ...  \n",
       "2979426                   NaN          NaN  16.00000  \n",
       "2979427                   NaN          NaN  12.25000  \n",
       "2979428                   NaN          NaN  15.33000  \n",
       "2979429                   NaN          NaN   8.27000  \n",
       "2979430                   NaN          NaN   6.00000  \n",
       "\n",
       "[2309288 rows x 20 columns]"
      ]
     },
     "execution_count": 263,
     "metadata": {},
     "output_type": "execute_result"
    }
   ],
   "source": [
    "ytfev_df"
   ]
  },
  {
   "cell_type": "code",
   "execution_count": 246,
   "id": "14460af4-66fc-475d-b7e6-4b8020a0a5e3",
   "metadata": {
    "execution": {
     "iopub.execute_input": "2023-05-18T16:41:15.754314Z",
     "iopub.status.busy": "2023-05-18T16:41:15.754165Z",
     "iopub.status.idle": "2023-05-18T16:41:16.373447Z",
     "shell.execute_reply": "2023-05-18T16:41:16.373158Z",
     "shell.execute_reply.started": "2023-05-18T16:41:15.754303Z"
    }
   },
   "outputs": [],
   "source": [
    "ytfev_df['PULocationID'] = ytfev_df['PULocationID'].astype('str')\n",
    "ytfev_df['DOLocationID'] = ytfev_df['DOLocationID'].astype('str')"
   ]
  },
  {
   "cell_type": "code",
   "execution_count": 255,
   "id": "292afa35-8ef3-4d1d-a770-066b4d81ccea",
   "metadata": {
    "execution": {
     "iopub.execute_input": "2023-05-18T16:43:31.548935Z",
     "iopub.status.busy": "2023-05-18T16:43:31.548723Z",
     "iopub.status.idle": "2023-05-18T16:43:33.713450Z",
     "shell.execute_reply": "2023-05-18T16:43:33.712959Z",
     "shell.execute_reply.started": "2023-05-18T16:43:31.548920Z"
    },
    "tags": []
   },
   "outputs": [],
   "source": [
    "train_dicts = ytfev_df[['PULocationID', 'DOLocationID', 'trip_distance']].to_dict(orient='records')"
   ]
  },
  {
   "cell_type": "code",
   "execution_count": 257,
   "id": "0fe2dff0-d8ff-42d0-90ad-f4a91b3586c7",
   "metadata": {
    "execution": {
     "iopub.execute_input": "2023-05-18T16:43:41.091183Z",
     "iopub.status.busy": "2023-05-18T16:43:41.091042Z",
     "iopub.status.idle": "2023-05-18T16:43:41.106278Z",
     "shell.execute_reply": "2023-05-18T16:43:41.105896Z",
     "shell.execute_reply.started": "2023-05-18T16:43:41.091173Z"
    }
   },
   "outputs": [
    {
     "data": {
      "text/html": [
       "<div>\n",
       "<style scoped>\n",
       "    .dataframe tbody tr th:only-of-type {\n",
       "        vertical-align: middle;\n",
       "    }\n",
       "\n",
       "    .dataframe tbody tr th {\n",
       "        vertical-align: top;\n",
       "    }\n",
       "\n",
       "    .dataframe thead th {\n",
       "        text-align: right;\n",
       "    }\n",
       "</style>\n",
       "<table border=\"1\" class=\"dataframe\">\n",
       "  <thead>\n",
       "    <tr style=\"text-align: right;\">\n",
       "      <th></th>\n",
       "      <th>VendorID</th>\n",
       "      <th>tpep_pickup_datetime</th>\n",
       "      <th>tpep_dropoff_datetime</th>\n",
       "      <th>passenger_count</th>\n",
       "      <th>trip_distance</th>\n",
       "      <th>RatecodeID</th>\n",
       "      <th>store_and_fwd_flag</th>\n",
       "      <th>PULocationID</th>\n",
       "      <th>DOLocationID</th>\n",
       "      <th>payment_type</th>\n",
       "      <th>fare_amount</th>\n",
       "      <th>extra</th>\n",
       "      <th>mta_tax</th>\n",
       "      <th>tip_amount</th>\n",
       "      <th>tolls_amount</th>\n",
       "      <th>improvement_surcharge</th>\n",
       "      <th>total_amount</th>\n",
       "      <th>congestion_surcharge</th>\n",
       "      <th>airport_fee</th>\n",
       "      <th>duration</th>\n",
       "    </tr>\n",
       "  </thead>\n",
       "  <tbody>\n",
       "    <tr>\n",
       "      <th>0</th>\n",
       "      <td>1</td>\n",
       "      <td>2022-02-01 00:06:58</td>\n",
       "      <td>2022-02-01 00:19:24</td>\n",
       "      <td>1.00000</td>\n",
       "      <td>5.40000</td>\n",
       "      <td>1.00000</td>\n",
       "      <td>N</td>\n",
       "      <td>138</td>\n",
       "      <td>252</td>\n",
       "      <td>1</td>\n",
       "      <td>17.00000</td>\n",
       "      <td>1.75000</td>\n",
       "      <td>0.50000</td>\n",
       "      <td>3.90000</td>\n",
       "      <td>0.00000</td>\n",
       "      <td>0.30000</td>\n",
       "      <td>23.45000</td>\n",
       "      <td>0.00000</td>\n",
       "      <td>1.25000</td>\n",
       "      <td>12.43000</td>\n",
       "    </tr>\n",
       "    <tr>\n",
       "      <th>1</th>\n",
       "      <td>1</td>\n",
       "      <td>2022-02-01 00:38:22</td>\n",
       "      <td>2022-02-01 00:55:55</td>\n",
       "      <td>1.00000</td>\n",
       "      <td>6.40000</td>\n",
       "      <td>1.00000</td>\n",
       "      <td>N</td>\n",
       "      <td>138</td>\n",
       "      <td>41</td>\n",
       "      <td>2</td>\n",
       "      <td>21.00000</td>\n",
       "      <td>1.75000</td>\n",
       "      <td>0.50000</td>\n",
       "      <td>0.00000</td>\n",
       "      <td>6.55000</td>\n",
       "      <td>0.30000</td>\n",
       "      <td>30.10000</td>\n",
       "      <td>0.00000</td>\n",
       "      <td>1.25000</td>\n",
       "      <td>17.55000</td>\n",
       "    </tr>\n",
       "    <tr>\n",
       "      <th>2</th>\n",
       "      <td>1</td>\n",
       "      <td>2022-02-01 00:03:20</td>\n",
       "      <td>2022-02-01 00:26:59</td>\n",
       "      <td>1.00000</td>\n",
       "      <td>12.50000</td>\n",
       "      <td>1.00000</td>\n",
       "      <td>N</td>\n",
       "      <td>138</td>\n",
       "      <td>200</td>\n",
       "      <td>2</td>\n",
       "      <td>35.50000</td>\n",
       "      <td>1.75000</td>\n",
       "      <td>0.50000</td>\n",
       "      <td>0.00000</td>\n",
       "      <td>6.55000</td>\n",
       "      <td>0.30000</td>\n",
       "      <td>44.60000</td>\n",
       "      <td>0.00000</td>\n",
       "      <td>1.25000</td>\n",
       "      <td>23.65000</td>\n",
       "    </tr>\n",
       "    <tr>\n",
       "      <th>3</th>\n",
       "      <td>2</td>\n",
       "      <td>2022-02-01 00:08:00</td>\n",
       "      <td>2022-02-01 00:28:05</td>\n",
       "      <td>1.00000</td>\n",
       "      <td>9.88000</td>\n",
       "      <td>1.00000</td>\n",
       "      <td>N</td>\n",
       "      <td>239</td>\n",
       "      <td>200</td>\n",
       "      <td>2</td>\n",
       "      <td>28.00000</td>\n",
       "      <td>0.50000</td>\n",
       "      <td>0.50000</td>\n",
       "      <td>0.00000</td>\n",
       "      <td>3.00000</td>\n",
       "      <td>0.30000</td>\n",
       "      <td>34.80000</td>\n",
       "      <td>2.50000</td>\n",
       "      <td>0.00000</td>\n",
       "      <td>20.08000</td>\n",
       "    </tr>\n",
       "    <tr>\n",
       "      <th>4</th>\n",
       "      <td>2</td>\n",
       "      <td>2022-02-01 00:06:48</td>\n",
       "      <td>2022-02-01 00:33:07</td>\n",
       "      <td>1.00000</td>\n",
       "      <td>12.16000</td>\n",
       "      <td>1.00000</td>\n",
       "      <td>N</td>\n",
       "      <td>138</td>\n",
       "      <td>125</td>\n",
       "      <td>1</td>\n",
       "      <td>35.50000</td>\n",
       "      <td>0.50000</td>\n",
       "      <td>0.50000</td>\n",
       "      <td>8.11000</td>\n",
       "      <td>0.00000</td>\n",
       "      <td>0.30000</td>\n",
       "      <td>48.66000</td>\n",
       "      <td>2.50000</td>\n",
       "      <td>1.25000</td>\n",
       "      <td>26.32000</td>\n",
       "    </tr>\n",
       "    <tr>\n",
       "      <th>...</th>\n",
       "      <td>...</td>\n",
       "      <td>...</td>\n",
       "      <td>...</td>\n",
       "      <td>...</td>\n",
       "      <td>...</td>\n",
       "      <td>...</td>\n",
       "      <td>...</td>\n",
       "      <td>...</td>\n",
       "      <td>...</td>\n",
       "      <td>...</td>\n",
       "      <td>...</td>\n",
       "      <td>...</td>\n",
       "      <td>...</td>\n",
       "      <td>...</td>\n",
       "      <td>...</td>\n",
       "      <td>...</td>\n",
       "      <td>...</td>\n",
       "      <td>...</td>\n",
       "      <td>...</td>\n",
       "      <td>...</td>\n",
       "    </tr>\n",
       "    <tr>\n",
       "      <th>2979426</th>\n",
       "      <td>2</td>\n",
       "      <td>2022-02-28 23:50:00</td>\n",
       "      <td>2022-03-01 00:06:00</td>\n",
       "      <td>NaN</td>\n",
       "      <td>3.40000</td>\n",
       "      <td>NaN</td>\n",
       "      <td>None</td>\n",
       "      <td>163</td>\n",
       "      <td>193</td>\n",
       "      <td>0</td>\n",
       "      <td>14.37000</td>\n",
       "      <td>0.00000</td>\n",
       "      <td>0.50000</td>\n",
       "      <td>0.00000</td>\n",
       "      <td>0.00000</td>\n",
       "      <td>0.30000</td>\n",
       "      <td>17.67000</td>\n",
       "      <td>NaN</td>\n",
       "      <td>NaN</td>\n",
       "      <td>16.00000</td>\n",
       "    </tr>\n",
       "    <tr>\n",
       "      <th>2979427</th>\n",
       "      <td>2</td>\n",
       "      <td>2022-02-28 23:06:57</td>\n",
       "      <td>2022-02-28 23:19:12</td>\n",
       "      <td>NaN</td>\n",
       "      <td>3.48000</td>\n",
       "      <td>NaN</td>\n",
       "      <td>None</td>\n",
       "      <td>141</td>\n",
       "      <td>4</td>\n",
       "      <td>0</td>\n",
       "      <td>14.51000</td>\n",
       "      <td>0.00000</td>\n",
       "      <td>0.50000</td>\n",
       "      <td>2.00000</td>\n",
       "      <td>0.00000</td>\n",
       "      <td>0.30000</td>\n",
       "      <td>19.81000</td>\n",
       "      <td>NaN</td>\n",
       "      <td>NaN</td>\n",
       "      <td>12.25000</td>\n",
       "    </tr>\n",
       "    <tr>\n",
       "      <th>2979428</th>\n",
       "      <td>2</td>\n",
       "      <td>2022-02-28 23:48:13</td>\n",
       "      <td>2022-03-01 00:03:33</td>\n",
       "      <td>NaN</td>\n",
       "      <td>3.05000</td>\n",
       "      <td>NaN</td>\n",
       "      <td>None</td>\n",
       "      <td>161</td>\n",
       "      <td>151</td>\n",
       "      <td>0</td>\n",
       "      <td>14.38000</td>\n",
       "      <td>0.00000</td>\n",
       "      <td>0.50000</td>\n",
       "      <td>3.81000</td>\n",
       "      <td>0.00000</td>\n",
       "      <td>0.30000</td>\n",
       "      <td>21.49000</td>\n",
       "      <td>NaN</td>\n",
       "      <td>NaN</td>\n",
       "      <td>15.33000</td>\n",
       "    </tr>\n",
       "    <tr>\n",
       "      <th>2979429</th>\n",
       "      <td>2</td>\n",
       "      <td>2022-02-28 23:56:41</td>\n",
       "      <td>2022-03-01 00:04:57</td>\n",
       "      <td>NaN</td>\n",
       "      <td>2.62000</td>\n",
       "      <td>NaN</td>\n",
       "      <td>None</td>\n",
       "      <td>141</td>\n",
       "      <td>226</td>\n",
       "      <td>0</td>\n",
       "      <td>12.53000</td>\n",
       "      <td>0.00000</td>\n",
       "      <td>0.50000</td>\n",
       "      <td>1.71000</td>\n",
       "      <td>0.00000</td>\n",
       "      <td>0.30000</td>\n",
       "      <td>17.54000</td>\n",
       "      <td>NaN</td>\n",
       "      <td>NaN</td>\n",
       "      <td>8.27000</td>\n",
       "    </tr>\n",
       "    <tr>\n",
       "      <th>2979430</th>\n",
       "      <td>2</td>\n",
       "      <td>2022-02-28 23:04:00</td>\n",
       "      <td>2022-02-28 23:10:00</td>\n",
       "      <td>NaN</td>\n",
       "      <td>1.41000</td>\n",
       "      <td>NaN</td>\n",
       "      <td>None</td>\n",
       "      <td>237</td>\n",
       "      <td>142</td>\n",
       "      <td>0</td>\n",
       "      <td>8.80000</td>\n",
       "      <td>0.00000</td>\n",
       "      <td>0.50000</td>\n",
       "      <td>2.57000</td>\n",
       "      <td>0.00000</td>\n",
       "      <td>0.30000</td>\n",
       "      <td>14.67000</td>\n",
       "      <td>NaN</td>\n",
       "      <td>NaN</td>\n",
       "      <td>6.00000</td>\n",
       "    </tr>\n",
       "  </tbody>\n",
       "</table>\n",
       "<p>2309288 rows × 20 columns</p>\n",
       "</div>"
      ],
      "text/plain": [
       "         VendorID tpep_pickup_datetime tpep_dropoff_datetime  passenger_count  \\\n",
       "0               1  2022-02-01 00:06:58   2022-02-01 00:19:24          1.00000   \n",
       "1               1  2022-02-01 00:38:22   2022-02-01 00:55:55          1.00000   \n",
       "2               1  2022-02-01 00:03:20   2022-02-01 00:26:59          1.00000   \n",
       "3               2  2022-02-01 00:08:00   2022-02-01 00:28:05          1.00000   \n",
       "4               2  2022-02-01 00:06:48   2022-02-01 00:33:07          1.00000   \n",
       "...           ...                  ...                   ...              ...   \n",
       "2979426         2  2022-02-28 23:50:00   2022-03-01 00:06:00              NaN   \n",
       "2979427         2  2022-02-28 23:06:57   2022-02-28 23:19:12              NaN   \n",
       "2979428         2  2022-02-28 23:48:13   2022-03-01 00:03:33              NaN   \n",
       "2979429         2  2022-02-28 23:56:41   2022-03-01 00:04:57              NaN   \n",
       "2979430         2  2022-02-28 23:04:00   2022-02-28 23:10:00              NaN   \n",
       "\n",
       "         trip_distance  RatecodeID store_and_fwd_flag PULocationID  \\\n",
       "0              5.40000     1.00000                  N          138   \n",
       "1              6.40000     1.00000                  N          138   \n",
       "2             12.50000     1.00000                  N          138   \n",
       "3              9.88000     1.00000                  N          239   \n",
       "4             12.16000     1.00000                  N          138   \n",
       "...                ...         ...                ...          ...   \n",
       "2979426        3.40000         NaN               None          163   \n",
       "2979427        3.48000         NaN               None          141   \n",
       "2979428        3.05000         NaN               None          161   \n",
       "2979429        2.62000         NaN               None          141   \n",
       "2979430        1.41000         NaN               None          237   \n",
       "\n",
       "        DOLocationID  payment_type  fare_amount   extra  mta_tax  tip_amount  \\\n",
       "0                252             1     17.00000 1.75000  0.50000     3.90000   \n",
       "1                 41             2     21.00000 1.75000  0.50000     0.00000   \n",
       "2                200             2     35.50000 1.75000  0.50000     0.00000   \n",
       "3                200             2     28.00000 0.50000  0.50000     0.00000   \n",
       "4                125             1     35.50000 0.50000  0.50000     8.11000   \n",
       "...              ...           ...          ...     ...      ...         ...   \n",
       "2979426          193             0     14.37000 0.00000  0.50000     0.00000   \n",
       "2979427            4             0     14.51000 0.00000  0.50000     2.00000   \n",
       "2979428          151             0     14.38000 0.00000  0.50000     3.81000   \n",
       "2979429          226             0     12.53000 0.00000  0.50000     1.71000   \n",
       "2979430          142             0      8.80000 0.00000  0.50000     2.57000   \n",
       "\n",
       "         tolls_amount  improvement_surcharge  total_amount  \\\n",
       "0             0.00000                0.30000      23.45000   \n",
       "1             6.55000                0.30000      30.10000   \n",
       "2             6.55000                0.30000      44.60000   \n",
       "3             3.00000                0.30000      34.80000   \n",
       "4             0.00000                0.30000      48.66000   \n",
       "...               ...                    ...           ...   \n",
       "2979426       0.00000                0.30000      17.67000   \n",
       "2979427       0.00000                0.30000      19.81000   \n",
       "2979428       0.00000                0.30000      21.49000   \n",
       "2979429       0.00000                0.30000      17.54000   \n",
       "2979430       0.00000                0.30000      14.67000   \n",
       "\n",
       "         congestion_surcharge  airport_fee  duration  \n",
       "0                     0.00000      1.25000  12.43000  \n",
       "1                     0.00000      1.25000  17.55000  \n",
       "2                     0.00000      1.25000  23.65000  \n",
       "3                     2.50000      0.00000  20.08000  \n",
       "4                     2.50000      1.25000  26.32000  \n",
       "...                       ...          ...       ...  \n",
       "2979426                   NaN          NaN  16.00000  \n",
       "2979427                   NaN          NaN  12.25000  \n",
       "2979428                   NaN          NaN  15.33000  \n",
       "2979429                   NaN          NaN   8.27000  \n",
       "2979430                   NaN          NaN   6.00000  \n",
       "\n",
       "[2309288 rows x 20 columns]"
      ]
     },
     "execution_count": 257,
     "metadata": {},
     "output_type": "execute_result"
    }
   ],
   "source": [
    "ytfev_df"
   ]
  },
  {
   "cell_type": "code",
   "execution_count": 256,
   "id": "d18a09a1-2489-46b0-be79-ed7c499c2037",
   "metadata": {
    "execution": {
     "iopub.execute_input": "2023-05-18T16:43:35.990621Z",
     "iopub.status.busy": "2023-05-18T16:43:35.990529Z",
     "iopub.status.idle": "2023-05-18T16:43:38.369227Z",
     "shell.execute_reply": "2023-05-18T16:43:38.368809Z",
     "shell.execute_reply.started": "2023-05-18T16:43:35.990612Z"
    },
    "tags": []
   },
   "outputs": [],
   "source": [
    "dv = DictVectorizer()\n",
    "X_train = dv.fit_transform(train_dicts)"
   ]
  },
  {
   "cell_type": "code",
   "execution_count": 249,
   "id": "3376e848-61e0-4a1e-906f-579d20c32fb3",
   "metadata": {
    "execution": {
     "iopub.execute_input": "2023-05-18T16:42:00.195147Z",
     "iopub.status.busy": "2023-05-18T16:42:00.195012Z",
     "iopub.status.idle": "2023-05-18T16:42:00.204033Z",
     "shell.execute_reply": "2023-05-18T16:42:00.203543Z",
     "shell.execute_reply.started": "2023-05-18T16:42:00.195139Z"
    }
   },
   "outputs": [],
   "source": [
    "y_train = ytfev_df['duration'].values"
   ]
  },
  {
   "cell_type": "code",
   "execution_count": 250,
   "id": "d9813b46-bba4-4ecd-b9e2-fd64d2fa1fe4",
   "metadata": {
    "execution": {
     "iopub.execute_input": "2023-05-18T16:42:15.837592Z",
     "iopub.status.busy": "2023-05-18T16:42:15.837453Z",
     "iopub.status.idle": "2023-05-18T16:42:15.961973Z",
     "shell.execute_reply": "2023-05-18T16:42:15.961616Z",
     "shell.execute_reply.started": "2023-05-18T16:42:15.837583Z"
    }
   },
   "outputs": [],
   "source": [
    "X_train, X_test, y_train, y_test = train_test_split(X_train, y_train, test_size=0.3)"
   ]
  },
  {
   "cell_type": "code",
   "execution_count": 251,
   "id": "fc9b1675-482e-4983-a195-47cc54e9836d",
   "metadata": {
    "execution": {
     "iopub.execute_input": "2023-05-18T16:42:25.343403Z",
     "iopub.status.busy": "2023-05-18T16:42:25.343198Z",
     "iopub.status.idle": "2023-05-18T16:42:25.354362Z",
     "shell.execute_reply": "2023-05-18T16:42:25.353932Z",
     "shell.execute_reply.started": "2023-05-18T16:42:25.343389Z"
    }
   },
   "outputs": [],
   "source": [
    "model = LinearRegression()"
   ]
  },
  {
   "cell_type": "code",
   "execution_count": 252,
   "id": "6c8d6366-fcd8-42bf-b60d-83c54664ebc6",
   "metadata": {
    "execution": {
     "iopub.execute_input": "2023-05-18T16:42:30.420017Z",
     "iopub.status.busy": "2023-05-18T16:42:30.419817Z",
     "iopub.status.idle": "2023-05-18T16:42:34.667217Z",
     "shell.execute_reply": "2023-05-18T16:42:34.666834Z",
     "shell.execute_reply.started": "2023-05-18T16:42:30.420003Z"
    }
   },
   "outputs": [
    {
     "data": {
      "text/html": [
       "<style>#sk-container-id-2 {color: black;background-color: white;}#sk-container-id-2 pre{padding: 0;}#sk-container-id-2 div.sk-toggleable {background-color: white;}#sk-container-id-2 label.sk-toggleable__label {cursor: pointer;display: block;width: 100%;margin-bottom: 0;padding: 0.3em;box-sizing: border-box;text-align: center;}#sk-container-id-2 label.sk-toggleable__label-arrow:before {content: \"▸\";float: left;margin-right: 0.25em;color: #696969;}#sk-container-id-2 label.sk-toggleable__label-arrow:hover:before {color: black;}#sk-container-id-2 div.sk-estimator:hover label.sk-toggleable__label-arrow:before {color: black;}#sk-container-id-2 div.sk-toggleable__content {max-height: 0;max-width: 0;overflow: hidden;text-align: left;background-color: #f0f8ff;}#sk-container-id-2 div.sk-toggleable__content pre {margin: 0.2em;color: black;border-radius: 0.25em;background-color: #f0f8ff;}#sk-container-id-2 input.sk-toggleable__control:checked~div.sk-toggleable__content {max-height: 200px;max-width: 100%;overflow: auto;}#sk-container-id-2 input.sk-toggleable__control:checked~label.sk-toggleable__label-arrow:before {content: \"▾\";}#sk-container-id-2 div.sk-estimator input.sk-toggleable__control:checked~label.sk-toggleable__label {background-color: #d4ebff;}#sk-container-id-2 div.sk-label input.sk-toggleable__control:checked~label.sk-toggleable__label {background-color: #d4ebff;}#sk-container-id-2 input.sk-hidden--visually {border: 0;clip: rect(1px 1px 1px 1px);clip: rect(1px, 1px, 1px, 1px);height: 1px;margin: -1px;overflow: hidden;padding: 0;position: absolute;width: 1px;}#sk-container-id-2 div.sk-estimator {font-family: monospace;background-color: #f0f8ff;border: 1px dotted black;border-radius: 0.25em;box-sizing: border-box;margin-bottom: 0.5em;}#sk-container-id-2 div.sk-estimator:hover {background-color: #d4ebff;}#sk-container-id-2 div.sk-parallel-item::after {content: \"\";width: 100%;border-bottom: 1px solid gray;flex-grow: 1;}#sk-container-id-2 div.sk-label:hover label.sk-toggleable__label {background-color: #d4ebff;}#sk-container-id-2 div.sk-serial::before {content: \"\";position: absolute;border-left: 1px solid gray;box-sizing: border-box;top: 0;bottom: 0;left: 50%;z-index: 0;}#sk-container-id-2 div.sk-serial {display: flex;flex-direction: column;align-items: center;background-color: white;padding-right: 0.2em;padding-left: 0.2em;position: relative;}#sk-container-id-2 div.sk-item {position: relative;z-index: 1;}#sk-container-id-2 div.sk-parallel {display: flex;align-items: stretch;justify-content: center;background-color: white;position: relative;}#sk-container-id-2 div.sk-item::before, #sk-container-id-2 div.sk-parallel-item::before {content: \"\";position: absolute;border-left: 1px solid gray;box-sizing: border-box;top: 0;bottom: 0;left: 50%;z-index: -1;}#sk-container-id-2 div.sk-parallel-item {display: flex;flex-direction: column;z-index: 1;position: relative;background-color: white;}#sk-container-id-2 div.sk-parallel-item:first-child::after {align-self: flex-end;width: 50%;}#sk-container-id-2 div.sk-parallel-item:last-child::after {align-self: flex-start;width: 50%;}#sk-container-id-2 div.sk-parallel-item:only-child::after {width: 0;}#sk-container-id-2 div.sk-dashed-wrapped {border: 1px dashed gray;margin: 0 0.4em 0.5em 0.4em;box-sizing: border-box;padding-bottom: 0.4em;background-color: white;}#sk-container-id-2 div.sk-label label {font-family: monospace;font-weight: bold;display: inline-block;line-height: 1.2em;}#sk-container-id-2 div.sk-label-container {text-align: center;}#sk-container-id-2 div.sk-container {/* jupyter's `normalize.less` sets `[hidden] { display: none; }` but bootstrap.min.css set `[hidden] { display: none !important; }` so we also need the `!important` here to be able to override the default hidden behavior on the sphinx rendered scikit-learn.org. See: https://github.com/scikit-learn/scikit-learn/issues/21755 */display: inline-block !important;position: relative;}#sk-container-id-2 div.sk-text-repr-fallback {display: none;}</style><div id=\"sk-container-id-2\" class=\"sk-top-container\"><div class=\"sk-text-repr-fallback\"><pre>LinearRegression()</pre><b>In a Jupyter environment, please rerun this cell to show the HTML representation or trust the notebook. <br />On GitHub, the HTML representation is unable to render, please try loading this page with nbviewer.org.</b></div><div class=\"sk-container\" hidden><div class=\"sk-item\"><div class=\"sk-estimator sk-toggleable\"><input class=\"sk-toggleable__control sk-hidden--visually\" id=\"sk-estimator-id-2\" type=\"checkbox\" checked><label for=\"sk-estimator-id-2\" class=\"sk-toggleable__label sk-toggleable__label-arrow\">LinearRegression</label><div class=\"sk-toggleable__content\"><pre>LinearRegression()</pre></div></div></div></div></div>"
      ],
      "text/plain": [
       "LinearRegression()"
      ]
     },
     "execution_count": 252,
     "metadata": {},
     "output_type": "execute_result"
    }
   ],
   "source": [
    "model.fit(X_train, y_train)"
   ]
  },
  {
   "cell_type": "code",
   "execution_count": 253,
   "id": "011c92ef-6076-4524-8e96-d2420a4e66b8",
   "metadata": {
    "execution": {
     "iopub.execute_input": "2023-05-18T16:42:37.554109Z",
     "iopub.status.busy": "2023-05-18T16:42:37.553872Z",
     "iopub.status.idle": "2023-05-18T16:42:37.570850Z",
     "shell.execute_reply": "2023-05-18T16:42:37.570480Z",
     "shell.execute_reply.started": "2023-05-18T16:42:37.554091Z"
    }
   },
   "outputs": [],
   "source": [
    "y_pred = model.predict(X_train)"
   ]
  },
  {
   "cell_type": "code",
   "execution_count": 254,
   "id": "77a6187f-479f-4995-b321-f03a9ca3d47d",
   "metadata": {
    "execution": {
     "iopub.execute_input": "2023-05-18T16:42:49.822373Z",
     "iopub.status.busy": "2023-05-18T16:42:49.822244Z",
     "iopub.status.idle": "2023-05-18T16:42:49.835440Z",
     "shell.execute_reply": "2023-05-18T16:42:49.835120Z",
     "shell.execute_reply.started": "2023-05-18T16:42:49.822364Z"
    }
   },
   "outputs": [
    {
     "data": {
      "text/plain": [
       "5.691426190735266"
      ]
     },
     "execution_count": 254,
     "metadata": {},
     "output_type": "execute_result"
    }
   ],
   "source": [
    "mean_squared_error(y_train, y_pred, squared=False)"
   ]
  },
  {
   "cell_type": "code",
   "execution_count": null,
   "id": "f461d2c6-4413-4b59-986d-930b04d27e64",
   "metadata": {},
   "outputs": [],
   "source": []
  }
 ],
 "metadata": {
  "kernelspec": {
   "display_name": "Python [conda env:cond_mlopszoomcamp_env]",
   "language": "python",
   "name": "conda-env-cond_mlopszoomcamp_env-py"
  },
  "language_info": {
   "codemirror_mode": {
    "name": "ipython",
    "version": 3
   },
   "file_extension": ".py",
   "mimetype": "text/x-python",
   "name": "python",
   "nbconvert_exporter": "python",
   "pygments_lexer": "ipython3",
   "version": "3.10.11"
  }
 },
 "nbformat": 4,
 "nbformat_minor": 5
}
