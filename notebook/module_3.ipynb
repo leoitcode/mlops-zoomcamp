{
 "cells": [
  {
   "cell_type": "markdown",
   "id": "6ea22b02-27d6-4118-b713-22cf97c58fa3",
   "metadata": {},
   "source": [
    "# Duration Prediction\n",
    "\n",
    "## Purpose\n",
    "Taxi Data Prediction\n",
    "\n",
    "## Notebook\n",
    "#### nyc_taxi_analysis.ipynb\n",
    "- Data Scrapping\n",
    "- Data Fomart\n",
    "- Feature Engineering\n",
    "- Training\n",
    "\n",
    "## Methodology\n",
    "- Pandas\n",
    "- Numpy\n",
    "- scikit-learn\n",
    "\n",
    "## Versioning\n",
    "- Conda (Notebook Versioning Packages)\n",
    "\n",
    "## Notable TODOs:\n",
    "--\n",
    "\n",
    "## Results:\n",
    "RSME: 5.766549051507733\n",
    "\n",
    "## Suggested next steps:\n",
    "--"
   ]
  },
  {
   "cell_type": "markdown",
   "id": "c09b09d7-60f6-4ac2-b5c7-b59839fdbcd5",
   "metadata": {
    "tags": []
   },
   "source": [
    "# Setup"
   ]
  },
  {
   "cell_type": "markdown",
   "id": "cdc16102-6870-4264-8b34-a4daec6e7579",
   "metadata": {
    "tags": []
   },
   "source": [
    "### System Infomation"
   ]
  },
  {
   "cell_type": "code",
   "execution_count": 25,
   "id": "cf0aa223-2485-43d8-bd27-f5d42566f65c",
   "metadata": {
    "execution": {
     "iopub.execute_input": "2023-06-18T20:16:03.808275Z",
     "iopub.status.busy": "2023-06-18T20:16:03.808114Z",
     "iopub.status.idle": "2023-06-18T20:16:05.860857Z",
     "shell.execute_reply": "2023-06-18T20:16:05.860467Z",
     "shell.execute_reply.started": "2023-06-18T20:16:03.808265Z"
    },
    "tags": []
   },
   "outputs": [
    {
     "name": "stdout",
     "output_type": "stream",
     "text": [
      "## GLOBAL INFO\n",
      "Conda Python Version:  3.10.9.final.0\n",
      "Conda Base Path: /home/leobit/miniconda3\n",
      "Jupyter Lab Version: 3.5.3\n",
      "Enabled Extensions:\n"
     ]
    },
    {
     "name": "stderr",
     "output_type": "stream",
     "text": [
      "Config option `kernel_spec_manager_class` not recognized by `ListLabExtensionsApp`.\n",
      "[W 2023-06-18 17:16:05.320 LabApp] Config option `kernel_spec_manager_class` not recognized by `LabApp`.\n",
      "JupyterLab v3.5.3\n",
      "/home/leobit/miniconda3/share/jupyter/labextensions\n",
      "        jupyterlab_templates v0.4.0 \u001b[32menabled\u001b[0m \u001b[31m X\u001b[0m (python, jupyterlab_templates)\n",
      "        jupyterlab-system-monitor v0.8.0 \u001b[32menabled\u001b[0m \u001b[32mOK\u001b[0m (python, jupyterlab-system-monitor)\n",
      "        jupyterlab-execute-time v2.3.1 \u001b[32menabled\u001b[0m \u001b[32mOK\u001b[0m (python, jupyterlab_execute_time)\n",
      "        nbdime-jupyterlab v2.1.1 \u001b[32menabled\u001b[0m \u001b[32mOK\u001b[0m\n",
      "        jupyterlab-topbar-extension v0.6.1 \u001b[32menabled\u001b[0m \u001b[32mOK\u001b[0m (python, jupyterlab-topbar)\n",
      "        @krassowski/jupyterlab-lsp v3.10.2 \u001b[32menabled\u001b[0m \u001b[32mOK\u001b[0m (python, jupyterlab-lsp)\n",
      "        @lckr/jupyterlab_variableinspector v3.0.9 \u001b[32menabled\u001b[0m \u001b[32mOK\u001b[0m (python, lckr_jupyterlab_variableinspector)\n",
      "        @jupyterlab/git v0.41.0 \u001b[32menabled\u001b[0m \u001b[32mOK\u001b[0m (python, jupyterlab-git)\n",
      "        @jupyter-widgets/jupyterlab-manager v3.0.0 \u001b[32menabled\u001b[0m \u001b[32mOK\u001b[0m (python, jupyterlab_widgets)\n",
      "        @jupyter-server/resource-usage v0.7.2 \u001b[32menabled\u001b[0m \u001b[32mOK\u001b[0m (python, jupyter-resource-usage)\n",
      "        @elyra/code-snippet-extension v3.14.3 \u001b[32menabled\u001b[0m \u001b[32mOK\u001b[0m\n",
      "        @elyra/script-debugger-extension v3.14.3 \u001b[32menabled\u001b[0m \u001b[32mOK\u001b[0m\n",
      "        @elyra/python-editor-extension v3.14.3 \u001b[32menabled\u001b[0m \u001b[32mOK\u001b[0m\n",
      "        @elyra/theme-extension v3.14.3 \u001b[32menabled\u001b[0m \u001b[32mOK\u001b[0m\n",
      "        @elyra/code-viewer-extension v3.14.3 \u001b[32menabled\u001b[0m \u001b[32mOK\u001b[0m\n",
      "        @elyra/scala-editor-extension v3.14.3 \u001b[32menabled\u001b[0m \u001b[32mOK\u001b[0m\n",
      "        @elyra/metadata-extension v3.14.3 \u001b[32menabled\u001b[0m \u001b[32mOK\u001b[0m\n",
      "        @elyra/r-editor-extension v3.14.3 \u001b[32menabled\u001b[0m \u001b[32mOK\u001b[0m\n",
      "        @elyra/pipeline-editor-extension v3.14.3 \u001b[32menabled\u001b[0m \u001b[32mOK\u001b[0m\n",
      "\n",
      "\n",
      "\"jupyterlab_templates@0.4.0\" is not compatible with the current JupyterLab\n",
      "Conflicting Dependencies:\n",
      "JupyterLab              Extension      Package\n",
      ">=3.5.3 <3.6.0          >=3.6.1 <4.0.0 @jupyterlab/application\n",
      ">=3.5.3 <3.6.0          >=3.6.1 <4.0.0 @jupyterlab/apputils\n",
      ">=5.5.3 <5.6.0          >=5.6.1 <6.0.0 @jupyterlab/coreutils\n",
      ">=3.5.3 <3.6.0          >=3.6.1 <4.0.0 @jupyterlab/filebrowser\n",
      ">=3.5.3 <3.6.0          >=3.6.1 <4.0.0 @jupyterlab/launcher\n",
      ">=3.5.3 <3.6.0          >=3.6.1 <4.0.0 @jupyterlab/mainmenu\n",
      ">=3.5.3 <3.6.0          >=3.6.1 <4.0.0 @jupyterlab/notebook\n",
      "\n",
      "\n",
      "Other labextensions (built into JupyterLab)\n",
      "   app dir: /home/leobit/miniconda3/share/jupyter/lab\n",
      "\n",
      "\n",
      "Disabled extensions:\n",
      "    @jupyterlab/launcher-extension (all plugins)\n"
     ]
    },
    {
     "name": "stdout",
     "output_type": "stream",
     "text": [
      "\n",
      "## ENVIRONMENT INFO\n",
      "Environment Python Version: Python 3.10.11\n",
      "/home/leobit/miniconda3/envs/cond_mlopszoomcamp_env/bin/python\n",
      "Active Environment:  cond_mlopszoomcamp_env\n"
     ]
    }
   ],
   "source": [
    "%%bash\n",
    "# Variables\n",
    "BASE_ENV_PATH=$(conda info -a |\\\n",
    "                grep -i \"CONDA_ROOT\" |\\\n",
    "                cut -d \":\" -f 2 |\\\n",
    "                xargs echo |\\\n",
    "                sed 's/ *$//g')\n",
    "JUPY_PATH=\"$BASE_ENV_PATH/bin/jupyter\"\n",
    "JUPYLAB_VER=$(echo $($JUPY_PATH lab --version))\n",
    "\n",
    "## System Info\n",
    "printf \"## GLOBAL INFO\"\n",
    "# System Python Version\n",
    "printf \"\\nConda Python Version: \"\n",
    "conda info | grep -i \"python version\" | cut -d \":\" -f 2\n",
    "# Conda Base\n",
    "printf \"Conda Base Path: $BASE_ENV_PATH\"\n",
    "# Jupyter Lab Version\n",
    "printf \"\\nJupyter Lab Version: $JUPYLAB_VER\"\n",
    "# Jupyter Lab Extensions\n",
    "printf \"\\nEnabled Extensions:\"\n",
    "echo ''\n",
    "echo $($JUPY_PATH labextension list)\n",
    "\n",
    "## Environment Info\n",
    "printf \"## ENVIRONMENT INFO\"\n",
    "# Python Env Path\n",
    "printf \"\\nEnvironment Python Version: \"\n",
    "python --version||\n",
    "# Python Env Path\n",
    "printf \"Environment Python Path: \"\n",
    "which python\n",
    "# Active Mamba Environment\n",
    "printf \"Active Environment: \"\n",
    "conda info -a | grep -i \"active environment\" | cut -d \":\" -f 2"
   ]
  },
  {
   "cell_type": "markdown",
   "id": "f19e8668-ce56-4ca7-84e1-6b872065f079",
   "metadata": {},
   "source": [
    "### Path"
   ]
  },
  {
   "cell_type": "code",
   "execution_count": 26,
   "id": "ea51970d-d90a-4c1b-9578-e3cf4a9ff390",
   "metadata": {
    "execution": {
     "iopub.execute_input": "2023-06-18T20:16:06.821022Z",
     "iopub.status.busy": "2023-06-18T20:16:06.820853Z",
     "iopub.status.idle": "2023-06-18T20:16:06.832797Z",
     "shell.execute_reply": "2023-06-18T20:16:06.832547Z",
     "shell.execute_reply.started": "2023-06-18T20:16:06.821012Z"
    },
    "tags": []
   },
   "outputs": [],
   "source": [
    "import sys\n",
    "from pathlib import Path\n",
    "\n",
    "project_paths = ['data', 'notebook', 'scripts', 'model', 'src', 'pipeline']\n",
    "\n",
    "B_PATH = Path.cwd().parents[0]\n",
    "\n",
    "# Create Project Folders and Set Paths\n",
    "for _path in project_paths:\n",
    "    (B_PATH / _path).mkdir(exist_ok=True)\n",
    "    if not globals().get(f\"{_path[:1]}_path\".upper()):\n",
    "        globals()[f\"{_path[:1]}_path\".upper()] = B_PATH / _path\n",
    "    else:\n",
    "        globals()[f\"{_path}_path\"] = B_PATH / _path\n",
    "\n",
    "# Custom Paths\n",
    "RAW_DT_PATH = D_PATH / 'raw'\n",
    "IMG_DT_PATH = D_PATH / 'images'\n",
    "ASSETS_PATH = B_PATH / 'assets'\n",
    "\n",
    "# Script Path\n",
    "sys.path.append(S_PATH.as_posix())"
   ]
  },
  {
   "cell_type": "markdown",
   "id": "7ae32d62-3e40-4b24-8280-30a2c61c3e16",
   "metadata": {
    "tags": []
   },
   "source": [
    "### Installation"
   ]
  },
  {
   "cell_type": "code",
   "execution_count": null,
   "id": "d921595c-618e-4283-8027-c937cd7ea112",
   "metadata": {
    "tags": []
   },
   "outputs": [],
   "source": [
    "# nyc_taxi_analysis.ipynb\n",
    "%%bash\n",
    "mamba install pandas\n",
    "mamba install -y fastparquet\n",
    "pip install sweetviz\n",
    "mamba install -y pyarrow\n",
    "mamba install -y seaborn\n",
    "mamba install -y scikit-learn\n",
    "mamba install -y mlflow\n",
    "mamba install xgboost\n",
    "pip install hyperopt\n",
    "mamba install -c conda-forge optuna"
   ]
  },
  {
   "cell_type": "code",
   "execution_count": 1,
   "id": "eddec7e0-5327-4442-8bce-971d85782b29",
   "metadata": {
    "collapsed": true,
    "execution": {
     "iopub.execute_input": "2023-06-07T21:58:57.620390Z",
     "iopub.status.busy": "2023-06-07T21:58:57.620158Z",
     "iopub.status.idle": "2023-06-07T21:59:21.492974Z",
     "shell.execute_reply": "2023-06-07T21:59:21.492564Z",
     "shell.execute_reply.started": "2023-06-07T21:58:57.620375Z"
    },
    "jupyter": {
     "outputs_hidden": true
    },
    "tags": []
   },
   "outputs": [
    {
     "name": "stdout",
     "output_type": "stream",
     "text": [
      "\n",
      "Looking for: ['prefect']\n",
      "\n",
      "\n",
      "Pinned packages:\n",
      "  - python 3.10.*\n",
      "\n",
      "\n",
      "Transaction\n",
      "\n",
      "  Prefix: /home/leobit/miniconda3/envs/cond_mlopszoomcamp_env\n",
      "\n",
      "  Updating specs:\n",
      "\n",
      "   - prefect\n",
      "   - ca-certificates\n",
      "   - certifi\n",
      "   - openssl\n",
      "\n",
      "\n",
      "  Package                  Version  Build            Channel                    Size\n",
      "──────────────────────────────────────────────────────────────────────────────────────\n",
      "  Install:\n",
      "──────────────────────────────────────────────────────────────────────────────────────\n",
      "\n",
      "  + aiofiles                23.1.0  pyhd8ed1ab_1     conda-forge/noarch         18kB\n",
      "  + aiohttp                  3.8.4  py310h1fa729e_0  conda-forge/linux-64      445kB\n",
      "  + aiosignal                1.3.1  pyhd8ed1ab_0     conda-forge/noarch         13kB\n",
      "  + aiosqlite               0.19.0  pyhd8ed1ab_0     conda-forge/noarch         19kB\n",
      "  + anyio                    3.7.0  pyhd8ed1ab_1     conda-forge/noarch         97kB\n",
      "  + apprise                  1.4.0  pyhd8ed1ab_0     conda-forge/noarch          1MB\n",
      "  + asgi-lifespan            2.1.0  pyhd8ed1ab_0     conda-forge/noarch         15kB\n",
      "  + async-exit-stack         1.0.1  pyhd8ed1ab_0     conda-forge/noarch          9kB\n",
      "  + async-timeout            4.0.2  pyhd8ed1ab_0     conda-forge/noarch          9kB\n",
      "  + asyncpg                 0.27.0  py310h5764c6d_1  conda-forge/linux-64      651kB\n",
      "  + attrs                   23.1.0  pyh71513ae_1     conda-forge/noarch         55kB\n",
      "  + cached-property          1.5.2  hd8ed1ab_1       conda-forge/noarch          4kB\n",
      "  + cached_property          1.5.2  pyha770c72_1     conda-forge/noarch         11kB\n",
      "  + cachetools               5.3.0  pyhd8ed1ab_0     conda-forge/noarch         14kB\n",
      "  + coolname                 2.2.0  pyhd8ed1ab_0     conda-forge/noarch         38kB\n",
      "  + croniter                1.3.15  pyhd8ed1ab_0     conda-forge/noarch         36kB\n",
      "  + dataclasses                0.8  pyhc8e2a94_3     conda-forge/noarch         10kB\n",
      "  + dateparser               1.1.8  pyhd8ed1ab_0     conda-forge/noarch        172kB\n",
      "  + exceptiongroup           1.1.1  pyhd8ed1ab_0     conda-forge/noarch         19kB\n",
      "  + fastapi                 0.96.0  pyhd8ed1ab_0     conda-forge/noarch         50kB\n",
      "  + frozenlist               1.3.3  py310h5764c6d_0  conda-forge/linux-64       45kB\n",
      "  + google-auth             2.19.1  pyh1a96a4e_0     conda-forge/noarch        101kB\n",
      "  + griffe                  0.21.0  pyhd8ed1ab_1     conda-forge/noarch         59kB\n",
      "  + h11                     0.14.0  pyhd8ed1ab_0     conda-forge/noarch         48kB\n",
      "  + h2                       4.1.0  pyhd8ed1ab_0     conda-forge/noarch         47kB\n",
      "  + hpack                    4.0.0  pyh9f0ad1d_0     conda-forge/noarch         25kB\n",
      "  + httpcore                0.17.2  pyhd8ed1ab_0     conda-forge/noarch         42kB\n",
      "  + httpx                   0.24.1  pyhd8ed1ab_0     conda-forge/noarch         65kB\n",
      "  + hyperframe               6.0.1  pyhd8ed1ab_0     conda-forge/noarch         15kB\n",
      "  + importlib_metadata       6.0.0  hd8ed1ab_0       conda-forge/noarch          9kB\n",
      "  + importlib_resources     5.12.0  pyhd8ed1ab_0     conda-forge/noarch       Cached\n",
      "  + jsonpatch                 1.32  pyhd8ed1ab_0     conda-forge/noarch         15kB\n",
      "  + jsonpointer                2.0  py_0             conda-forge/noarch          9kB\n",
      "  + jsonschema              4.17.3  pyhd8ed1ab_0     conda-forge/noarch         70kB\n",
      "  + markdown-it-py           2.2.0  pyhd8ed1ab_0     conda-forge/noarch         62kB\n",
      "  + mdurl                    0.1.0  pyhd8ed1ab_0     conda-forge/noarch         14kB\n",
      "  + multidict                6.0.4  py310h1fa729e_0  conda-forge/linux-64       53kB\n",
      "  + orjson                   3.9.0  py310h1e2579a_0  conda-forge/linux-64      255kB\n",
      "  + pathspec                0.11.1  pyhd8ed1ab_0     conda-forge/noarch         38kB\n",
      "  + pendulum                 2.1.2  py310h1fa729e_5  conda-forge/linux-64      168kB\n",
      "  + pkgutil-resolve-name    1.3.10  pyhd8ed1ab_0     conda-forge/noarch          9kB\n",
      "  + prefect                2.10.12  pyhd8ed1ab_0     conda-forge/noarch          2MB\n",
      "  + pyasn1                   0.4.8  py_0             conda-forge/noarch         54kB\n",
      "  + pyasn1-modules           0.2.7  py_0             conda-forge/noarch         61kB\n",
      "  + pydantic                1.10.8  py310h2372a71_0  conda-forge/linux-64        2MB\n",
      "  + pyrsistent              0.19.3  py310h1fa729e_0  conda-forge/linux-64      100kB\n",
      "  + python-kubernetes       26.1.0  pyhd8ed1ab_0     conda-forge/noarch        407kB\n",
      "  + python-slugify           8.0.1  pyhd8ed1ab_1     conda-forge/noarch         18kB\n",
      "  + pytzdata                2020.1  pyh9f0ad1d_0     conda-forge/noarch        220kB\n",
      "  + pyu2f                    0.1.5  pyhd8ed1ab_0     conda-forge/noarch         32kB\n",
      "  + readchar                 4.0.5  pyhd8ed1ab_0     conda-forge/noarch         14kB\n",
      "  + regex                 2023.6.3  py310h2372a71_0  conda-forge/linux-64      346kB\n",
      "  + requests-oauthlib        1.3.1  pyhd8ed1ab_0     conda-forge/noarch         22kB\n",
      "  + rich                    13.4.1  pyhd8ed1ab_0     conda-forge/noarch        184kB\n",
      "  + rsa                        4.9  pyhd8ed1ab_0     conda-forge/noarch         30kB\n",
      "  + shellingham              1.5.1  pyhd8ed1ab_0     conda-forge/noarch         14kB\n",
      "  + sniffio                  1.3.0  pyhd8ed1ab_0     conda-forge/noarch         14kB\n",
      "  + starlette               0.27.0  pyhd8ed1ab_0     conda-forge/noarch         55kB\n",
      "  + text-unidecode             1.3  py_0             conda-forge/noarch         70kB\n",
      "  + toml                    0.10.2  pyhd8ed1ab_0     conda-forge/noarch         18kB\n",
      "  + typer                    0.9.0  pyhd8ed1ab_0     conda-forge/noarch         79kB\n",
      "  + typing-extensions        4.6.3  hd8ed1ab_0       conda-forge/noarch         10kB\n",
      "  + typing_extensions        4.6.3  pyha770c72_0     conda-forge/noarch         35kB\n",
      "  + tzlocal                  5.0.1  py310hff52083_0  conda-forge/linux-64       38kB\n",
      "  + unidecode                1.3.6  pyhd8ed1ab_0     conda-forge/noarch        164kB\n",
      "  + uvicorn                 0.22.0  py310hff52083_0  conda-forge/linux-64       95kB\n",
      "  + websockets              11.0.3  py310h2372a71_0  conda-forge/linux-64      160kB\n",
      "  + yarl                     1.9.2  py310h2372a71_0  conda-forge/linux-64       97kB\n",
      "\n",
      "  Upgrade:\n",
      "──────────────────────────────────────────────────────────────────────────────────────\n",
      "\n",
      "  - openssl                  3.1.0  hd590300_3       conda-forge                    \n",
      "  + openssl                  3.1.1  hd590300_1       conda-forge/linux-64        3MB\n",
      "\n",
      "  Summary:\n",
      "\n",
      "  Install: 68 packages\n",
      "  Upgrade: 1 packages\n",
      "\n",
      "  Total download: 13MB\n",
      "\n",
      "──────────────────────────────────────────────────────────────────────────────────────\n",
      "\n",
      "\n",
      "Confirm changes: [Y/n] \n",
      "Downloading and Extracting Packages\n",
      "\n",
      "Preparing transaction: ...working... done\n",
      "Verifying transaction: ...working... done\n",
      "Executing transaction: ...working... done\n"
     ]
    }
   ],
   "source": [
    "%%bash\n",
    "mamba install -c conda-forge prefect"
   ]
  },
  {
   "cell_type": "markdown",
   "id": "d722e7f8-2ad9-4a90-b548-64ef255c2566",
   "metadata": {},
   "source": [
    "### Import"
   ]
  },
  {
   "cell_type": "code",
   "execution_count": 27,
   "id": "1f935ee9-169e-45bd-9d02-abc806bb9c08",
   "metadata": {
    "execution": {
     "iopub.execute_input": "2023-06-18T20:16:09.014050Z",
     "iopub.status.busy": "2023-06-18T20:16:09.013916Z",
     "iopub.status.idle": "2023-06-18T20:16:09.024030Z",
     "shell.execute_reply": "2023-06-18T20:16:09.023788Z",
     "shell.execute_reply.started": "2023-06-18T20:16:09.014042Z"
    },
    "tags": []
   },
   "outputs": [],
   "source": [
    "import re\n",
    "import time\n",
    "import random\n",
    "import warnings\n",
    "import mlflow\n",
    "import pandas as pd\n",
    "import pickle as pkl\n",
    "import pandas as pd\n",
    "import numpy as np\n",
    "import seaborn as sns\n",
    "import matplotlib.pyplot as plt\n",
    "import xgboost as xgb\n",
    "from utils import save_obj, load_obj, run_api\n",
    "from hyperopt import fmin, tpe, hp, STATUS_OK, Trials\n",
    "from hyperopt.pyll import scope\n",
    "from sklearn.feature_extraction import DictVectorizer\n",
    "from sklearn.linear_model import Ridge, Lasso, LinearRegression\n",
    "from sklearn.model_selection import train_test_split\n",
    "from sklearn.metrics import mean_squared_error\n",
    "from tqdm import tqdm"
   ]
  },
  {
   "cell_type": "markdown",
   "id": "42b0d872-1027-4c14-8bd8-3d0b21d5617b",
   "metadata": {},
   "source": [
    "### Configuration / API"
   ]
  },
  {
   "cell_type": "code",
   "execution_count": 28,
   "id": "3b44ce39-daa5-493e-990c-5615bf7c263c",
   "metadata": {
    "execution": {
     "iopub.execute_input": "2023-06-18T20:16:10.049339Z",
     "iopub.status.busy": "2023-06-18T20:16:10.049173Z",
     "iopub.status.idle": "2023-06-18T20:16:10.060522Z",
     "shell.execute_reply": "2023-06-18T20:16:10.060269Z",
     "shell.execute_reply.started": "2023-06-18T20:16:10.049330Z"
    },
    "tags": []
   },
   "outputs": [
    {
     "name": "stdout",
     "output_type": "stream",
     "text": [
      "The autoreload extension is already loaded. To reload it, use:\n",
      "  %reload_ext autoreload\n"
     ]
    }
   ],
   "source": [
    "# Autoreload extension\n",
    "if 'autoreload' not in get_ipython().extension_manager.loaded:\n",
    "    %load_ext autoreload\n",
    "%autoreload 2\n",
    "\n",
    "# Pandas\n",
    "pd.set_option('max_colwidth', 999)\n",
    "pd.set_option('display.max_columns', None)\n",
    "pd.set_option('display.max_rows', 200)\n",
    "pd.set_option('display.float_format', lambda x: '%.5f' % x)\n",
    "\n",
    "\n",
    "# Future Warning\n",
    "warnings.simplefilter(action='ignore', category=FutureWarning)\n",
    "warnings.filterwarnings('ignore')\n",
    "\n",
    "# # # Torch Version\n",
    "# print(f\"Torch Version: {torch. __version__}\")\n",
    "\n",
    "# # # Torch Cuda Available\n",
    "# torch.cuda.is_available()"
   ]
  },
  {
   "cell_type": "code",
   "execution_count": 63,
   "id": "ecf74ab4-104d-48e3-85fe-8dd3697b8393",
   "metadata": {
    "execution": {
     "iopub.execute_input": "2023-06-18T22:41:12.261402Z",
     "iopub.status.busy": "2023-06-18T22:41:12.261203Z",
     "iopub.status.idle": "2023-06-18T22:41:12.273881Z",
     "shell.execute_reply": "2023-06-18T22:41:12.273531Z",
     "shell.execute_reply.started": "2023-06-18T22:41:12.261388Z"
    },
    "tags": []
   },
   "outputs": [
    {
     "data": {
      "text/plain": [
       "{'/home/leobit/Development/mlops-zoomcamp/model'}"
      ]
     },
     "execution_count": 63,
     "metadata": {},
     "output_type": "execute_result"
    }
   ],
   "source": [
    "{M_PATH.as_posix()}"
   ]
  },
  {
   "cell_type": "code",
   "execution_count": 65,
   "id": "766aa4e1-defc-4e6e-bfb4-f8e3fde8d494",
   "metadata": {
    "execution": {
     "iopub.execute_input": "2023-06-18T22:41:52.821180Z",
     "iopub.status.busy": "2023-06-18T22:41:52.820986Z",
     "iopub.status.idle": "2023-06-18T22:41:52.837814Z",
     "shell.execute_reply": "2023-06-18T22:41:52.837509Z",
     "shell.execute_reply.started": "2023-06-18T22:41:52.821167Z"
    }
   },
   "outputs": [
    {
     "data": {
      "text/plain": [
       "pathlib.PosixPath"
      ]
     },
     "execution_count": 65,
     "metadata": {},
     "output_type": "execute_result"
    }
   ],
   "source": [
    "type(M_PATH)"
   ]
  },
  {
   "cell_type": "code",
   "execution_count": 64,
   "id": "671d90ff-f29c-48d7-8070-4f3be08d769c",
   "metadata": {
    "execution": {
     "iopub.execute_input": "2023-06-18T22:41:17.682396Z",
     "iopub.status.busy": "2023-06-18T22:41:17.682193Z",
     "iopub.status.idle": "2023-06-18T22:41:17.693809Z",
     "shell.execute_reply": "2023-06-18T22:41:17.693449Z",
     "shell.execute_reply.started": "2023-06-18T22:41:17.682381Z"
    }
   },
   "outputs": [
    {
     "data": {
      "text/plain": [
       "PosixPath('/home/leobit/Development/mlops-zoomcamp')"
      ]
     },
     "execution_count": 64,
     "metadata": {},
     "output_type": "execute_result"
    }
   ],
   "source": [
    "M_PATH.parent"
   ]
  },
  {
   "cell_type": "code",
   "execution_count": 56,
   "id": "0ee14f6e-8202-42cd-8a07-777230d4ab96",
   "metadata": {
    "execution": {
     "iopub.execute_input": "2023-06-18T21:06:07.943616Z",
     "iopub.status.busy": "2023-06-18T21:06:07.943438Z",
     "iopub.status.idle": "2023-06-18T21:06:07.960803Z",
     "shell.execute_reply": "2023-06-18T21:06:07.960180Z",
     "shell.execute_reply.started": "2023-06-18T21:06:07.943607Z"
    },
    "tags": []
   },
   "outputs": [
    {
     "name": "stdout",
     "output_type": "stream",
     "text": [
      "[2023-06-18 18:06:08 -0300] [208564] [INFO] Starting gunicorn 20.1.0\n",
      "\n",
      "[2023-06-18 18:06:08 -0300] [208564] [INFO] Listening at: http://127.0.0.1:5000 (208564)\n",
      "\n",
      "[2023-06-18 18:06:08 -0300] [208564] [INFO] Using worker: sync\n",
      "\n",
      "[2023-06-18 18:06:08 -0300] [208567] [INFO] Booting worker with pid: 208567\n",
      "\n",
      "[2023-06-18 18:06:08 -0300] [208568] [INFO] Booting worker with pid: 208568\n",
      "\n",
      "[2023-06-18 18:06:08 -0300] [208569] [INFO] Booting worker with pid: 208569\n",
      "\n",
      "[2023-06-18 18:06:08 -0300] [208593] [INFO] Booting worker with pid: 208593\n",
      "\n"
     ]
    },
    {
     "name": "stderr",
     "output_type": "stream",
     "text": [
      "Process Process-4:\n",
      "Traceback (most recent call last):\n",
      "  File \"/home/leobit/miniconda3/envs/cond_mlopszoomcamp_env/lib/python3.10/multiprocessing/process.py\", line 314, in _bootstrap\n",
      "    self.run()\n",
      "  File \"/home/leobit/miniconda3/envs/cond_mlopszoomcamp_env/lib/python3.10/multiprocessing/process.py\", line 108, in run\n",
      "    self._target(*self._args, **self._kwargs)\n",
      "  File \"/home/leobit/Development/mlops-zoomcamp/scripts/utils.py\", line 69, in call\n",
      "    for line in iter(p.stdout.readline, b''):\n",
      "KeyboardInterrupt\n"
     ]
    }
   ],
   "source": [
    "# MLFlow API Run\n",
    "MLFLOW_SQL_PATH = f\"sqlite:///{M_PATH.as_posix()}/mlflow.db\"\n",
    "cmd = f\"mlflow ui --backend-store-uri {MLFLOW_SQL_PATH}\"\n",
    "run_api(cmd)"
   ]
  },
  {
   "cell_type": "code",
   "execution_count": null,
   "id": "afbcc283-97f9-4e3f-93e3-e776fd3d20be",
   "metadata": {
    "tags": []
   },
   "outputs": [],
   "source": [
    "# MLFLow Experiment Set\n",
    "mlflow.set_tracking_uri(MLFLOW_SQL_PATH)\n",
    "mlflow.set_experiment(\"nyc-taxi-experiment\")"
   ]
  },
  {
   "cell_type": "code",
   "execution_count": 54,
   "id": "d3dc2821-20ec-46b8-b8ed-83ea2b62052e",
   "metadata": {
    "execution": {
     "iopub.execute_input": "2023-06-18T21:05:39.078964Z",
     "iopub.status.busy": "2023-06-18T21:05:39.078787Z",
     "iopub.status.idle": "2023-06-18T21:05:39.095730Z",
     "shell.execute_reply": "2023-06-18T21:05:39.095236Z",
     "shell.execute_reply.started": "2023-06-18T21:05:39.078955Z"
    },
    "tags": []
   },
   "outputs": [
    {
     "name": "stdout",
     "output_type": "stream",
     "text": [
      "\n",
      "\n",
      " ___ ___ ___ ___ ___ ___ _____ \n",
      "\n",
      "| _ \\ _ \\ __| __| __/ __|_   _| \n",
      "\n",
      "|  _/   / _|| _|| _| (__  | |  \n",
      "\n",
      "|_| |_|_\\___|_| |___\\___| |_|  \n",
      "\n",
      "\n",
      "\n",
      "Configure Prefect to communicate with the server with:\n",
      "\n",
      "\n",
      "\n",
      "    prefect config set PREFECT_API_URL=http://127.0.0.1:4200/api\n",
      "\n",
      "\n",
      "\n",
      "View the API reference documentation at http://127.0.0.1:4200/docs\n",
      "\n",
      "\n",
      "\n",
      "Check out the dashboard at http://127.0.0.1:4200\n",
      "\n",
      "\n",
      "\n",
      "\n",
      "\n",
      "\n",
      "\n"
     ]
    },
    {
     "name": "stderr",
     "output_type": "stream",
     "text": [
      "Process Process-3:\n",
      "Traceback (most recent call last):\n",
      "  File \"/home/leobit/miniconda3/envs/cond_mlopszoomcamp_env/lib/python3.10/multiprocessing/process.py\", line 314, in _bootstrap\n",
      "    self.run()\n",
      "  File \"/home/leobit/miniconda3/envs/cond_mlopszoomcamp_env/lib/python3.10/multiprocessing/process.py\", line 108, in run\n",
      "    self._target(*self._args, **self._kwargs)\n",
      "  File \"/home/leobit/Development/mlops-zoomcamp/scripts/utils.py\", line 69, in call\n",
      "    for line in iter(p.stdout.readline, b''):\n",
      "KeyboardInterrupt\n"
     ]
    }
   ],
   "source": [
    "# Prefect API Run\n",
    "cmd = f\"prefect server start\"\n",
    "run_api(cmd)"
   ]
  },
  {
   "cell_type": "code",
   "execution_count": 55,
   "id": "38b2d1ed-6850-45dc-9db7-10e0b074df68",
   "metadata": {
    "execution": {
     "iopub.execute_input": "2023-06-18T21:05:41.516278Z",
     "iopub.status.busy": "2023-06-18T21:05:41.516023Z",
     "iopub.status.idle": "2023-06-18T21:05:42.271473Z",
     "shell.execute_reply": "2023-06-18T21:05:42.271052Z",
     "shell.execute_reply.started": "2023-06-18T21:05:41.516265Z"
    },
    "tags": []
   },
   "outputs": [
    {
     "name": "stdout",
     "output_type": "stream",
     "text": [
      "Set 'PREFECT_API_URL' to 'http://127.0.0.1:4200/api'.\n",
      "\u001b[32mUpdated profile 'default'.\u001b[0m\n"
     ]
    }
   ],
   "source": [
    "# Prefect Set Api Url\n",
    "!prefect config set PREFECT_API_URL=http://127.0.0.1:4200/api"
   ]
  },
  {
   "cell_type": "markdown",
   "id": "19e093c5-bdbb-407d-8985-5ee83769f59e",
   "metadata": {},
   "source": [
    "# Topic 3.2"
   ]
  },
  {
   "cell_type": "code",
   "execution_count": 14,
   "id": "833f0a22-1f40-49f7-add8-c2e02825caed",
   "metadata": {
    "execution": {
     "iopub.execute_input": "2023-06-18T15:41:30.557991Z",
     "iopub.status.busy": "2023-06-18T15:41:30.557708Z",
     "iopub.status.idle": "2023-06-18T15:41:30.570479Z",
     "shell.execute_reply": "2023-06-18T15:41:30.570081Z",
     "shell.execute_reply.started": "2023-06-18T15:41:30.557971Z"
    }
   },
   "outputs": [],
   "source": [
    "topic_3_2_path = (S_PATH / 'orchestration' / '3.2')"
   ]
  },
  {
   "cell_type": "code",
   "execution_count": 18,
   "id": "3b018dc7-6599-40de-b3f5-123e73554f18",
   "metadata": {
    "execution": {
     "iopub.execute_input": "2023-06-07T22:20:01.274701Z",
     "iopub.status.busy": "2023-06-07T22:20:01.274412Z",
     "iopub.status.idle": "2023-06-07T22:20:05.810931Z",
     "shell.execute_reply": "2023-06-07T22:20:05.809626Z",
     "shell.execute_reply.started": "2023-06-07T22:20:01.274681Z"
    },
    "tags": []
   },
   "outputs": [
    {
     "name": "stdout",
     "output_type": "stream",
     "text": [
      "19:20:02.190 | \u001b[36mINFO\u001b[0m    | prefect.engine - Created flow run\u001b[35m 'woodoo-chupacabra'\u001b[0m for flow\u001b[1;35m 'fetch'\u001b[0m\n",
      "19:20:02.191 | \u001b[36mINFO\u001b[0m    | Flow run\u001b[35m 'woodoo-chupacabra'\u001b[0m - View at \u001b[94mhttp://127.0.0.1:4200/flow-runs/flow-run/731a5b0e-2bf6-4af6-b78f-846830f20043\u001b[0m\n",
      "19:20:02.256 | \u001b[36mINFO\u001b[0m    | Flow run\u001b[35m 'woodoo-chupacabra'\u001b[0m - Created task run 'fetch_cat_fact-0' for task 'fetch_cat_fact'\n",
      "19:20:02.256 | \u001b[36mINFO\u001b[0m    | Flow run\u001b[35m 'woodoo-chupacabra'\u001b[0m - Executing 'fetch_cat_fact-0' immediately...\n",
      "19:20:05.541 | \u001b[36mINFO\u001b[0m    | Task run 'fetch_cat_fact-0' - On average, cats spend 2/3 of every day sleeping. That means a nine-year-old cat has been awake for only three years of its life.\n",
      "19:20:05.556 | \u001b[36mINFO\u001b[0m    | Task run 'fetch_cat_fact-0' - Finished in state \u001b[32mCompleted\u001b[0m()\n",
      "19:20:05.570 | \u001b[36mINFO\u001b[0m    | Flow run\u001b[35m 'woodoo-chupacabra'\u001b[0m - Finished in state \u001b[32mCompleted\u001b[0m('All states completed.')\n"
     ]
    }
   ],
   "source": [
    "!python {(S_PATH / 'orchestration' / '3.2' / 'cat_facts.py').as_posix()}"
   ]
  },
  {
   "cell_type": "code",
   "execution_count": 19,
   "id": "e15f4210-fc39-4932-a71b-b5166f9ddf69",
   "metadata": {
    "execution": {
     "iopub.execute_input": "2023-06-08T00:04:00.655618Z",
     "iopub.status.busy": "2023-06-08T00:04:00.655343Z",
     "iopub.status.idle": "2023-06-08T00:04:04.211719Z",
     "shell.execute_reply": "2023-06-08T00:04:04.210800Z",
     "shell.execute_reply.started": "2023-06-08T00:04:00.655602Z"
    }
   },
   "outputs": [
    {
     "name": "stdout",
     "output_type": "stream",
     "text": [
      "21:04:01.688 | \u001b[36mINFO\u001b[0m    | prefect.engine - Created flow run\u001b[35m 'boisterous-alligator'\u001b[0m for flow\u001b[1;35m 'animal-facts'\u001b[0m\n",
      "21:04:01.689 | \u001b[36mINFO\u001b[0m    | Flow run\u001b[35m 'boisterous-alligator'\u001b[0m - View at \u001b[94mhttp://127.0.0.1:4200/flow-runs/flow-run/32fc4c76-2537-4191-b744-5730b90e51ba\u001b[0m\n",
      "21:04:01.784 | \u001b[36mINFO\u001b[0m    | Flow run\u001b[35m 'boisterous-alligator'\u001b[0m - Created subflow run\u001b[35m 'belligerent-beetle'\u001b[0m for flow\u001b[1;35m 'fetch-cat-fact'\u001b[0m\n",
      "21:04:01.784 | \u001b[36mINFO\u001b[0m    | Flow run\u001b[35m 'belligerent-beetle'\u001b[0m - View at \u001b[94mhttp://127.0.0.1:4200/flow-runs/flow-run/638d3381-16fc-4793-a8d2-e943bacf1e0c\u001b[0m\n",
      "21:04:02.630 | \u001b[36mINFO\u001b[0m    | Flow run\u001b[35m 'belligerent-beetle'\u001b[0m - Finished in state \u001b[32mCompleted\u001b[0m()\n",
      "21:04:02.678 | \u001b[36mINFO\u001b[0m    | Flow run\u001b[35m 'boisterous-alligator'\u001b[0m - Created subflow run\u001b[35m 'cherry-skua'\u001b[0m for flow\u001b[1;35m 'fetch-dog-fact'\u001b[0m\n",
      "21:04:02.679 | \u001b[36mINFO\u001b[0m    | Flow run\u001b[35m 'cherry-skua'\u001b[0m - View at \u001b[94mhttp://127.0.0.1:4200/flow-runs/flow-run/1319ced0-ad44-4de8-9687-81fb05acaad7\u001b[0m\n",
      "21:04:03.890 | \u001b[36mINFO\u001b[0m    | Flow run\u001b[35m 'cherry-skua'\u001b[0m - Finished in state \u001b[32mCompleted\u001b[0m()\n",
      "21:04:03.890 | \u001b[36mINFO\u001b[0m    | Flow run\u001b[35m 'boisterous-alligator'\u001b[0m - 🐱: Your cat's heart beats at a rate almost double that of yours, from 110-140 beats per minute.\n",
      "🐶: There are about 400 million dogs in the world.\n",
      "21:04:03.909 | \u001b[36mINFO\u001b[0m    | Flow run\u001b[35m 'boisterous-alligator'\u001b[0m - Finished in state \u001b[32mCompleted\u001b[0m('All states completed.')\n"
     ]
    }
   ],
   "source": [
    "!python {(S_PATH / 'orchestration' / '3.2' / 'cat_dog_facts.py').as_posix()}"
   ]
  },
  {
   "cell_type": "markdown",
   "id": "000a98ee-1ecd-4998-9cc4-1326100a1049",
   "metadata": {
    "tags": []
   },
   "source": [
    "# Topic 3.3"
   ]
  },
  {
   "cell_type": "code",
   "execution_count": 57,
   "id": "d34e202e-fbe9-4540-8d93-826d8a65a91f",
   "metadata": {
    "collapsed": true,
    "execution": {
     "iopub.execute_input": "2023-06-18T21:06:23.937445Z",
     "iopub.status.busy": "2023-06-18T21:06:23.937313Z",
     "iopub.status.idle": "2023-06-18T21:06:29.408163Z",
     "shell.execute_reply": "2023-06-18T21:06:29.405902Z",
     "shell.execute_reply.started": "2023-06-18T21:06:23.937437Z"
    },
    "jupyter": {
     "outputs_hidden": true
    },
    "tags": []
   },
   "outputs": [
    {
     "name": "stdout",
     "output_type": "stream",
     "text": [
      "[18:06:25] WARNING: /croot/xgboost-split_1675457761144/work/src/objective/regression_obj.cu:213: reg:linear is now deprecated in favor of reg:squarederror.\n",
      "[0]\tvalidation-rmse:19.48425\n",
      "[1]\tvalidation-rmse:17.95635\n",
      "[2]\tvalidation-rmse:16.59103\n",
      "[3]\tvalidation-rmse:15.37412\n",
      "[4]\tvalidation-rmse:14.29029\n",
      "[5]\tvalidation-rmse:13.32807\n",
      "[6]\tvalidation-rmse:12.47571\n",
      "[7]\tvalidation-rmse:11.72138\n",
      "[8]\tvalidation-rmse:11.05825\n",
      "[9]\tvalidation-rmse:10.47535\n",
      "[10]\tvalidation-rmse:9.96449\n",
      "[11]\tvalidation-rmse:9.51756\n",
      "[12]\tvalidation-rmse:9.12641\n",
      "[13]\tvalidation-rmse:8.78569\n",
      "[14]\tvalidation-rmse:8.49089\n",
      "[15]\tvalidation-rmse:8.23445\n",
      "[16]\tvalidation-rmse:8.01207\n",
      "[17]\tvalidation-rmse:7.81886\n",
      "[18]\tvalidation-rmse:7.65169\n",
      "[19]\tvalidation-rmse:7.50672\n",
      "[20]\tvalidation-rmse:7.38153\n",
      "[21]\tvalidation-rmse:7.27299\n",
      "[22]\tvalidation-rmse:7.17863\n",
      "[23]\tvalidation-rmse:7.09718\n",
      "[24]\tvalidation-rmse:7.02603\n",
      "[25]\tvalidation-rmse:6.96344\n",
      "[26]\tvalidation-rmse:6.90935\n",
      "[27]\tvalidation-rmse:6.86285\n",
      "[28]\tvalidation-rmse:6.82157\n",
      "[29]\tvalidation-rmse:6.78486\n",
      "[30]\tvalidation-rmse:6.75283\n",
      "[31]\tvalidation-rmse:6.72433\n",
      "[32]\tvalidation-rmse:6.69838\n",
      "[33]\tvalidation-rmse:6.67599\n",
      "[34]\tvalidation-rmse:6.65632\n",
      "[35]\tvalidation-rmse:6.63968\n",
      "[36]\tvalidation-rmse:6.62456\n",
      "[37]\tvalidation-rmse:6.61030\n",
      "[38]\tvalidation-rmse:6.59833\n",
      "[39]\tvalidation-rmse:6.58671\n",
      "[40]\tvalidation-rmse:6.57678\n",
      "[41]\tvalidation-rmse:6.56792\n",
      "[42]\tvalidation-rmse:6.56024\n",
      "[43]\tvalidation-rmse:6.55307\n",
      "[44]\tvalidation-rmse:6.54644\n",
      "[45]\tvalidation-rmse:6.54087\n",
      "[46]\tvalidation-rmse:6.53587\n",
      "[47]\tvalidation-rmse:6.53128\n",
      "[48]\tvalidation-rmse:6.52719\n",
      "[49]\tvalidation-rmse:6.52427\n",
      "[50]\tvalidation-rmse:6.52098\n",
      "[51]\tvalidation-rmse:6.51875\n",
      "[52]\tvalidation-rmse:6.51547\n",
      "[53]\tvalidation-rmse:6.51333\n",
      "[54]\tvalidation-rmse:6.51034\n",
      "[55]\tvalidation-rmse:6.50826\n",
      "[56]\tvalidation-rmse:6.50668\n",
      "[57]\tvalidation-rmse:6.50477\n",
      "[58]\tvalidation-rmse:6.50288\n",
      "[59]\tvalidation-rmse:6.50114\n",
      "[60]\tvalidation-rmse:6.49931\n",
      "[61]\tvalidation-rmse:6.49758\n",
      "[62]\tvalidation-rmse:6.49577\n",
      "[63]\tvalidation-rmse:6.49364\n",
      "[64]\tvalidation-rmse:6.49179\n",
      "[65]\tvalidation-rmse:6.49031\n",
      "[66]\tvalidation-rmse:6.48955\n",
      "[67]\tvalidation-rmse:6.48814\n",
      "[68]\tvalidation-rmse:6.48684\n",
      "[69]\tvalidation-rmse:6.48526\n",
      "[70]\tvalidation-rmse:6.48384\n",
      "[71]\tvalidation-rmse:6.48249\n",
      "[72]\tvalidation-rmse:6.48180\n",
      "[73]\tvalidation-rmse:6.48127\n",
      "[74]\tvalidation-rmse:6.48053\n",
      "[75]\tvalidation-rmse:6.47965\n",
      "[76]\tvalidation-rmse:6.47878\n",
      "[77]\tvalidation-rmse:6.47808\n",
      "[78]\tvalidation-rmse:6.47695\n",
      "[79]\tvalidation-rmse:6.47605\n",
      "[80]\tvalidation-rmse:6.47528\n",
      "[81]\tvalidation-rmse:6.47416\n",
      "[82]\tvalidation-rmse:6.47331\n",
      "[83]\tvalidation-rmse:6.47237\n",
      "[84]\tvalidation-rmse:6.47146\n",
      "[85]\tvalidation-rmse:6.47022\n",
      "[86]\tvalidation-rmse:6.46934\n",
      "[87]\tvalidation-rmse:6.46830\n",
      "[88]\tvalidation-rmse:6.46799\n",
      "[89]\tvalidation-rmse:6.46740\n",
      "[90]\tvalidation-rmse:6.46645\n",
      "[91]\tvalidation-rmse:6.46556\n",
      "[92]\tvalidation-rmse:6.46451\n",
      "[93]\tvalidation-rmse:6.46355\n",
      "[94]\tvalidation-rmse:6.46222\n",
      "[95]\tvalidation-rmse:6.46134\n",
      "[96]\tvalidation-rmse:6.46099\n",
      "[97]\tvalidation-rmse:6.46062\n",
      "[98]\tvalidation-rmse:6.46009\n",
      "[99]\tvalidation-rmse:6.45985\n",
      "/home/leobit/miniconda3/envs/cond_mlopszoomcamp_env/lib/python3.10/site-packages/_distutils_hack/__init__.py:33: UserWarning: Setuptools is replacing distutils.\n",
      "  warnings.warn(\"Setuptools is replacing distutils.\")\n"
     ]
    }
   ],
   "source": [
    "!python {(S_PATH / 'orchestration' / '3.3' / 'orchestrate_pre_prefect.py').as_posix()}"
   ]
  },
  {
   "cell_type": "code",
   "execution_count": 59,
   "id": "a9a53e27-9a50-4fb3-bd6b-e29f3734d0b4",
   "metadata": {
    "collapsed": true,
    "execution": {
     "iopub.execute_input": "2023-06-18T21:18:02.850327Z",
     "iopub.status.busy": "2023-06-18T21:18:02.850193Z",
     "iopub.status.idle": "2023-06-18T21:18:09.020521Z",
     "shell.execute_reply": "2023-06-18T21:18:09.019902Z",
     "shell.execute_reply.started": "2023-06-18T21:18:02.850319Z"
    },
    "jupyter": {
     "outputs_hidden": true
    },
    "tags": []
   },
   "outputs": [
    {
     "name": "stdout",
     "output_type": "stream",
     "text": [
      "18:18:04.355 | \u001b[36mINFO\u001b[0m    | prefect.engine - Created flow run\u001b[35m 'elastic-skylark'\u001b[0m for flow\u001b[1;35m 'main-flow'\u001b[0m\n",
      "18:18:04.357 | \u001b[36mINFO\u001b[0m    | Flow run\u001b[35m 'elastic-skylark'\u001b[0m - View at \u001b[94mhttp://127.0.0.1:4200/flow-runs/flow-run/113217e6-dfeb-4c86-ab78-ad5beebc24b5\u001b[0m\n",
      "2023/06/18 18:18:04 INFO mlflow.tracking.fluent: Experiment with name 'nyc-taxi-experiment' does not exist. Creating a new experiment.\n",
      "18:18:04.446 | \u001b[36mINFO\u001b[0m    | Flow run\u001b[35m 'elastic-skylark'\u001b[0m - Created task run 'read_data-0' for task 'read_data'\n",
      "18:18:04.446 | \u001b[36mINFO\u001b[0m    | Flow run\u001b[35m 'elastic-skylark'\u001b[0m - Executing 'read_data-0' immediately...\n",
      "18:18:04.665 | \u001b[36mINFO\u001b[0m    | Task run 'read_data-0' - Finished in state \u001b[32mCompleted\u001b[0m()\n",
      "18:18:04.678 | \u001b[36mINFO\u001b[0m    | Flow run\u001b[35m 'elastic-skylark'\u001b[0m - Created task run 'read_data-1' for task 'read_data'\n",
      "18:18:04.678 | \u001b[36mINFO\u001b[0m    | Flow run\u001b[35m 'elastic-skylark'\u001b[0m - Executing 'read_data-1' immediately...\n",
      "18:18:04.842 | \u001b[36mINFO\u001b[0m    | Task run 'read_data-1' - Finished in state \u001b[32mCompleted\u001b[0m()\n",
      "18:18:04.854 | \u001b[36mINFO\u001b[0m    | Flow run\u001b[35m 'elastic-skylark'\u001b[0m - Created task run 'add_features-0' for task 'add_features'\n",
      "18:18:04.854 | \u001b[36mINFO\u001b[0m    | Flow run\u001b[35m 'elastic-skylark'\u001b[0m - Executing 'add_features-0' immediately...\n",
      "18:18:05.107 | \u001b[36mINFO\u001b[0m    | Task run 'add_features-0' - Finished in state \u001b[32mCompleted\u001b[0m()\n",
      "18:18:05.119 | \u001b[36mINFO\u001b[0m    | Flow run\u001b[35m 'elastic-skylark'\u001b[0m - Created task run 'train_best_model-0' for task 'train_best_model'\n",
      "18:18:05.119 | \u001b[36mINFO\u001b[0m    | Flow run\u001b[35m 'elastic-skylark'\u001b[0m - Executing 'train_best_model-0' immediately...\n",
      "[18:18:05] WARNING: /croot/xgboost-split_1675457761144/work/src/objective/regression_obj.cu:213: reg:linear is now deprecated in favor of reg:squarederror.\n",
      "18:18:05.227 | \u001b[36mINFO\u001b[0m    | Task run 'train_best_model-0' - [0]    validation-rmse:19.48425\n",
      "18:18:05.274 | \u001b[36mINFO\u001b[0m    | Task run 'train_best_model-0' - [1]    validation-rmse:17.95635\n",
      "18:18:05.337 | \u001b[36mINFO\u001b[0m    | Task run 'train_best_model-0' - [2]    validation-rmse:16.59103\n",
      "18:18:05.384 | \u001b[36mINFO\u001b[0m    | Task run 'train_best_model-0' - [3]    validation-rmse:15.37412\n",
      "18:18:05.432 | \u001b[36mINFO\u001b[0m    | Task run 'train_best_model-0' - [4]    validation-rmse:14.29029\n",
      "18:18:05.480 | \u001b[36mINFO\u001b[0m    | Task run 'train_best_model-0' - [5]    validation-rmse:13.32807\n",
      "18:18:05.526 | \u001b[36mINFO\u001b[0m    | Task run 'train_best_model-0' - [6]    validation-rmse:12.47571\n",
      "18:18:05.569 | \u001b[36mINFO\u001b[0m    | Task run 'train_best_model-0' - [7]    validation-rmse:11.72138\n",
      "18:18:05.612 | \u001b[36mINFO\u001b[0m    | Task run 'train_best_model-0' - [8]    validation-rmse:11.05825\n",
      "18:18:05.652 | \u001b[36mINFO\u001b[0m    | Task run 'train_best_model-0' - [9]    validation-rmse:10.47535\n",
      "18:18:05.691 | \u001b[36mINFO\u001b[0m    | Task run 'train_best_model-0' - [10]   validation-rmse:9.96449\n",
      "18:18:05.731 | \u001b[36mINFO\u001b[0m    | Task run 'train_best_model-0' - [11]   validation-rmse:9.51756\n",
      "18:18:05.772 | \u001b[36mINFO\u001b[0m    | Task run 'train_best_model-0' - [12]   validation-rmse:9.12641\n",
      "18:18:05.811 | \u001b[36mINFO\u001b[0m    | Task run 'train_best_model-0' - [13]   validation-rmse:8.78569\n",
      "18:18:05.850 | \u001b[36mINFO\u001b[0m    | Task run 'train_best_model-0' - [14]   validation-rmse:8.49089\n",
      "18:18:05.886 | \u001b[36mINFO\u001b[0m    | Task run 'train_best_model-0' - [15]   validation-rmse:8.23445\n",
      "18:18:05.924 | \u001b[36mINFO\u001b[0m    | Task run 'train_best_model-0' - [16]   validation-rmse:8.01207\n",
      "18:18:05.958 | \u001b[36mINFO\u001b[0m    | Task run 'train_best_model-0' - [17]   validation-rmse:7.81886\n",
      "18:18:05.992 | \u001b[36mINFO\u001b[0m    | Task run 'train_best_model-0' - [18]   validation-rmse:7.65169\n",
      "18:18:06.024 | \u001b[36mINFO\u001b[0m    | Task run 'train_best_model-0' - [19]   validation-rmse:7.50672\n",
      "18:18:06.053 | \u001b[36mINFO\u001b[0m    | Task run 'train_best_model-0' - [20]   validation-rmse:7.38153\n",
      "18:18:06.085 | \u001b[36mINFO\u001b[0m    | Task run 'train_best_model-0' - [21]   validation-rmse:7.27299\n",
      "18:18:06.114 | \u001b[36mINFO\u001b[0m    | Task run 'train_best_model-0' - [22]   validation-rmse:7.17863\n",
      "18:18:06.141 | \u001b[36mINFO\u001b[0m    | Task run 'train_best_model-0' - [23]   validation-rmse:7.09718\n",
      "18:18:06.170 | \u001b[36mINFO\u001b[0m    | Task run 'train_best_model-0' - [24]   validation-rmse:7.02603\n",
      "18:18:06.200 | \u001b[36mINFO\u001b[0m    | Task run 'train_best_model-0' - [25]   validation-rmse:6.96344\n",
      "18:18:06.226 | \u001b[36mINFO\u001b[0m    | Task run 'train_best_model-0' - [26]   validation-rmse:6.90935\n",
      "18:18:06.252 | \u001b[36mINFO\u001b[0m    | Task run 'train_best_model-0' - [27]   validation-rmse:6.86285\n",
      "18:18:06.281 | \u001b[36mINFO\u001b[0m    | Task run 'train_best_model-0' - [28]   validation-rmse:6.82157\n",
      "18:18:06.307 | \u001b[36mINFO\u001b[0m    | Task run 'train_best_model-0' - [29]   validation-rmse:6.78486\n",
      "18:18:06.332 | \u001b[36mINFO\u001b[0m    | Task run 'train_best_model-0' - [30]   validation-rmse:6.75283\n",
      "18:18:06.356 | \u001b[36mINFO\u001b[0m    | Task run 'train_best_model-0' - [31]   validation-rmse:6.72433\n",
      "18:18:06.379 | \u001b[36mINFO\u001b[0m    | Task run 'train_best_model-0' - [32]   validation-rmse:6.69838\n",
      "18:18:06.402 | \u001b[36mINFO\u001b[0m    | Task run 'train_best_model-0' - [33]   validation-rmse:6.67599\n",
      "18:18:06.429 | \u001b[36mINFO\u001b[0m    | Task run 'train_best_model-0' - [34]   validation-rmse:6.65632\n",
      "18:18:06.452 | \u001b[36mINFO\u001b[0m    | Task run 'train_best_model-0' - [35]   validation-rmse:6.63968\n",
      "18:18:06.473 | \u001b[36mINFO\u001b[0m    | Task run 'train_best_model-0' - [36]   validation-rmse:6.62456\n",
      "18:18:06.495 | \u001b[36mINFO\u001b[0m    | Task run 'train_best_model-0' - [37]   validation-rmse:6.61030\n",
      "18:18:06.517 | \u001b[36mINFO\u001b[0m    | Task run 'train_best_model-0' - [38]   validation-rmse:6.59833\n",
      "18:18:06.537 | \u001b[36mINFO\u001b[0m    | Task run 'train_best_model-0' - [39]   validation-rmse:6.58671\n",
      "18:18:06.556 | \u001b[36mINFO\u001b[0m    | Task run 'train_best_model-0' - [40]   validation-rmse:6.57678\n",
      "18:18:06.576 | \u001b[36mINFO\u001b[0m    | Task run 'train_best_model-0' - [41]   validation-rmse:6.56792\n",
      "18:18:06.593 | \u001b[36mINFO\u001b[0m    | Task run 'train_best_model-0' - [42]   validation-rmse:6.56024\n",
      "18:18:06.613 | \u001b[36mINFO\u001b[0m    | Task run 'train_best_model-0' - [43]   validation-rmse:6.55307\n",
      "18:18:06.633 | \u001b[36mINFO\u001b[0m    | Task run 'train_best_model-0' - [44]   validation-rmse:6.54644\n",
      "18:18:06.653 | \u001b[36mINFO\u001b[0m    | Task run 'train_best_model-0' - [45]   validation-rmse:6.54087\n",
      "18:18:06.672 | \u001b[36mINFO\u001b[0m    | Task run 'train_best_model-0' - [46]   validation-rmse:6.53587\n",
      "18:18:06.688 | \u001b[36mINFO\u001b[0m    | Task run 'train_best_model-0' - [47]   validation-rmse:6.53128\n",
      "18:18:06.704 | \u001b[36mINFO\u001b[0m    | Task run 'train_best_model-0' - [48]   validation-rmse:6.52719\n",
      "18:18:06.720 | \u001b[36mINFO\u001b[0m    | Task run 'train_best_model-0' - [49]   validation-rmse:6.52427\n",
      "18:18:06.736 | \u001b[36mINFO\u001b[0m    | Task run 'train_best_model-0' - [50]   validation-rmse:6.52098\n",
      "18:18:06.751 | \u001b[36mINFO\u001b[0m    | Task run 'train_best_model-0' - [51]   validation-rmse:6.51875\n",
      "18:18:06.772 | \u001b[36mINFO\u001b[0m    | Task run 'train_best_model-0' - [52]   validation-rmse:6.51547\n",
      "18:18:06.789 | \u001b[36mINFO\u001b[0m    | Task run 'train_best_model-0' - [53]   validation-rmse:6.51333\n",
      "18:18:06.806 | \u001b[36mINFO\u001b[0m    | Task run 'train_best_model-0' - [54]   validation-rmse:6.51034\n",
      "18:18:06.824 | \u001b[36mINFO\u001b[0m    | Task run 'train_best_model-0' - [55]   validation-rmse:6.50826\n",
      "18:18:06.842 | \u001b[36mINFO\u001b[0m    | Task run 'train_best_model-0' - [56]   validation-rmse:6.50668\n",
      "18:18:06.858 | \u001b[36mINFO\u001b[0m    | Task run 'train_best_model-0' - [57]   validation-rmse:6.50477\n",
      "18:18:06.874 | \u001b[36mINFO\u001b[0m    | Task run 'train_best_model-0' - [58]   validation-rmse:6.50288\n",
      "18:18:06.890 | \u001b[36mINFO\u001b[0m    | Task run 'train_best_model-0' - [59]   validation-rmse:6.50114\n",
      "18:18:06.907 | \u001b[36mINFO\u001b[0m    | Task run 'train_best_model-0' - [60]   validation-rmse:6.49931\n",
      "18:18:06.923 | \u001b[36mINFO\u001b[0m    | Task run 'train_best_model-0' - [61]   validation-rmse:6.49758\n",
      "18:18:06.939 | \u001b[36mINFO\u001b[0m    | Task run 'train_best_model-0' - [62]   validation-rmse:6.49577\n",
      "18:18:06.956 | \u001b[36mINFO\u001b[0m    | Task run 'train_best_model-0' - [63]   validation-rmse:6.49364\n",
      "18:18:06.973 | \u001b[36mINFO\u001b[0m    | Task run 'train_best_model-0' - [64]   validation-rmse:6.49179\n",
      "18:18:06.990 | \u001b[36mINFO\u001b[0m    | Task run 'train_best_model-0' - [65]   validation-rmse:6.49031\n",
      "18:18:07.007 | \u001b[36mINFO\u001b[0m    | Task run 'train_best_model-0' - [66]   validation-rmse:6.48955\n",
      "18:18:07.025 | \u001b[36mINFO\u001b[0m    | Task run 'train_best_model-0' - [67]   validation-rmse:6.48814\n",
      "18:18:07.043 | \u001b[36mINFO\u001b[0m    | Task run 'train_best_model-0' - [68]   validation-rmse:6.48684\n",
      "18:18:07.062 | \u001b[36mINFO\u001b[0m    | Task run 'train_best_model-0' - [69]   validation-rmse:6.48526\n",
      "18:18:07.079 | \u001b[36mINFO\u001b[0m    | Task run 'train_best_model-0' - [70]   validation-rmse:6.48384\n",
      "18:18:07.097 | \u001b[36mINFO\u001b[0m    | Task run 'train_best_model-0' - [71]   validation-rmse:6.48249\n",
      "18:18:07.116 | \u001b[36mINFO\u001b[0m    | Task run 'train_best_model-0' - [72]   validation-rmse:6.48180\n",
      "18:18:07.134 | \u001b[36mINFO\u001b[0m    | Task run 'train_best_model-0' - [73]   validation-rmse:6.48127\n",
      "18:18:07.153 | \u001b[36mINFO\u001b[0m    | Task run 'train_best_model-0' - [74]   validation-rmse:6.48053\n",
      "18:18:07.171 | \u001b[36mINFO\u001b[0m    | Task run 'train_best_model-0' - [75]   validation-rmse:6.47965\n",
      "18:18:07.189 | \u001b[36mINFO\u001b[0m    | Task run 'train_best_model-0' - [76]   validation-rmse:6.47878\n",
      "18:18:07.205 | \u001b[36mINFO\u001b[0m    | Task run 'train_best_model-0' - [77]   validation-rmse:6.47808\n",
      "18:18:07.222 | \u001b[36mINFO\u001b[0m    | Task run 'train_best_model-0' - [78]   validation-rmse:6.47695\n",
      "18:18:07.238 | \u001b[36mINFO\u001b[0m    | Task run 'train_best_model-0' - [79]   validation-rmse:6.47605\n",
      "18:18:07.255 | \u001b[36mINFO\u001b[0m    | Task run 'train_best_model-0' - [80]   validation-rmse:6.47528\n",
      "18:18:07.272 | \u001b[36mINFO\u001b[0m    | Task run 'train_best_model-0' - [81]   validation-rmse:6.47416\n",
      "18:18:07.289 | \u001b[36mINFO\u001b[0m    | Task run 'train_best_model-0' - [82]   validation-rmse:6.47331\n",
      "18:18:07.305 | \u001b[36mINFO\u001b[0m    | Task run 'train_best_model-0' - [83]   validation-rmse:6.47237\n",
      "18:18:07.322 | \u001b[36mINFO\u001b[0m    | Task run 'train_best_model-0' - [84]   validation-rmse:6.47146\n",
      "18:18:07.339 | \u001b[36mINFO\u001b[0m    | Task run 'train_best_model-0' - [85]   validation-rmse:6.47022\n",
      "18:18:07.355 | \u001b[36mINFO\u001b[0m    | Task run 'train_best_model-0' - [86]   validation-rmse:6.46934\n",
      "18:18:07.371 | \u001b[36mINFO\u001b[0m    | Task run 'train_best_model-0' - [87]   validation-rmse:6.46830\n",
      "18:18:07.388 | \u001b[36mINFO\u001b[0m    | Task run 'train_best_model-0' - [88]   validation-rmse:6.46799\n",
      "18:18:07.404 | \u001b[36mINFO\u001b[0m    | Task run 'train_best_model-0' - [89]   validation-rmse:6.46740\n",
      "18:18:07.421 | \u001b[36mINFO\u001b[0m    | Task run 'train_best_model-0' - [90]   validation-rmse:6.46645\n",
      "18:18:07.438 | \u001b[36mINFO\u001b[0m    | Task run 'train_best_model-0' - [91]   validation-rmse:6.46556\n",
      "18:18:07.456 | \u001b[36mINFO\u001b[0m    | Task run 'train_best_model-0' - [92]   validation-rmse:6.46451\n",
      "18:18:07.473 | \u001b[36mINFO\u001b[0m    | Task run 'train_best_model-0' - [93]   validation-rmse:6.46355\n",
      "18:18:07.491 | \u001b[36mINFO\u001b[0m    | Task run 'train_best_model-0' - [94]   validation-rmse:6.46222\n",
      "18:18:07.509 | \u001b[36mINFO\u001b[0m    | Task run 'train_best_model-0' - [95]   validation-rmse:6.46134\n",
      "18:18:07.526 | \u001b[36mINFO\u001b[0m    | Task run 'train_best_model-0' - [96]   validation-rmse:6.46099\n",
      "18:18:07.543 | \u001b[36mINFO\u001b[0m    | Task run 'train_best_model-0' - [97]   validation-rmse:6.46062\n",
      "18:18:07.561 | \u001b[36mINFO\u001b[0m    | Task run 'train_best_model-0' - [98]   validation-rmse:6.46009\n",
      "18:18:07.579 | \u001b[36mINFO\u001b[0m    | Task run 'train_best_model-0' - [99]   validation-rmse:6.45985\n",
      "/home/leobit/miniconda3/envs/cond_mlopszoomcamp_env/lib/python3.10/site-packages/_distutils_hack/__init__.py:33: UserWarning: Setuptools is replacing distutils.\n",
      "  warnings.warn(\"Setuptools is replacing distutils.\")\n",
      "18:18:08.544 | \u001b[36mINFO\u001b[0m    | Task run 'train_best_model-0' - Finished in state \u001b[32mCompleted\u001b[0m()\n",
      "18:18:08.560 | \u001b[36mINFO\u001b[0m    | Flow run\u001b[35m 'elastic-skylark'\u001b[0m - Finished in state \u001b[32mCompleted\u001b[0m('All states completed.')\n"
     ]
    }
   ],
   "source": [
    "!python {(S_PATH / 'orchestration' / '3.3' / 'orchestrate.py').as_posix()}"
   ]
  },
  {
   "cell_type": "markdown",
   "id": "31a7ed54-6b3b-404d-b8ca-9a23e06266e8",
   "metadata": {
    "tags": []
   },
   "source": [
    "# Topic 3.4"
   ]
  },
  {
   "cell_type": "code",
   "execution_count": 60,
   "id": "a8e67732-e5c5-483c-80c5-14b9b9b985c0",
   "metadata": {
    "execution": {
     "iopub.execute_input": "2023-06-18T21:23:42.331064Z",
     "iopub.status.busy": "2023-06-18T21:23:42.330871Z",
     "iopub.status.idle": "2023-06-18T21:23:42.459947Z",
     "shell.execute_reply": "2023-06-18T21:23:42.459423Z",
     "shell.execute_reply.started": "2023-06-18T21:23:42.331050Z"
    }
   },
   "outputs": [
    {
     "name": "stdout",
     "output_type": "stream",
     "text": [
      "df.xlsx      mlruns  module_1_2_nyc_taxi_analysis.ipynb  sqlite:\n",
      "mlartifacts  models  module_3.ipynb\n"
     ]
    }
   ],
   "source": [
    "!"
   ]
  },
  {
   "cell_type": "markdown",
   "id": "5e0e69e1-47cf-4609-a473-b19c3bb7e388",
   "metadata": {},
   "source": [
    "# Data Visualization"
   ]
  },
  {
   "cell_type": "markdown",
   "id": "e67f9b05-ec56-478c-bf50-214ae75e017d",
   "metadata": {},
   "source": [
    "# Data Wrangling"
   ]
  },
  {
   "cell_type": "markdown",
   "id": "f0d67d95-7cf1-4321-bfca-8dccf2c4e6ea",
   "metadata": {},
   "source": [
    "# Feature Engineering"
   ]
  },
  {
   "cell_type": "markdown",
   "id": "21ff8d17-8c2a-427e-963e-42377d7805fd",
   "metadata": {},
   "source": [
    "# Modeling"
   ]
  },
  {
   "cell_type": "markdown",
   "id": "4a4690a5-e59a-4bee-8385-205d888fc0cb",
   "metadata": {},
   "source": [
    "# Evaluation"
   ]
  }
 ],
 "metadata": {
  "kernelspec": {
   "display_name": "Python [conda env:cond_mlopszoomcamp_env]",
   "language": "python",
   "name": "conda-env-cond_mlopszoomcamp_env-py"
  },
  "language_info": {
   "codemirror_mode": {
    "name": "ipython",
    "version": 3
   },
   "file_extension": ".py",
   "mimetype": "text/x-python",
   "name": "python",
   "nbconvert_exporter": "python",
   "pygments_lexer": "ipython3",
   "version": "3.10.11"
  }
 },
 "nbformat": 4,
 "nbformat_minor": 5
}
